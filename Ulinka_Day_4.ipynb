{
 "cells": [
  {
   "cell_type": "markdown",
   "id": "consolidated-creation",
   "metadata": {},
   "source": [
    "# **OOP**\n",
    "+ Nesne tabanlı programlama\n"
   ]
  },
  {
   "cell_type": "markdown",
   "id": "logical-sudan",
   "metadata": {},
   "source": [
    "#### **class**\n"
   ]
  },
  {
   "cell_type": "code",
   "execution_count": 1,
   "id": "finite-queensland",
   "metadata": {},
   "outputs": [],
   "source": [
    "#class ile yeni bir veri tipi oluşturuyoruz ve özelliklerini tanımlıyoruz\n",
    "class üye():\n",
    "    isim =  \"A.Emirhan\"\n",
    "    soyisim = \"GÜLEÇ\"\n",
    "    komite = \"Marketing\"\n",
    "    numara = 123"
   ]
  },
  {
   "cell_type": "code",
   "execution_count": 2,
   "id": "annoying-cemetery",
   "metadata": {},
   "outputs": [],
   "source": [
    "a = üye() #a isimli bir obje oluşturuyoruz"
   ]
  },
  {
   "cell_type": "code",
   "execution_count": 3,
   "id": "sexual-franchise",
   "metadata": {},
   "outputs": [
    {
     "name": "stdout",
     "output_type": "stream",
     "text": [
      "<__main__.üye object at 0x00000148DC5A4DF0>\n"
     ]
    }
   ],
   "source": [
    "print(a) #üye veritipiyle bir obje oluşturduğumuzu görüyoruz"
   ]
  },
  {
   "cell_type": "code",
   "execution_count": 4,
   "id": "distributed-denial",
   "metadata": {},
   "outputs": [
    {
     "data": {
      "text/plain": [
       "__main__.üye"
      ]
     },
     "execution_count": 4,
     "metadata": {},
     "output_type": "execute_result"
    }
   ],
   "source": [
    "type(a)"
   ]
  },
  {
   "cell_type": "code",
   "execution_count": 5,
   "id": "disturbed-sheffield",
   "metadata": {},
   "outputs": [
    {
     "data": {
      "text/plain": [
       "'A.Emirhan'"
      ]
     },
     "execution_count": 5,
     "metadata": {},
     "output_type": "execute_result"
    }
   ],
   "source": [
    "a.isim"
   ]
  },
  {
   "cell_type": "code",
   "execution_count": 6,
   "id": "atmospheric-stock",
   "metadata": {},
   "outputs": [
    {
     "data": {
      "text/plain": [
       "'Marketing'"
      ]
     },
     "execution_count": 6,
     "metadata": {},
     "output_type": "execute_result"
    }
   ],
   "source": [
    "a.komite"
   ]
  },
  {
   "cell_type": "code",
   "execution_count": 7,
   "id": "medium-chick",
   "metadata": {},
   "outputs": [],
   "source": [
    "b = üye() #Aynı değerler atanır"
   ]
  },
  {
   "cell_type": "code",
   "execution_count": 8,
   "id": "senior-spelling",
   "metadata": {},
   "outputs": [
    {
     "data": {
      "text/plain": [
       "'A.Emirhan'"
      ]
     },
     "execution_count": 8,
     "metadata": {},
     "output_type": "execute_result"
    }
   ],
   "source": [
    "b.isim"
   ]
  },
  {
   "cell_type": "code",
   "execution_count": 9,
   "id": "thrown-contribution",
   "metadata": {},
   "outputs": [
    {
     "data": {
      "text/plain": [
       "['__class__',\n",
       " '__delattr__',\n",
       " '__dict__',\n",
       " '__dir__',\n",
       " '__doc__',\n",
       " '__eq__',\n",
       " '__format__',\n",
       " '__ge__',\n",
       " '__getattribute__',\n",
       " '__gt__',\n",
       " '__hash__',\n",
       " '__init__',\n",
       " '__init_subclass__',\n",
       " '__le__',\n",
       " '__lt__',\n",
       " '__module__',\n",
       " '__ne__',\n",
       " '__new__',\n",
       " '__reduce__',\n",
       " '__reduce_ex__',\n",
       " '__repr__',\n",
       " '__setattr__',\n",
       " '__sizeof__',\n",
       " '__str__',\n",
       " '__subclasshook__',\n",
       " '__weakref__',\n",
       " 'isim',\n",
       " 'komite',\n",
       " 'numara',\n",
       " 'soyisim']"
      ]
     },
     "execution_count": 9,
     "metadata": {},
     "output_type": "execute_result"
    }
   ],
   "source": [
    "dir(a) #dir yardımıyla objemizde neler var görebiliriz"
   ]
  },
  {
   "cell_type": "code",
   "execution_count": 10,
   "id": "veterinary-tissue",
   "metadata": {},
   "outputs": [
    {
     "ename": "TypeError",
     "evalue": "üye() takes no arguments",
     "output_type": "error",
     "traceback": [
      "\u001b[1;31m---------------------------------------------------------------------------\u001b[0m",
      "\u001b[1;31mTypeError\u001b[0m                                 Traceback (most recent call last)",
      "\u001b[1;32m<ipython-input-10-d399860b43b7>\u001b[0m in \u001b[0;36m<module>\u001b[1;34m\u001b[0m\n\u001b[1;32m----> 1\u001b[1;33m \u001b[0mx\u001b[0m \u001b[1;33m=\u001b[0m \u001b[0müye\u001b[0m\u001b[1;33m(\u001b[0m\u001b[1;34m\"Batuhan\"\u001b[0m\u001b[1;33m,\u001b[0m\u001b[1;34m\"Kaplan\"\u001b[0m\u001b[1;33m,\u001b[0m\u001b[1;34m\"HR\"\u001b[0m\u001b[1;33m,\u001b[0m\u001b[1;36m123\u001b[0m\u001b[1;33m)\u001b[0m \u001b[1;31m#Farklı değerler atamamıza şu an izin verilmiyor.\u001b[0m\u001b[1;33m\u001b[0m\u001b[1;33m\u001b[0m\u001b[0m\n\u001b[0m",
      "\u001b[1;31mTypeError\u001b[0m: üye() takes no arguments"
     ]
    }
   ],
   "source": [
    "x = üye(\"Batuhan\",\"Kaplan\",\"HR\",123) #Farklı değerler atamamıza şu an izin verilmiyor."
   ]
  },
  {
   "cell_type": "code",
   "execution_count": 11,
   "id": "important-syndicate",
   "metadata": {},
   "outputs": [],
   "source": [
    "#__init__ fonksiyonunu da kullanarak yeni bir class oluşturuyoruz \n",
    "class üye():\n",
    "    def __init__(self,isim,soyisim,komite,numara):\n",
    "        self.isim = isim\n",
    "        self.soyisim = soyisim\n",
    "        self.komite = komite\n",
    "        self.numara = numara"
   ]
  },
  {
   "cell_type": "code",
   "execution_count": 12,
   "id": "pregnant-index",
   "metadata": {},
   "outputs": [],
   "source": [
    "üyeBilgileri = üye(\"Emirhan\",\"GÜLEÇ\",\"Sponsorluk & Etkinlik\",158)"
   ]
  },
  {
   "cell_type": "code",
   "execution_count": 13,
   "id": "noticed-pharmacology",
   "metadata": {},
   "outputs": [
    {
     "data": {
      "text/plain": [
       "'Emirhan'"
      ]
     },
     "execution_count": 13,
     "metadata": {},
     "output_type": "execute_result"
    }
   ],
   "source": [
    "üyeBilgileri.isim"
   ]
  },
  {
   "cell_type": "code",
   "execution_count": 14,
   "id": "agreed-oriental",
   "metadata": {},
   "outputs": [
    {
     "data": {
      "text/plain": [
       "'GÜLEÇ'"
      ]
     },
     "execution_count": 14,
     "metadata": {},
     "output_type": "execute_result"
    }
   ],
   "source": [
    "üyeBilgileri.soyisim"
   ]
  },
  {
   "cell_type": "code",
   "execution_count": 15,
   "id": "original-notebook",
   "metadata": {},
   "outputs": [
    {
     "data": {
      "text/plain": [
       "158"
      ]
     },
     "execution_count": 15,
     "metadata": {},
     "output_type": "execute_result"
    }
   ],
   "source": [
    "üyeBilgileri.numara"
   ]
  },
  {
   "cell_type": "code",
   "execution_count": 16,
   "id": "mediterranean-marine",
   "metadata": {},
   "outputs": [],
   "source": [
    "üyeBilgileri2 = üye(\"Batuhan\",\"KAPLAN\",\"İnsan Kaynakları\",123) "
   ]
  },
  {
   "cell_type": "code",
   "execution_count": 17,
   "id": "organized-murder",
   "metadata": {},
   "outputs": [
    {
     "data": {
      "text/plain": [
       "'Batuhan'"
      ]
     },
     "execution_count": 17,
     "metadata": {},
     "output_type": "execute_result"
    }
   ],
   "source": [
    "üyeBilgileri2.isim"
   ]
  },
  {
   "cell_type": "code",
   "execution_count": 18,
   "id": "stylish-intent",
   "metadata": {},
   "outputs": [
    {
     "data": {
      "text/plain": [
       "'KAPLAN'"
      ]
     },
     "execution_count": 18,
     "metadata": {},
     "output_type": "execute_result"
    }
   ],
   "source": [
    "üyeBilgileri2.soyisim"
   ]
  },
  {
   "cell_type": "code",
   "execution_count": 19,
   "id": "female-significance",
   "metadata": {},
   "outputs": [
    {
     "data": {
      "text/plain": [
       "'İnsan Kaynakları'"
      ]
     },
     "execution_count": 19,
     "metadata": {},
     "output_type": "execute_result"
    }
   ],
   "source": [
    "üyeBilgileri2.komite"
   ]
  },
  {
   "cell_type": "code",
   "execution_count": 20,
   "id": "spatial-guyana",
   "metadata": {},
   "outputs": [
    {
     "name": "stdout",
     "output_type": "stream",
     "text": [
      "<__main__.üye object at 0x00000148DC59E130>\n"
     ]
    }
   ],
   "source": [
    "print(üyeBilgileri2)"
   ]
  },
  {
   "cell_type": "code",
   "execution_count": 21,
   "id": "applied-lawrence",
   "metadata": {},
   "outputs": [],
   "source": [
    "#class'a istediğimiz kadar metod tanımlayabiliriz.\n",
    "class üye():\n",
    "    def __init__(self,isim,soyisim,komite,numara):\n",
    "        self.isim = isim\n",
    "        self.soyisim = soyisim\n",
    "        self.komite = komite\n",
    "        self.numara = numara\n",
    "    def yazdır(self):\n",
    "        print(\"\"\"\n",
    "        Üye Bilgileri\n",
    "        \n",
    "        İsim: {}\n",
    "        \n",
    "        Soyisim: {}\n",
    "        \n",
    "        Komite: {}\n",
    "        \n",
    "        Numara: {}\n",
    "        \"\"\".format(self.isim,self.soyisim,self.komite,self.numara))"
   ]
  },
  {
   "cell_type": "code",
   "execution_count": 22,
   "id": "controlled-lithuania",
   "metadata": {},
   "outputs": [],
   "source": [
    "üyeBilgileri = üye(\"Emirhan\",\"GÜLEÇ\",\"İnsan Kaynakları\",158)"
   ]
  },
  {
   "cell_type": "code",
   "execution_count": 23,
   "id": "great-discipline",
   "metadata": {},
   "outputs": [
    {
     "name": "stdout",
     "output_type": "stream",
     "text": [
      "\n",
      "        Üye Bilgileri\n",
      "        \n",
      "        İsim: Emirhan\n",
      "        \n",
      "        Soyisim: GÜLEÇ\n",
      "        \n",
      "        Komite: İnsan Kaynakları\n",
      "        \n",
      "        Numara: 158\n",
      "        \n"
     ]
    }
   ],
   "source": [
    "üyeBilgileri.yazdır()"
   ]
  },
  {
   "cell_type": "code",
   "execution_count": 24,
   "id": "visible-hearts",
   "metadata": {},
   "outputs": [
    {
     "data": {
      "text/plain": [
       "'Emirhan'"
      ]
     },
     "execution_count": 24,
     "metadata": {},
     "output_type": "execute_result"
    }
   ],
   "source": [
    "üyeBilgileri.isim"
   ]
  },
  {
   "cell_type": "code",
   "execution_count": 25,
   "id": "fiscal-builder",
   "metadata": {},
   "outputs": [],
   "source": [
    "class üye():\n",
    "    def __init__(self,isim,soyisim,komite,numara):\n",
    "        self.isim = isim\n",
    "        self.soyisim = soyisim\n",
    "        self.komite = komite\n",
    "        self.numara = numara\n",
    "    def yazdır(self):\n",
    "        print(\"\"\"\n",
    "        Üye Bilgileri\n",
    "        \n",
    "        İsim: {}\n",
    "        \n",
    "        Soyisim: {}\n",
    "        \n",
    "        Komite: {}\n",
    "        \n",
    "        Numara: {}\n",
    "        \"\"\".format(self.isim,self.soyisim,self.komite,self.numara))\n",
    "    def komiteDegistir(self,yeniKomite):\n",
    "        self.komite = yeniKomite"
   ]
  },
  {
   "cell_type": "code",
   "execution_count": 26,
   "id": "deluxe-organizer",
   "metadata": {},
   "outputs": [],
   "source": [
    "üyeBilgileri2 = üye(\"Emirhan\",\"GÜLEÇ\",\"Marketing\",158)"
   ]
  },
  {
   "cell_type": "code",
   "execution_count": 27,
   "id": "increased-equation",
   "metadata": {},
   "outputs": [
    {
     "name": "stdout",
     "output_type": "stream",
     "text": [
      "\n",
      "        Üye Bilgileri\n",
      "        \n",
      "        İsim: Emirhan\n",
      "        \n",
      "        Soyisim: GÜLEÇ\n",
      "        \n",
      "        Komite: Marketing\n",
      "        \n",
      "        Numara: 158\n",
      "        \n"
     ]
    }
   ],
   "source": [
    "üyeBilgileri2.yazdır()"
   ]
  },
  {
   "cell_type": "code",
   "execution_count": 28,
   "id": "aerial-luxembourg",
   "metadata": {},
   "outputs": [],
   "source": [
    "üyeBilgileri2.komiteDegistir(\"IT\")"
   ]
  },
  {
   "cell_type": "code",
   "execution_count": 29,
   "id": "editorial-extreme",
   "metadata": {},
   "outputs": [
    {
     "name": "stdout",
     "output_type": "stream",
     "text": [
      "\n",
      "        Üye Bilgileri\n",
      "        \n",
      "        İsim: Emirhan\n",
      "        \n",
      "        Soyisim: GÜLEÇ\n",
      "        \n",
      "        Komite: IT\n",
      "        \n",
      "        Numara: 158\n",
      "        \n"
     ]
    }
   ],
   "source": [
    "üyeBilgileri2.yazdır()"
   ]
  },
  {
   "cell_type": "markdown",
   "id": "lasting-liberty",
   "metadata": {},
   "source": [
    "#### **inheritance**\n",
    "+ farklı bir class'ın özelliklerini yeni oluşturacağımız class'a tanımlayabiliyoruz"
   ]
  },
  {
   "cell_type": "code",
   "execution_count": 30,
   "id": "answering-december",
   "metadata": {},
   "outputs": [],
   "source": [
    "class üye():\n",
    "    def __init__(self,isim,soyisim,komite,numara):\n",
    "        self.isim = isim\n",
    "        self.soyisim = soyisim\n",
    "        self.komite = komite\n",
    "        self.numara = numara\n",
    "    def yazdır(self):\n",
    "        print(\"\"\"\n",
    "        Üye Bilgileri\n",
    "        \n",
    "        İsim: {}\n",
    "        \n",
    "        Soyisim: {}\n",
    "        \n",
    "        Komite: {}\n",
    "        \n",
    "        Numara: {}\n",
    "        \"\"\".format(self.isim,self.soyisim,self.komite,self.numara))\n",
    "    def komiteDegistir(self,yeniKomite):\n",
    "        self.komite = yeniKomite"
   ]
  },
  {
   "cell_type": "code",
   "execution_count": 31,
   "id": "existing-whale",
   "metadata": {},
   "outputs": [],
   "source": [
    "class yk(üye):\n",
    "    pass #pass ile metod eklemeden inheritance metoduyla yeni bir class oluşturuyoruz"
   ]
  },
  {
   "cell_type": "code",
   "execution_count": 32,
   "id": "brown-invasion",
   "metadata": {},
   "outputs": [],
   "source": [
    "a = yk(\"Emirhan\", \"GÜLEÇ\", \"Kurumsal İletişim\", 456)"
   ]
  },
  {
   "cell_type": "code",
   "execution_count": 33,
   "id": "built-apparatus",
   "metadata": {},
   "outputs": [
    {
     "name": "stdout",
     "output_type": "stream",
     "text": [
      "\n",
      "        Üye Bilgileri\n",
      "        \n",
      "        İsim: Emirhan\n",
      "        \n",
      "        Soyisim: GÜLEÇ\n",
      "        \n",
      "        Komite: Kurumsal İletişim\n",
      "        \n",
      "        Numara: 456\n",
      "        \n"
     ]
    }
   ],
   "source": [
    "a.yazdır()"
   ]
  },
  {
   "cell_type": "code",
   "execution_count": 34,
   "id": "inside-bosnia",
   "metadata": {},
   "outputs": [],
   "source": [
    "a.komiteDegistir(\"HR\")"
   ]
  },
  {
   "cell_type": "code",
   "execution_count": 35,
   "id": "proof-timothy",
   "metadata": {},
   "outputs": [
    {
     "name": "stdout",
     "output_type": "stream",
     "text": [
      "\n",
      "        Üye Bilgileri\n",
      "        \n",
      "        İsim: Emirhan\n",
      "        \n",
      "        Soyisim: GÜLEÇ\n",
      "        \n",
      "        Komite: HR\n",
      "        \n",
      "        Numara: 456\n",
      "        \n"
     ]
    }
   ],
   "source": [
    "a.yazdır()"
   ]
  },
  {
   "cell_type": "code",
   "execution_count": 36,
   "id": "soviet-basic",
   "metadata": {},
   "outputs": [],
   "source": [
    "#inheritance metodunu kullandığımız class'ımıza yeni metodlar ekliyoruz\n",
    "class yk(üye):\n",
    "    def noDegistir(self,no):\n",
    "        self.numara = no"
   ]
  },
  {
   "cell_type": "code",
   "execution_count": 37,
   "id": "exempt-cleanup",
   "metadata": {},
   "outputs": [],
   "source": [
    "yk1 = yk(\"Emirhan\", \"GÜLEÇ\", \"Kurumsal İletişim\", 456)"
   ]
  },
  {
   "cell_type": "code",
   "execution_count": 38,
   "id": "cooperative-adapter",
   "metadata": {},
   "outputs": [
    {
     "name": "stdout",
     "output_type": "stream",
     "text": [
      "\n",
      "        Üye Bilgileri\n",
      "        \n",
      "        İsim: Emirhan\n",
      "        \n",
      "        Soyisim: GÜLEÇ\n",
      "        \n",
      "        Komite: Kurumsal İletişim\n",
      "        \n",
      "        Numara: 456\n",
      "        \n"
     ]
    }
   ],
   "source": [
    "yk1.yazdır()"
   ]
  },
  {
   "cell_type": "code",
   "execution_count": 39,
   "id": "persistent-lithuania",
   "metadata": {},
   "outputs": [],
   "source": [
    "yk1.noDegistir(123)"
   ]
  },
  {
   "cell_type": "code",
   "execution_count": 40,
   "id": "developmental-funeral",
   "metadata": {},
   "outputs": [
    {
     "name": "stdout",
     "output_type": "stream",
     "text": [
      "\n",
      "        Üye Bilgileri\n",
      "        \n",
      "        İsim: Emirhan\n",
      "        \n",
      "        Soyisim: GÜLEÇ\n",
      "        \n",
      "        Komite: Kurumsal İletişim\n",
      "        \n",
      "        Numara: 123\n",
      "        \n"
     ]
    }
   ],
   "source": [
    "yk1.yazdır()"
   ]
  },
  {
   "cell_type": "code",
   "execution_count": 41,
   "id": "undefined-introduction",
   "metadata": {},
   "outputs": [],
   "source": [
    "üye1 = üye(\"Emirhan\", \"GÜLEÇ\", \"Kurumsal İletişim\", 456) #üye class'ı için deneyelim"
   ]
  },
  {
   "cell_type": "code",
   "execution_count": 42,
   "id": "other-gibraltar",
   "metadata": {},
   "outputs": [
    {
     "name": "stdout",
     "output_type": "stream",
     "text": [
      "\n",
      "        Üye Bilgileri\n",
      "        \n",
      "        İsim: Emirhan\n",
      "        \n",
      "        Soyisim: GÜLEÇ\n",
      "        \n",
      "        Komite: Kurumsal İletişim\n",
      "        \n",
      "        Numara: 456\n",
      "        \n"
     ]
    }
   ],
   "source": [
    "üye1.yazdır()"
   ]
  },
  {
   "cell_type": "code",
   "execution_count": 43,
   "id": "mexican-approach",
   "metadata": {},
   "outputs": [
    {
     "ename": "AttributeError",
     "evalue": "'üye' object has no attribute 'noDegistir'",
     "output_type": "error",
     "traceback": [
      "\u001b[1;31m---------------------------------------------------------------------------\u001b[0m",
      "\u001b[1;31mAttributeError\u001b[0m                            Traceback (most recent call last)",
      "\u001b[1;32m<ipython-input-43-25714d519b0f>\u001b[0m in \u001b[0;36m<module>\u001b[1;34m\u001b[0m\n\u001b[1;32m----> 1\u001b[1;33m \u001b[0müye1\u001b[0m\u001b[1;33m.\u001b[0m\u001b[0mnoDegistir\u001b[0m\u001b[1;33m(\u001b[0m\u001b[1;36m123\u001b[0m\u001b[1;33m)\u001b[0m \u001b[1;31m#üye class'ında tanımlamadığımız için hata alıyoruz\u001b[0m\u001b[1;33m\u001b[0m\u001b[1;33m\u001b[0m\u001b[0m\n\u001b[0m",
      "\u001b[1;31mAttributeError\u001b[0m: 'üye' object has no attribute 'noDegistir'"
     ]
    }
   ],
   "source": [
    "üye1.noDegistir(123) #üye class'ında tanımlamadığımız için hata alıyoruz"
   ]
  },
  {
   "cell_type": "markdown",
   "id": "obvious-reconstruction",
   "metadata": {},
   "source": [
    "#### **Overriding (İptal)**\n"
   ]
  },
  {
   "cell_type": "code",
   "execution_count": 44,
   "id": "eastern-substance",
   "metadata": {},
   "outputs": [],
   "source": [
    "#metodlarımızı aynı isimle yeni oluşturduğumuz class'a tanımlarsak kendi oluşturduğumuz metod geçerli olacaktır ve diğer metod iptal olacaktır.\n",
    "class üye():\n",
    "    def __init__(self,isim,soyisim,komite,numara):\n",
    "        self.isim = isim\n",
    "        self.soyisim = soyisim\n",
    "        self.komite = komite\n",
    "        self.numara = numara\n",
    "    def yazdır(self):\n",
    "        print(\"\"\"\n",
    "        Üye Bilgileri\n",
    "        \n",
    "        İsim: {}\n",
    "        \n",
    "        Soyisim: {}\n",
    "        \n",
    "        Komite: {}\n",
    "        \n",
    "        Numara: {}\n",
    "        \"\"\".format(self.isim,self.soyisim,self.komite,self.numara))\n",
    "    def komiteDegistir(self,yeniKomite):\n",
    "        self.komite = yeniKomite"
   ]
  },
  {
   "cell_type": "code",
   "execution_count": 45,
   "id": "empirical-morrison",
   "metadata": {},
   "outputs": [],
   "source": [
    "class yk(üye):\n",
    "    def __init__(self,isim,soyisim,komite,numara, etkinlik, ekip): #üye classından çağırdığımız init iptal oluyor\n",
    "        self.isim = isim\n",
    "        self.soyisim = soyisim\n",
    "        self.komite = komite\n",
    "        self.numara = numara\n",
    "        self.etkinlik = etkinlik\n",
    "        self.ekip = ekip\n",
    "        \n",
    "    def noDegistir(self,no):\n",
    "        self.numara = no"
   ]
  },
  {
   "cell_type": "code",
   "execution_count": 46,
   "id": "motivated-orientation",
   "metadata": {},
   "outputs": [],
   "source": [
    "a = yk(\"Emirhan\", \"GÜLEÇ\", \"Kurumsal İletişim\", 456, \"Digital Steps\", 5)"
   ]
  },
  {
   "cell_type": "code",
   "execution_count": 47,
   "id": "affiliated-secondary",
   "metadata": {},
   "outputs": [
    {
     "data": {
      "text/plain": [
       "5"
      ]
     },
     "execution_count": 47,
     "metadata": {},
     "output_type": "execute_result"
    }
   ],
   "source": [
    "a.ekip"
   ]
  },
  {
   "cell_type": "code",
   "execution_count": 48,
   "id": "hollow-insured",
   "metadata": {},
   "outputs": [
    {
     "data": {
      "text/plain": [
       "'Digital Steps'"
      ]
     },
     "execution_count": 48,
     "metadata": {},
     "output_type": "execute_result"
    }
   ],
   "source": [
    "a.etkinlik"
   ]
  },
  {
   "cell_type": "code",
   "execution_count": 49,
   "id": "defined-nowhere",
   "metadata": {},
   "outputs": [],
   "source": [
    "a = yk(\"Emirhan\", \"GÜLEÇ\", \"Kurumsal İletişim\", 456, [\"Digital Steps\", \"Career Goals\"], 5)"
   ]
  },
  {
   "cell_type": "code",
   "execution_count": 50,
   "id": "yellow-drink",
   "metadata": {},
   "outputs": [
    {
     "data": {
      "text/plain": [
       "['Digital Steps', 'Career Goals']"
      ]
     },
     "execution_count": 50,
     "metadata": {},
     "output_type": "execute_result"
    }
   ],
   "source": [
    "a.etkinlik"
   ]
  },
  {
   "cell_type": "markdown",
   "id": "british-revision",
   "metadata": {},
   "source": [
    "#### **super**\n",
    "+ super yardımıyla farklı class'ta bulunan metodu kullanarak üzerine ekleme yapabiliriz."
   ]
  },
  {
   "cell_type": "code",
   "execution_count": 51,
   "id": "disabled-penetration",
   "metadata": {},
   "outputs": [],
   "source": [
    "class yonetim(üye):\n",
    "    def __init__(self,isim,soyisim,komite,numara,etkinlik,ekip):\n",
    "        super().__init__ (isim,soyisim,komite,numara) #üye classından aldığımız init'i dahil ediyor\n",
    "        self.etkinlik = etkinlik\n",
    "        self.ekip = ekip\n",
    "        \n",
    "    def noDegistir(self,no):\n",
    "        self.numara = no"
   ]
  },
  {
   "cell_type": "code",
   "execution_count": 52,
   "id": "herbal-purple",
   "metadata": {},
   "outputs": [],
   "source": [
    "a = yonetim(\"Emirhan\", \"GÜLEÇ\", \"Marketing\",123, [\"Kariyer Akademisi\", \"HR Summit\"], 5)"
   ]
  },
  {
   "cell_type": "code",
   "execution_count": 53,
   "id": "lonely-toilet",
   "metadata": {},
   "outputs": [
    {
     "data": {
      "text/plain": [
       "['Kariyer Akademisi', 'HR Summit']"
      ]
     },
     "execution_count": 53,
     "metadata": {},
     "output_type": "execute_result"
    }
   ],
   "source": [
    "a.etkinlik"
   ]
  },
  {
   "cell_type": "markdown",
   "id": "basic-brown",
   "metadata": {},
   "source": [
    "### **try & except & finally**"
   ]
  },
  {
   "cell_type": "markdown",
   "id": "known-jimmy",
   "metadata": {},
   "source": [
    "+ **try** kısmında hata alma ihtimalimiz olan kodları yazarız. Hata aldığımızda try bloğundaki kodumuz çalışmayı durdurur ve programımız except bloklarına gider.\n",
    "+ **except** kısmı tanımladığımız hataları yakalamamızı ve programımızın o blok üzerinden devam etmesini sağlar.\n",
    "+ **finally** kısmında ise hata alıp, almadığımızın bir önemi yoktur. Kodumuz tüm durumlarda çalışacaktır."
   ]
  },
  {
   "cell_type": "code",
   "execution_count": 54,
   "id": "several-bikini",
   "metadata": {},
   "outputs": [
    {
     "ename": "NameError",
     "evalue": "name 'abc' is not defined",
     "output_type": "error",
     "traceback": [
      "\u001b[1;31m---------------------------------------------------------------------------\u001b[0m",
      "\u001b[1;31mNameError\u001b[0m                                 Traceback (most recent call last)",
      "\u001b[1;32m<ipython-input-54-615f25ee3b1c>\u001b[0m in \u001b[0;36m<module>\u001b[1;34m\u001b[0m\n\u001b[1;32m----> 1\u001b[1;33m \u001b[0mprint\u001b[0m\u001b[1;33m(\u001b[0m\u001b[0mabc\u001b[0m\u001b[1;33m)\u001b[0m \u001b[1;31m#Tanımlı olmadığı için Name Error hatası alıyoruz\u001b[0m\u001b[1;33m\u001b[0m\u001b[1;33m\u001b[0m\u001b[0m\n\u001b[0m",
      "\u001b[1;31mNameError\u001b[0m: name 'abc' is not defined"
     ]
    }
   ],
   "source": [
    "print(abc) #Tanımlı olmadığı için Name Error hatası alıyoruz"
   ]
  },
  {
   "cell_type": "code",
   "execution_count": 55,
   "id": "champion-think",
   "metadata": {},
   "outputs": [
    {
     "ename": "ZeroDivisionError",
     "evalue": "division by zero",
     "output_type": "error",
     "traceback": [
      "\u001b[1;31m---------------------------------------------------------------------------\u001b[0m",
      "\u001b[1;31mZeroDivisionError\u001b[0m                         Traceback (most recent call last)",
      "\u001b[1;32m<ipython-input-55-c4b294ef09b6>\u001b[0m in \u001b[0;36m<module>\u001b[1;34m\u001b[0m\n\u001b[1;32m----> 1\u001b[1;33m \u001b[0mprint\u001b[0m\u001b[1;33m(\u001b[0m\u001b[1;36m6\u001b[0m\u001b[1;33m/\u001b[0m\u001b[1;36m0\u001b[0m\u001b[1;33m)\u001b[0m \u001b[1;31m# Herhangi bir sayı 0'a bölünemeyeceği için Zero Division Error hatası alırız\u001b[0m\u001b[1;33m\u001b[0m\u001b[1;33m\u001b[0m\u001b[0m\n\u001b[0m",
      "\u001b[1;31mZeroDivisionError\u001b[0m: division by zero"
     ]
    }
   ],
   "source": [
    "print(6/0) # Herhangi bir sayı 0'a bölünemeyeceği için Zero Division Error hatası alırız"
   ]
  },
  {
   "cell_type": "code",
   "execution_count": 56,
   "id": "unlimited-latex",
   "metadata": {},
   "outputs": [
    {
     "name": "stdin",
     "output_type": "stream",
     "text": [
      "Sayı1:  8\n",
      "Sayı2:  0\n"
     ]
    },
    {
     "name": "stdout",
     "output_type": "stream",
     "text": [
      "0'a bölünemez\n",
      "Ulinka\n"
     ]
    }
   ],
   "source": [
    "a = input(\"Sayı1: \")\n",
    "b = input(\"Sayı2: \")\n",
    "\n",
    "try: #hata alma ihtimalimiz olan kodlarımızı try bloğuna yazıyoruz.\n",
    "    a = int(a)\n",
    "    b = int(b)\n",
    "    print(a/b)\n",
    "    \n",
    "except ZeroDivisionError: #b değerinin sıfır olduğu durumlarda buradaki except bloğu çalışır.\n",
    "    print(\"0'a bölünemez\")\n",
    "    \n",
    "except ValueError: #integer'a dönüştürülemeyecek değerler girildiğinde buradaki except bloğumuz çalışır.\n",
    "    print(\"Lütfen doğru değer giriniz\")\n",
    "    \n",
    "finally: #Tüm olası durumlarda finally bloğumuz çalışacaktır.\n",
    "    print(\"Ulinka\")"
   ]
  },
  {
   "cell_type": "markdown",
   "id": "adequate-fashion",
   "metadata": {},
   "source": [
    "### **Dosya işlemleri**"
   ]
  },
  {
   "cell_type": "code",
   "execution_count": 57,
   "id": "celtic-portland",
   "metadata": {},
   "outputs": [
    {
     "data": {
      "text/plain": [
       "<_io.TextIOWrapper name='ulinka.txt' mode='w' encoding='cp1254'>"
      ]
     },
     "execution_count": 57,
     "metadata": {},
     "output_type": "execute_result"
    }
   ],
   "source": [
    "open(\"ulinka.txt\",\"w\") #Bulunduğumuz dizinde ulinka.txt adında bir dosya açıyor açıyor. \"w\" write anlamına gelir ve açmak istediğimiz dosya mevcutsa dosya silinerek yeniden oluşturulur"
   ]
  },
  {
   "cell_type": "code",
   "execution_count": 58,
   "id": "composed-leisure",
   "metadata": {},
   "outputs": [],
   "source": [
    "x = open(\"ulinka.txt\",\"w\") #Dosyamızı değişkene tanımlıyoruz"
   ]
  },
  {
   "cell_type": "code",
   "execution_count": 76,
   "id": "desperate-repeat",
   "metadata": {},
   "outputs": [],
   "source": [
    "x = open(\"ulinka.txt\",\"w\", encoding=\"utf-8\") #Türkçe karakter kullanabilmek için \"utf-8\" parametremizi veriyoruz."
   ]
  },
  {
   "cell_type": "code",
   "execution_count": 78,
   "id": "nearby-compact",
   "metadata": {},
   "outputs": [
    {
     "data": {
      "text/plain": [
       "31"
      ]
     },
     "execution_count": 78,
     "metadata": {},
     "output_type": "execute_result"
    }
   ],
   "source": [
    "x.write(\"\"\"\"A.Emirhan GÜLEÇ\n",
    "Batuhan Kaplan\"\"\") # write fonksiyonu ile dosyamıza yazıyoruz."
   ]
  },
  {
   "cell_type": "code",
   "execution_count": 61,
   "id": "clinical-street",
   "metadata": {},
   "outputs": [],
   "source": [
    "x.close() #Dosyamızı kapatıyoruz"
   ]
  },
  {
   "cell_type": "code",
   "execution_count": 62,
   "id": "cathedral-member",
   "metadata": {},
   "outputs": [],
   "source": [
    "y = open(\"ulinka2.txt\",\"a\",encoding=\"utf-8\") #\"a\" ile dosyalarımızı açabiliriz, eğer dosya yoksa yeni dosya oluşturabiliriz. Dosyamızın en sonuna ekleme yapacaktır."
   ]
  },
  {
   "cell_type": "code",
   "execution_count": 63,
   "id": "comparative-white",
   "metadata": {},
   "outputs": [
    {
     "data": {
      "text/plain": [
       "15"
      ]
     },
     "execution_count": 63,
     "metadata": {},
     "output_type": "execute_result"
    }
   ],
   "source": [
    "y.write(\"A.Emirhan GÜLEÇ\")"
   ]
  },
  {
   "cell_type": "code",
   "execution_count": 64,
   "id": "ready-dietary",
   "metadata": {},
   "outputs": [],
   "source": [
    "x.close()"
   ]
  },
  {
   "cell_type": "code",
   "execution_count": 65,
   "id": "informational-mechanics",
   "metadata": {},
   "outputs": [],
   "source": [
    "y.close()"
   ]
  },
  {
   "cell_type": "code",
   "execution_count": 66,
   "id": "higher-spray",
   "metadata": {},
   "outputs": [],
   "source": [
    "z = open(\"ulinka.txt\",\"r\", encoding=\"utf-8\") #r dosyaları okumamıza ve verileri kullanmamıza yardımcı oluyor, dosya mevcut değilse hata alacağız."
   ]
  },
  {
   "cell_type": "code",
   "execution_count": 67,
   "id": "ranking-grammar",
   "metadata": {},
   "outputs": [
    {
     "name": "stdout",
     "output_type": "stream",
     "text": [
      "A.Emirhan GÜLEÇ\n"
     ]
    }
   ],
   "source": [
    "for i in z: # Dosyanın üzerinde geziniyoruz.\n",
    "    print(i)\n",
    "z.close()"
   ]
  },
  {
   "cell_type": "code",
   "execution_count": 68,
   "id": "loved-instruction",
   "metadata": {},
   "outputs": [
    {
     "name": "stdout",
     "output_type": "stream",
     "text": [
      "A.Emirhan GÜLEÇ"
     ]
    }
   ],
   "source": [
    "z = open(\"ulinka.txt\",\"r\", encoding=\"utf-8\")\n",
    "for i in z: # Dosyanın üzerinde geziniyoruz.\n",
    "    print(i, end=\"\") #otomatik olarak tanımlanan \\n'i iptal ediyoruz\n",
    "z.close()"
   ]
  },
  {
   "cell_type": "code",
   "execution_count": 69,
   "id": "hungry-script",
   "metadata": {},
   "outputs": [
    {
     "name": "stdout",
     "output_type": "stream",
     "text": [
      "A.Emirhan GÜLEÇ\n"
     ]
    }
   ],
   "source": [
    "z = open(\"ulinka.txt\",\"r\", encoding=\"utf-8\")\n",
    "\n",
    "a = z.read() #read ile dosyanın tamamını okuyarak a değişkenine tanımlanmasını sağlıyoruz.\n",
    "\n",
    "print(a)\n",
    "z.close()"
   ]
  },
  {
   "cell_type": "code",
   "execution_count": 70,
   "id": "fancy-reader",
   "metadata": {},
   "outputs": [
    {
     "name": "stdout",
     "output_type": "stream",
     "text": [
      "A.Emirhan GÜLEÇ\n"
     ]
    }
   ],
   "source": [
    "z = open(\"ulinka.txt\",\"r\", encoding=\"utf-8\")\n",
    "\n",
    "print(z.readline()) #yalnızca tek satır okur.\n"
   ]
  },
  {
   "cell_type": "code",
   "execution_count": 71,
   "id": "thermal-christian",
   "metadata": {},
   "outputs": [
    {
     "name": "stdout",
     "output_type": "stream",
     "text": [
      "\n"
     ]
    }
   ],
   "source": [
    "print(z.readline()) #tekrar çalıştırdığımızda sonraki satıra geçer"
   ]
  },
  {
   "cell_type": "code",
   "execution_count": 72,
   "id": "encouraging-geometry",
   "metadata": {},
   "outputs": [
    {
     "name": "stdout",
     "output_type": "stream",
     "text": [
      "\n"
     ]
    }
   ],
   "source": [
    "print(z.readline()) #Tüm satırlar bittiğinde boş satır döner"
   ]
  },
  {
   "cell_type": "code",
   "execution_count": 73,
   "id": "nonprofit-overall",
   "metadata": {},
   "outputs": [],
   "source": [
    "z.close()"
   ]
  },
  {
   "cell_type": "code",
   "execution_count": 74,
   "id": "appropriate-punch",
   "metadata": {},
   "outputs": [
    {
     "name": "stdout",
     "output_type": "stream",
     "text": [
      "['A.Emirhan GÜLEÇ']\n"
     ]
    },
    {
     "data": {
      "text/plain": [
       "<function TextIOWrapper.close()>"
      ]
     },
     "execution_count": 74,
     "metadata": {},
     "output_type": "execute_result"
    }
   ],
   "source": [
    "z = open(\"ulinka.txt\",\"r\", encoding=\"utf-8\")\n",
    "\n",
    "b = z.readlines() #Tüm satırları bir listede toplamamızı sağlar\n",
    "print(b)\n",
    "z.close"
   ]
  },
  {
   "cell_type": "code",
   "execution_count": null,
   "id": "false-ecology",
   "metadata": {},
   "outputs": [],
   "source": []
  }
 ],
 "metadata": {
  "kernelspec": {
   "display_name": "Python 3",
   "language": "python",
   "name": "python3"
  },
  "language_info": {
   "codemirror_mode": {
    "name": "ipython",
    "version": 3
   },
   "file_extension": ".py",
   "mimetype": "text/x-python",
   "name": "python",
   "nbconvert_exporter": "python",
   "pygments_lexer": "ipython3",
   "version": "3.9.1"
  }
 },
 "nbformat": 4,
 "nbformat_minor": 5
}
