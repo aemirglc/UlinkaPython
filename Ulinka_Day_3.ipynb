{
 "cells": [
  {
   "cell_type": "markdown",
   "id": "likely-intake",
   "metadata": {},
   "source": [
    "### **Metodlar**\n",
    "+ insert\n",
    "+ pop\n",
    "+ append"
   ]
  },
  {
   "cell_type": "code",
   "execution_count": 1,
   "id": "persistent-smart",
   "metadata": {},
   "outputs": [
    {
     "name": "stdout",
     "output_type": "stream",
     "text": [
      "[1, 2, 3, 4, 5, 6]\n"
     ]
    }
   ],
   "source": [
    "x =  [1,2,3,4,5,6]\n",
    "print(x)"
   ]
  },
  {
   "cell_type": "code",
   "execution_count": 2,
   "id": "comic-homework",
   "metadata": {},
   "outputs": [],
   "source": [
    "x.insert(3,\"Emir\") #\"Emir stringinin 3.indeks olarak listeye eklenmesini sağlar\""
   ]
  },
  {
   "cell_type": "code",
   "execution_count": 3,
   "id": "earlier-bookmark",
   "metadata": {},
   "outputs": [
    {
     "name": "stdout",
     "output_type": "stream",
     "text": [
      "[1, 2, 3, 'Emir', 4, 5, 6]\n"
     ]
    }
   ],
   "source": [
    "print(x)"
   ]
  },
  {
   "cell_type": "code",
   "execution_count": 4,
   "id": "provincial-moscow",
   "metadata": {},
   "outputs": [
    {
     "data": {
      "text/plain": [
       "6"
      ]
     },
     "execution_count": 4,
     "metadata": {},
     "output_type": "execute_result"
    }
   ],
   "source": [
    "x.pop() #Listemizin son elemanını siler"
   ]
  },
  {
   "cell_type": "code",
   "execution_count": 5,
   "id": "basic-campus",
   "metadata": {},
   "outputs": [
    {
     "name": "stdout",
     "output_type": "stream",
     "text": [
      "[1, 2, 3, 'Emir', 4, 5]\n"
     ]
    }
   ],
   "source": [
    "print(x)"
   ]
  },
  {
   "cell_type": "code",
   "execution_count": 6,
   "id": "comic-wichita",
   "metadata": {},
   "outputs": [
    {
     "data": {
      "text/plain": [
       "5"
      ]
     },
     "execution_count": 6,
     "metadata": {},
     "output_type": "execute_result"
    }
   ],
   "source": [
    "x.pop()"
   ]
  },
  {
   "cell_type": "code",
   "execution_count": 7,
   "id": "current-cemetery",
   "metadata": {},
   "outputs": [
    {
     "name": "stdout",
     "output_type": "stream",
     "text": [
      "[1, 2, 3, 'Emir', 4]\n"
     ]
    }
   ],
   "source": [
    "print(x)"
   ]
  },
  {
   "cell_type": "code",
   "execution_count": 8,
   "id": "spectacular-thermal",
   "metadata": {},
   "outputs": [],
   "source": [
    "x.append(\"Ullinka\") #Listemizin sonuna \"Ulinka stringini ekler\""
   ]
  },
  {
   "cell_type": "code",
   "execution_count": 9,
   "id": "least-breakdown",
   "metadata": {},
   "outputs": [
    {
     "name": "stdout",
     "output_type": "stream",
     "text": [
      "[1, 2, 3, 'Emir', 4, 'Ullinka']\n"
     ]
    }
   ],
   "source": [
    "print(x)"
   ]
  },
  {
   "cell_type": "markdown",
   "id": "otherwise-consolidation",
   "metadata": {},
   "source": [
    "### **Fonksiyonların tanımlanması**"
   ]
  },
  {
   "cell_type": "code",
   "execution_count": 10,
   "id": "configured-parallel",
   "metadata": {},
   "outputs": [],
   "source": [
    "Ulinka = \"Türkiye'nin en aktif topluluğu!\""
   ]
  },
  {
   "cell_type": "code",
   "execution_count": 11,
   "id": "exciting-specialist",
   "metadata": {},
   "outputs": [
    {
     "name": "stdout",
     "output_type": "stream",
     "text": [
      "Türkiye'nin en aktif topluluğu!\n"
     ]
    }
   ],
   "source": [
    "print(Ulinka)"
   ]
  },
  {
   "cell_type": "code",
   "execution_count": 12,
   "id": "backed-science",
   "metadata": {},
   "outputs": [
    {
     "data": {
      "text/plain": [
       "str"
      ]
     },
     "execution_count": 12,
     "metadata": {},
     "output_type": "execute_result"
    }
   ],
   "source": [
    "type(Ulinka)"
   ]
  },
  {
   "cell_type": "code",
   "execution_count": 13,
   "id": "compact-newark",
   "metadata": {},
   "outputs": [],
   "source": [
    "#def yardımıyle fonksiyon oluşturuyoruz\n",
    "def Ulinka():\n",
    "    print(\"Türkiye'nin en aktif topluluğu!\")"
   ]
  },
  {
   "cell_type": "code",
   "execution_count": 14,
   "id": "frozen-memphis",
   "metadata": {},
   "outputs": [
    {
     "data": {
      "text/plain": [
       "function"
      ]
     },
     "execution_count": 14,
     "metadata": {},
     "output_type": "execute_result"
    }
   ],
   "source": [
    "type(Ulinka)"
   ]
  },
  {
   "cell_type": "code",
   "execution_count": 15,
   "id": "cleared-candle",
   "metadata": {},
   "outputs": [
    {
     "name": "stdout",
     "output_type": "stream",
     "text": [
      "Türkiye'nin en aktif topluluğu!\n",
      "None\n"
     ]
    }
   ],
   "source": [
    "print(Ulinka())"
   ]
  },
  {
   "cell_type": "code",
   "execution_count": 16,
   "id": "after-adobe",
   "metadata": {},
   "outputs": [
    {
     "name": "stdout",
     "output_type": "stream",
     "text": [
      "Türkiye'nin en aktif topluluğu!\n"
     ]
    }
   ],
   "source": [
    "Ulinka()"
   ]
  },
  {
   "cell_type": "code",
   "execution_count": 17,
   "id": "northern-elite",
   "metadata": {},
   "outputs": [
    {
     "name": "stdin",
     "output_type": "stream",
     "text": [
      "Değer giriniz:  1\n"
     ]
    }
   ],
   "source": [
    "x = int(input(\"Değer giriniz: \"))\n",
    "def Ulinka(x):\n",
    "    print(\"Türkiye'nin en aktif topluluğu!\")\n",
    "    print(x*10)"
   ]
  },
  {
   "cell_type": "code",
   "execution_count": 18,
   "id": "legal-while",
   "metadata": {},
   "outputs": [
    {
     "name": "stdout",
     "output_type": "stream",
     "text": [
      "Türkiye'nin en aktif topluluğu!\n",
      "10\n"
     ]
    }
   ],
   "source": [
    "Ulinka(x)"
   ]
  },
  {
   "cell_type": "code",
   "execution_count": 19,
   "id": "bibliographic-dylan",
   "metadata": {},
   "outputs": [],
   "source": [
    "def toplam(a,b,c):\n",
    "    print(a+b+c)"
   ]
  },
  {
   "cell_type": "code",
   "execution_count": 20,
   "id": "welsh-dynamics",
   "metadata": {},
   "outputs": [
    {
     "name": "stdout",
     "output_type": "stream",
     "text": [
      "17\n"
     ]
    }
   ],
   "source": [
    "toplam(0,7,10)"
   ]
  },
  {
   "cell_type": "code",
   "execution_count": 21,
   "id": "northern-round",
   "metadata": {},
   "outputs": [],
   "source": [
    "#faktöriyeller için bir fonksiyon tanımlıyoruz\n",
    "def faktoriyel(sayı):\n",
    "    faktoriyel = 1\n",
    "    if (sayı == 0 or sayı == 1):\n",
    "        print(\"Faktoriyel\",faktoriyel)\n",
    "    else:\n",
    "        while (sayı >= 1):\n",
    "            faktoriyel *= sayı\n",
    "            sayı -=1\n",
    "        print(\"Faktoriyel\", faktoriyel)"
   ]
  },
  {
   "cell_type": "markdown",
   "id": "neutral-classroom",
   "metadata": {},
   "source": [
    "##### **5 için**\n",
    "+ 1x5 = 5\n",
    "+ 5x4 = 20\n",
    "+ 20x3 = 60\n",
    "+ 60x2 = 120"
   ]
  },
  {
   "cell_type": "code",
   "execution_count": 22,
   "id": "comprehensive-wireless",
   "metadata": {},
   "outputs": [
    {
     "name": "stdout",
     "output_type": "stream",
     "text": [
      "Faktoriyel 120\n"
     ]
    }
   ],
   "source": [
    "faktoriyel(5)"
   ]
  },
  {
   "cell_type": "code",
   "execution_count": 23,
   "id": "secondary-building",
   "metadata": {},
   "outputs": [
    {
     "name": "stdout",
     "output_type": "stream",
     "text": [
      "Faktoriyel 6\n"
     ]
    }
   ],
   "source": [
    "faktoriyel(3)"
   ]
  },
  {
   "cell_type": "code",
   "execution_count": 24,
   "id": "empty-organizer",
   "metadata": {},
   "outputs": [
    {
     "name": "stdout",
     "output_type": "stream",
     "text": [
      "Faktoriyel 15511210043330985984000000\n"
     ]
    }
   ],
   "source": [
    "faktoriyel(25)"
   ]
  },
  {
   "cell_type": "markdown",
   "id": "disciplinary-delaware",
   "metadata": {},
   "source": [
    "### **Return**\n",
    "return ifadesi fonksiyonun işlemi bittikten sonra çağrıldığı yere değer döndürmesi anlamı taşır."
   ]
  },
  {
   "cell_type": "code",
   "execution_count": 25,
   "id": "surface-promotion",
   "metadata": {},
   "outputs": [],
   "source": [
    "def x(a,b,c):\n",
    "    print(a*b*c)"
   ]
  },
  {
   "cell_type": "code",
   "execution_count": 26,
   "id": "trained-visit",
   "metadata": {},
   "outputs": [
    {
     "name": "stdout",
     "output_type": "stream",
     "text": [
      "24\n"
     ]
    }
   ],
   "source": [
    "y = x(2,3,4) #def x() fonksiyonunu yazdırır fakat herhangi bir değer değer atamaz!"
   ]
  },
  {
   "cell_type": "code",
   "execution_count": 27,
   "id": "concerned-perspective",
   "metadata": {},
   "outputs": [
    {
     "name": "stdout",
     "output_type": "stream",
     "text": [
      "None\n"
     ]
    }
   ],
   "source": [
    "print(y)"
   ]
  },
  {
   "cell_type": "code",
   "execution_count": 28,
   "id": "accepting-vector",
   "metadata": {},
   "outputs": [],
   "source": [
    "#return yardımıyla artık fonksiyonumuzun değer döndürmesini sağlayabiliriz\n",
    "def x(a,b,c):\n",
    "    return(a*b*c)"
   ]
  },
  {
   "cell_type": "code",
   "execution_count": 29,
   "id": "greenhouse-reaction",
   "metadata": {},
   "outputs": [],
   "source": [
    "y = x(2,3,4) #Değer atar"
   ]
  },
  {
   "cell_type": "code",
   "execution_count": 30,
   "id": "bigger-eleven",
   "metadata": {},
   "outputs": [
    {
     "name": "stdout",
     "output_type": "stream",
     "text": [
      "24\n"
     ]
    }
   ],
   "source": [
    "print(y)"
   ]
  },
  {
   "cell_type": "code",
   "execution_count": 31,
   "id": "blessed-sleeping",
   "metadata": {},
   "outputs": [
    {
     "name": "stdout",
     "output_type": "stream",
     "text": [
      "Ulinka\n"
     ]
    }
   ],
   "source": [
    "a = print(\"Ulinka\") #Değer atamaz, print işlemi yapar"
   ]
  },
  {
   "cell_type": "code",
   "execution_count": 32,
   "id": "reflected-cradle",
   "metadata": {},
   "outputs": [
    {
     "name": "stdout",
     "output_type": "stream",
     "text": [
      "None\n"
     ]
    }
   ],
   "source": [
    "print(a)"
   ]
  },
  {
   "cell_type": "code",
   "execution_count": 33,
   "id": "developing-notice",
   "metadata": {},
   "outputs": [],
   "source": [
    "def x(a,b,c):\n",
    "    return(\"İşlem gerçekleştiriliyor...\")\n",
    "    return(a*b*c)"
   ]
  },
  {
   "cell_type": "code",
   "execution_count": 34,
   "id": "rotary-cylinder",
   "metadata": {},
   "outputs": [
    {
     "data": {
      "text/plain": [
       "'İşlem gerçekleştiriliyor...'"
      ]
     },
     "execution_count": 34,
     "metadata": {},
     "output_type": "execute_result"
    }
   ],
   "source": [
    "x(2,4,6) #return çalıştığında fonksiyonumuz duracaktır, sadece ilk değer yazdırılıyor"
   ]
  },
  {
   "cell_type": "code",
   "execution_count": 35,
   "id": "japanese-revision",
   "metadata": {},
   "outputs": [],
   "source": [
    "def x(a,b,c):\n",
    "    print(\"İşlem gerçekleştiriliyor...\")\n",
    "    return(a*b*c)"
   ]
  },
  {
   "cell_type": "code",
   "execution_count": 36,
   "id": "happy-apollo",
   "metadata": {},
   "outputs": [
    {
     "name": "stdout",
     "output_type": "stream",
     "text": [
      "İşlem gerçekleştiriliyor...\n"
     ]
    }
   ],
   "source": [
    "a = x(2,4,6) #Sadece return değeri tanımlanacaktır."
   ]
  },
  {
   "cell_type": "code",
   "execution_count": 37,
   "id": "elegant-catalyst",
   "metadata": {},
   "outputs": [
    {
     "data": {
      "text/plain": [
       "48"
      ]
     },
     "execution_count": 37,
     "metadata": {},
     "output_type": "execute_result"
    }
   ],
   "source": [
    "a "
   ]
  },
  {
   "cell_type": "code",
   "execution_count": 38,
   "id": "pressing-oxford",
   "metadata": {},
   "outputs": [],
   "source": [
    "def x(a,b,c):\n",
    "    print(\"İşlem gerçekleştiriliyor...\")\n",
    "    return(a*b*c) \n",
    "    print(\"İşlem gerçekleştirildi!!!\")"
   ]
  },
  {
   "cell_type": "code",
   "execution_count": 39,
   "id": "younger-leave",
   "metadata": {},
   "outputs": [
    {
     "name": "stdout",
     "output_type": "stream",
     "text": [
      "İşlem gerçekleştiriliyor...\n"
     ]
    },
    {
     "data": {
      "text/plain": [
       "70"
      ]
     },
     "execution_count": 39,
     "metadata": {},
     "output_type": "execute_result"
    }
   ],
   "source": [
    "x(5,2,7)"
   ]
  },
  {
   "cell_type": "markdown",
   "id": "breathing-declaration",
   "metadata": {},
   "source": [
    "### **Fonksiyonlarda Parametreler**"
   ]
  },
  {
   "cell_type": "code",
   "execution_count": 40,
   "id": "clinical-remainder",
   "metadata": {},
   "outputs": [],
   "source": [
    "def hi(x):\n",
    "    print(\"Selam\", x)"
   ]
  },
  {
   "cell_type": "code",
   "execution_count": 41,
   "id": "configured-decade",
   "metadata": {},
   "outputs": [
    {
     "name": "stdout",
     "output_type": "stream",
     "text": [
      "Selam Emirhan\n"
     ]
    }
   ],
   "source": [
    "hi(\"Emirhan\")"
   ]
  },
  {
   "cell_type": "code",
   "execution_count": 42,
   "id": "automotive-creativity",
   "metadata": {},
   "outputs": [
    {
     "ename": "TypeError",
     "evalue": "hi() missing 1 required positional argument: 'x'",
     "output_type": "error",
     "traceback": [
      "\u001b[1;31m---------------------------------------------------------------------------\u001b[0m",
      "\u001b[1;31mTypeError\u001b[0m                                 Traceback (most recent call last)",
      "\u001b[1;32m<ipython-input-42-3ef9d72972f3>\u001b[0m in \u001b[0;36m<module>\u001b[1;34m\u001b[0m\n\u001b[1;32m----> 1\u001b[1;33m \u001b[0mhi\u001b[0m\u001b[1;33m(\u001b[0m\u001b[1;33m)\u001b[0m \u001b[1;31m#Fonksiyonumuzda bulunan x değişkenimizin varsayılan bir değişkeni olmadığı için hata verecektir\u001b[0m\u001b[1;33m\u001b[0m\u001b[1;33m\u001b[0m\u001b[0m\n\u001b[0m",
      "\u001b[1;31mTypeError\u001b[0m: hi() missing 1 required positional argument: 'x'"
     ]
    }
   ],
   "source": [
    "hi() #Fonksiyonumuzda bulunan x değişkenimizin varsayılan bir değişkeni olmadığı için hata verecektir"
   ]
  },
  {
   "cell_type": "code",
   "execution_count": 43,
   "id": "alone-bouquet",
   "metadata": {},
   "outputs": [],
   "source": [
    "def hi(x = \"Bilgi yok\"): #x değişkenimize varsayılan değer atıyoruz.\n",
    "    print(\"Selam\", x)"
   ]
  },
  {
   "cell_type": "code",
   "execution_count": 44,
   "id": "accepting-simpson",
   "metadata": {},
   "outputs": [
    {
     "name": "stdout",
     "output_type": "stream",
     "text": [
      "Selam Emirhan\n"
     ]
    }
   ],
   "source": [
    "hi(\"Emirhan\")"
   ]
  },
  {
   "cell_type": "code",
   "execution_count": 45,
   "id": "altered-favor",
   "metadata": {},
   "outputs": [
    {
     "name": "stdout",
     "output_type": "stream",
     "text": [
      "Selam Bilgi yok\n"
     ]
    }
   ],
   "source": [
    "hi() #değer atamadığımız için varsayılan değerimiz yazdırılacak."
   ]
  },
  {
   "cell_type": "code",
   "execution_count": 46,
   "id": "seeing-baghdad",
   "metadata": {},
   "outputs": [],
   "source": [
    "def whois(isim = \"Bilgi Yok\",instagram = \"Bilgi Yok\",twitter =  \"Bilgi Yok\"):\n",
    "    print(\"İsim:\",isim,\"İnstagram:\",instagram,\"Twitter:\",twitter)"
   ]
  },
  {
   "cell_type": "code",
   "execution_count": 47,
   "id": "broken-retro",
   "metadata": {},
   "outputs": [
    {
     "name": "stdout",
     "output_type": "stream",
     "text": [
      "İsim: Emirhan GÜLEÇ İnstagram: aemirglc Twitter: aemirglc\n"
     ]
    }
   ],
   "source": [
    "whois(\"Emirhan GÜLEÇ\",\"aemirglc\",\"aemirglc\")"
   ]
  },
  {
   "cell_type": "code",
   "execution_count": 48,
   "id": "ahead-surname",
   "metadata": {},
   "outputs": [
    {
     "name": "stdout",
     "output_type": "stream",
     "text": [
      "İsim: Bilgi Yok İnstagram: Bilgi Yok Twitter: Bilgi Yok\n"
     ]
    }
   ],
   "source": [
    "whois()"
   ]
  },
  {
   "cell_type": "code",
   "execution_count": 49,
   "id": "contrary-enclosure",
   "metadata": {},
   "outputs": [
    {
     "name": "stdout",
     "output_type": "stream",
     "text": [
      "İsim: Emirhan GÜLEÇ İnstagram: aemirglc Twitter: Bilgi Yok\n"
     ]
    }
   ],
   "source": [
    "whois(\"Emirhan GÜLEÇ\",\"aemirglc\",) #3.değişkenimizin yerine atamız olduğumuz varsayılan değişken yazdırılacak"
   ]
  },
  {
   "cell_type": "code",
   "execution_count": 50,
   "id": "invisible-necklace",
   "metadata": {},
   "outputs": [
    {
     "name": "stdout",
     "output_type": "stream",
     "text": [
      "İsim: Bilgi Yok İnstagram: Ulinka Twitter: ulinkauludag\n"
     ]
    }
   ],
   "source": [
    "whois(instagram = \"Ulinka\",twitter=\"ulinkauludag\",) #instagram ve twitter değişkenimize değer atadğımızı için isim değişkenimiz yerine varsayılan değerimiz yazdırılır"
   ]
  },
  {
   "cell_type": "code",
   "execution_count": 51,
   "id": "subject-scoop",
   "metadata": {},
   "outputs": [
    {
     "name": "stdout",
     "output_type": "stream",
     "text": [
      "Help on function whois in module __main__:\n",
      "\n",
      "whois(isim='Bilgi Yok', instagram='Bilgi Yok', twitter='Bilgi Yok')\n",
      "\n"
     ]
    }
   ],
   "source": [
    "help(whois)"
   ]
  },
  {
   "cell_type": "code",
   "execution_count": 52,
   "id": "hungry-brighton",
   "metadata": {},
   "outputs": [
    {
     "name": "stdout",
     "output_type": "stream",
     "text": [
      "Help on built-in function len in module builtins:\n",
      "\n",
      "len(obj, /)\n",
      "    Return the number of items in a container.\n",
      "\n"
     ]
    }
   ],
   "source": [
    "help(len)"
   ]
  },
  {
   "cell_type": "code",
   "execution_count": 53,
   "id": "compliant-account",
   "metadata": {},
   "outputs": [],
   "source": [
    "def topla(a,b,c):\n",
    "    print(a+b+c)"
   ]
  },
  {
   "cell_type": "code",
   "execution_count": 54,
   "id": "excellent-stand",
   "metadata": {},
   "outputs": [
    {
     "name": "stdout",
     "output_type": "stream",
     "text": [
      "7\n"
     ]
    }
   ],
   "source": [
    "topla(2,2,3)"
   ]
  },
  {
   "cell_type": "code",
   "execution_count": 55,
   "id": "powerful-rabbit",
   "metadata": {},
   "outputs": [
    {
     "ename": "TypeError",
     "evalue": "topla() takes 3 positional arguments but 4 were given",
     "output_type": "error",
     "traceback": [
      "\u001b[1;31m---------------------------------------------------------------------------\u001b[0m",
      "\u001b[1;31mTypeError\u001b[0m                                 Traceback (most recent call last)",
      "\u001b[1;32m<ipython-input-55-b8c45c4ea2e4>\u001b[0m in \u001b[0;36m<module>\u001b[1;34m\u001b[0m\n\u001b[1;32m----> 1\u001b[1;33m \u001b[0mtopla\u001b[0m\u001b[1;33m(\u001b[0m\u001b[1;36m2\u001b[0m\u001b[1;33m,\u001b[0m\u001b[1;36m2\u001b[0m\u001b[1;33m,\u001b[0m\u001b[1;36m3\u001b[0m\u001b[1;33m,\u001b[0m\u001b[1;36m8\u001b[0m\u001b[1;33m)\u001b[0m \u001b[1;31m#fonksiyonumuza fazla değer tanımladığımız için hata alacağız\u001b[0m\u001b[1;33m\u001b[0m\u001b[1;33m\u001b[0m\u001b[0m\n\u001b[0m",
      "\u001b[1;31mTypeError\u001b[0m: topla() takes 3 positional arguments but 4 were given"
     ]
    }
   ],
   "source": [
    "topla(2,2,3,8) #fonksiyonumuza fazla değer tanımladığımız için hata alacağız"
   ]
  },
  {
   "cell_type": "code",
   "execution_count": 56,
   "id": "consistent-channels",
   "metadata": {},
   "outputs": [
    {
     "ename": "TypeError",
     "evalue": "topla() missing 1 required positional argument: 'c'",
     "output_type": "error",
     "traceback": [
      "\u001b[1;31m---------------------------------------------------------------------------\u001b[0m",
      "\u001b[1;31mTypeError\u001b[0m                                 Traceback (most recent call last)",
      "\u001b[1;32m<ipython-input-56-a6ce392e3ca4>\u001b[0m in \u001b[0;36m<module>\u001b[1;34m\u001b[0m\n\u001b[1;32m----> 1\u001b[1;33m \u001b[0mtopla\u001b[0m\u001b[1;33m(\u001b[0m\u001b[1;36m2\u001b[0m\u001b[1;33m,\u001b[0m\u001b[1;36m2\u001b[0m\u001b[1;33m)\u001b[0m \u001b[1;31m#fonksiyonumuza eksik değer tanımladığımız için hata alacağız\u001b[0m\u001b[1;33m\u001b[0m\u001b[1;33m\u001b[0m\u001b[0m\n\u001b[0m",
      "\u001b[1;31mTypeError\u001b[0m: topla() missing 1 required positional argument: 'c'"
     ]
    }
   ],
   "source": [
    "topla(2,2) #fonksiyonumuza eksik değer tanımladığımız için hata alacağız"
   ]
  },
  {
   "cell_type": "code",
   "execution_count": 57,
   "id": "opponent-flash",
   "metadata": {},
   "outputs": [],
   "source": [
    "def toplam(*a): # Artık parametreleri bir tuple gibi kullanabiliriz.\n",
    "    x =  0\n",
    "    print(\"Toplanan değerler:\",a)\n",
    "    for i in a:\n",
    "        x += i\n",
    "    return x"
   ]
  },
  {
   "cell_type": "code",
   "execution_count": 58,
   "id": "weekly-probability",
   "metadata": {},
   "outputs": [
    {
     "name": "stdout",
     "output_type": "stream",
     "text": [
      "Toplanan değerler: (34, 5)\n"
     ]
    },
    {
     "data": {
      "text/plain": [
       "39"
      ]
     },
     "execution_count": 58,
     "metadata": {},
     "output_type": "execute_result"
    }
   ],
   "source": [
    "toplam(34,5) #Artık istediğimiz kadar değer girebileceğiz"
   ]
  },
  {
   "cell_type": "code",
   "execution_count": 59,
   "id": "racial-factor",
   "metadata": {},
   "outputs": [
    {
     "name": "stdout",
     "output_type": "stream",
     "text": [
      "Toplanan değerler: (34, 5, 8, 7)\n"
     ]
    },
    {
     "data": {
      "text/plain": [
       "54"
      ]
     },
     "execution_count": 59,
     "metadata": {},
     "output_type": "execute_result"
    }
   ],
   "source": [
    "toplam(34,5,8,7)"
   ]
  },
  {
   "cell_type": "code",
   "execution_count": 60,
   "id": "coordinate-headset",
   "metadata": {},
   "outputs": [
    {
     "name": "stdout",
     "output_type": "stream",
     "text": [
      "Toplanan değerler: (34, 5, 8, 7, 14)\n"
     ]
    },
    {
     "data": {
      "text/plain": [
       "68"
      ]
     },
     "execution_count": 60,
     "metadata": {},
     "output_type": "execute_result"
    }
   ],
   "source": [
    "toplam(34,5,8,7,14)"
   ]
  },
  {
   "cell_type": "markdown",
   "id": "fantastic-medicine",
   "metadata": {},
   "source": [
    "### **Global & Local değişkenler**"
   ]
  },
  {
   "cell_type": "code",
   "execution_count": 61,
   "id": "outdoor-spanking",
   "metadata": {},
   "outputs": [],
   "source": [
    "def fonksiyon():\n",
    "    a = 10 # Yerel bir değişken\n",
    "    print (a)"
   ]
  },
  {
   "cell_type": "code",
   "execution_count": 62,
   "id": "further-finance",
   "metadata": {},
   "outputs": [
    {
     "name": "stdout",
     "output_type": "stream",
     "text": [
      "10\n",
      "48\n"
     ]
    }
   ],
   "source": [
    "fonksiyon() \n",
    "print(a) #a değerini yerelde tanımladığımız için hata alırız"
   ]
  },
  {
   "cell_type": "code",
   "execution_count": 63,
   "id": "polar-manitoba",
   "metadata": {},
   "outputs": [],
   "source": [
    "a = 10 # Global bir değişken\n",
    "\n",
    "def fonksiyon():\n",
    "    print (a)"
   ]
  },
  {
   "cell_type": "code",
   "execution_count": 64,
   "id": "informal-liver",
   "metadata": {},
   "outputs": [
    {
     "name": "stdout",
     "output_type": "stream",
     "text": [
      "10\n",
      "10\n"
     ]
    }
   ],
   "source": [
    "fonksiyon() \n",
    "print(a)"
   ]
  },
  {
   "cell_type": "code",
   "execution_count": 65,
   "id": "beautiful-administration",
   "metadata": {},
   "outputs": [
    {
     "ename": "NameError",
     "evalue": "name 'b' is not defined",
     "output_type": "error",
     "traceback": [
      "\u001b[1;31m---------------------------------------------------------------------------\u001b[0m",
      "\u001b[1;31mNameError\u001b[0m                                 Traceback (most recent call last)",
      "\u001b[1;32m<ipython-input-65-4b50b7ea2dda>\u001b[0m in \u001b[0;36m<module>\u001b[1;34m\u001b[0m\n\u001b[0;32m      1\u001b[0m \u001b[1;32mdef\u001b[0m \u001b[0mfonksiyon\u001b[0m\u001b[1;33m(\u001b[0m\u001b[1;33m)\u001b[0m\u001b[1;33m:\u001b[0m\u001b[1;33m\u001b[0m\u001b[1;33m\u001b[0m\u001b[0m\n\u001b[0;32m      2\u001b[0m     \u001b[0mprint\u001b[0m\u001b[1;33m(\u001b[0m\u001b[0mb\u001b[0m\u001b[1;33m)\u001b[0m\u001b[1;33m\u001b[0m\u001b[1;33m\u001b[0m\u001b[0m\n\u001b[1;32m----> 3\u001b[1;33m \u001b[0mfonksiyon\u001b[0m\u001b[1;33m(\u001b[0m\u001b[1;33m)\u001b[0m\u001b[1;33m\u001b[0m\u001b[1;33m\u001b[0m\u001b[0m\n\u001b[0m\u001b[0;32m      4\u001b[0m \u001b[0mprint\u001b[0m\u001b[1;33m(\u001b[0m\u001b[0mb\u001b[0m\u001b[1;33m)\u001b[0m\u001b[1;33m\u001b[0m\u001b[1;33m\u001b[0m\u001b[0m\n\u001b[0;32m      5\u001b[0m \u001b[0mb\u001b[0m \u001b[1;33m=\u001b[0m \u001b[1;36m3\u001b[0m \u001b[1;31m#Fonksiyonumuzdan sonra tanımlandığı için hata alırız\u001b[0m\u001b[1;33m\u001b[0m\u001b[1;33m\u001b[0m\u001b[0m\n",
      "\u001b[1;32m<ipython-input-65-4b50b7ea2dda>\u001b[0m in \u001b[0;36mfonksiyon\u001b[1;34m()\u001b[0m\n\u001b[0;32m      1\u001b[0m \u001b[1;32mdef\u001b[0m \u001b[0mfonksiyon\u001b[0m\u001b[1;33m(\u001b[0m\u001b[1;33m)\u001b[0m\u001b[1;33m:\u001b[0m\u001b[1;33m\u001b[0m\u001b[1;33m\u001b[0m\u001b[0m\n\u001b[1;32m----> 2\u001b[1;33m     \u001b[0mprint\u001b[0m\u001b[1;33m(\u001b[0m\u001b[0mb\u001b[0m\u001b[1;33m)\u001b[0m\u001b[1;33m\u001b[0m\u001b[1;33m\u001b[0m\u001b[0m\n\u001b[0m\u001b[0;32m      3\u001b[0m \u001b[0mfonksiyon\u001b[0m\u001b[1;33m(\u001b[0m\u001b[1;33m)\u001b[0m\u001b[1;33m\u001b[0m\u001b[1;33m\u001b[0m\u001b[0m\n\u001b[0;32m      4\u001b[0m \u001b[0mprint\u001b[0m\u001b[1;33m(\u001b[0m\u001b[0mb\u001b[0m\u001b[1;33m)\u001b[0m\u001b[1;33m\u001b[0m\u001b[1;33m\u001b[0m\u001b[0m\n\u001b[0;32m      5\u001b[0m \u001b[0mb\u001b[0m \u001b[1;33m=\u001b[0m \u001b[1;36m3\u001b[0m \u001b[1;31m#Fonksiyonumuzdan sonra tanımlandığı için hata alırız\u001b[0m\u001b[1;33m\u001b[0m\u001b[1;33m\u001b[0m\u001b[0m\n",
      "\u001b[1;31mNameError\u001b[0m: name 'b' is not defined"
     ]
    }
   ],
   "source": [
    "def fonksiyon():\n",
    "    print(b)\n",
    "fonksiyon() \n",
    "print(b) \n",
    "b = 3 #Fonksiyonumuzdan sonra tanımlandığı için hata alırız "
   ]
  },
  {
   "cell_type": "code",
   "execution_count": 66,
   "id": "related-geography",
   "metadata": {},
   "outputs": [],
   "source": [
    "x = 10\n",
    "\n",
    "def fonksiyon():\n",
    "    global x #x'i global bir değişken haline getiriyoruz\n",
    "    x = 5\n",
    "    print(x)   \n"
   ]
  },
  {
   "cell_type": "code",
   "execution_count": 67,
   "id": "binding-effort",
   "metadata": {},
   "outputs": [
    {
     "name": "stdout",
     "output_type": "stream",
     "text": [
      "5\n",
      "5\n"
     ]
    }
   ],
   "source": [
    "fonksiyon()\n",
    "print(x)"
   ]
  },
  {
   "cell_type": "markdown",
   "id": "heated-apparel",
   "metadata": {},
   "source": [
    "Koşullu durumlar ve döngüleri incelediğimizde global olduğunu ve işlem gerektirmediğini görürüz."
   ]
  },
  {
   "cell_type": "code",
   "execution_count": 68,
   "id": "english-stockholm",
   "metadata": {},
   "outputs": [
    {
     "name": "stdout",
     "output_type": "stream",
     "text": [
      "3\n",
      "3\n"
     ]
    }
   ],
   "source": [
    "if True: #if koşulumuz globaldir işlem gerektirmez.\n",
    "    a = 3\n",
    "    print(a)\n",
    "\n",
    "print(a)"
   ]
  },
  {
   "cell_type": "code",
   "execution_count": 69,
   "id": "several-bumper",
   "metadata": {},
   "outputs": [
    {
     "name": "stdout",
     "output_type": "stream",
     "text": [
      "10\n",
      "10\n"
     ]
    }
   ],
   "source": [
    "while True: #while döngüsü globaldir işlem gerektirmez.\n",
    "    b =  10\n",
    "    print(b)\n",
    "    break\n",
    "\n",
    "print(b)"
   ]
  },
  {
   "cell_type": "markdown",
   "id": "running-driver",
   "metadata": {},
   "source": [
    "### **Lambda**\n",
    "+ Tek satırda fonksiyon tanımlamamıza yardımcı olur"
   ]
  },
  {
   "cell_type": "code",
   "execution_count": 70,
   "id": "extra-mount",
   "metadata": {},
   "outputs": [
    {
     "name": "stdout",
     "output_type": "stream",
     "text": [
      "30\n"
     ]
    }
   ],
   "source": [
    "def x(a):\n",
    "    return a*6\n",
    "print(x(5))"
   ]
  },
  {
   "cell_type": "code",
   "execution_count": 71,
   "id": "genetic-surveillance",
   "metadata": {},
   "outputs": [],
   "source": [
    "y = lambda b : b*5\n",
    "\n",
    "#Yukardaki fonksiyon ile aşağıdaki fonksiyon aynı şekilde çalışır.\n",
    "#def y(b):\n",
    "#    return b*5"
   ]
  },
  {
   "cell_type": "code",
   "execution_count": 72,
   "id": "manufactured-stations",
   "metadata": {},
   "outputs": [
    {
     "name": "stdout",
     "output_type": "stream",
     "text": [
      "50\n"
     ]
    }
   ],
   "source": [
    "print(y(10))"
   ]
  },
  {
   "cell_type": "markdown",
   "id": "thirty-bristol",
   "metadata": {},
   "source": [
    "+ Benzer fonksiyonları inceleyerek ilerleyelim"
   ]
  },
  {
   "cell_type": "code",
   "execution_count": 73,
   "id": "entire-singapore",
   "metadata": {},
   "outputs": [
    {
     "name": "stdout",
     "output_type": "stream",
     "text": [
      "27\n"
     ]
    }
   ],
   "source": [
    "def a(x,y,z):\n",
    "    return x+y+z\n",
    "print(a(8,9,10))"
   ]
  },
  {
   "cell_type": "code",
   "execution_count": 74,
   "id": "super-confirmation",
   "metadata": {},
   "outputs": [],
   "source": [
    "b = lambda x,y,z : x+y+z"
   ]
  },
  {
   "cell_type": "code",
   "execution_count": 75,
   "id": "uniform-shield",
   "metadata": {},
   "outputs": [
    {
     "name": "stdout",
     "output_type": "stream",
     "text": [
      "27\n"
     ]
    }
   ],
   "source": [
    "print(b(8,9,10))"
   ]
  },
  {
   "cell_type": "code",
   "execution_count": 77,
   "id": "measured-stand",
   "metadata": {},
   "outputs": [
    {
     "name": "stdin",
     "output_type": "stream",
     "text": [
      "Sayı: 1\n"
     ]
    },
    {
     "name": "stdout",
     "output_type": "stream",
     "text": [
      "1 asal sayı değil.\n"
     ]
    },
    {
     "name": "stdin",
     "output_type": "stream",
     "text": [
      "Sayı: 2\n"
     ]
    },
    {
     "name": "stdout",
     "output_type": "stream",
     "text": [
      "2 asal sayı.\n"
     ]
    },
    {
     "name": "stdin",
     "output_type": "stream",
     "text": [
      "Sayı: 5\n"
     ]
    },
    {
     "name": "stdout",
     "output_type": "stream",
     "text": [
      "5 asal sayı.\n"
     ]
    },
    {
     "name": "stdin",
     "output_type": "stream",
     "text": [
      "Sayı: 6\n"
     ]
    },
    {
     "name": "stdout",
     "output_type": "stream",
     "text": [
      "6 asal sayı değil.\n"
     ]
    },
    {
     "name": "stdin",
     "output_type": "stream",
     "text": [
      "Sayı: q\n"
     ]
    },
    {
     "name": "stdout",
     "output_type": "stream",
     "text": [
      "Kapatılıyor...\n"
     ]
    }
   ],
   "source": [
    "def asal(x):\n",
    "    if (x == 1):\n",
    "        return False\n",
    "\n",
    "    elif (x == 2):\n",
    "        return True\n",
    "\n",
    "    else:\n",
    "        for i in range(2,x):\n",
    "            if (x % i == 0):\n",
    "                return False\n",
    "        return True\n",
    "\n",
    "while True:\n",
    "    x = input(\"Sayı:\")\n",
    "\n",
    "    if (x == \"q\"):\n",
    "        print(\"Kapatılıyor...\")\n",
    "        break\n",
    "    else:\n",
    "        x = int(x)\n",
    "\n",
    "        if (asal(x)):\n",
    "            print(x,\"asal sayı.\")\n",
    "        else:\n",
    "            print(x,\"asal sayı değil.\")"
   ]
  },
  {
   "cell_type": "markdown",
   "id": "polished-moscow",
   "metadata": {},
   "source": [
    "### **Modüller**"
   ]
  },
  {
   "cell_type": "code",
   "execution_count": 78,
   "id": "certified-madagascar",
   "metadata": {},
   "outputs": [],
   "source": [
    "import math #import ile kütüphaneleri projemizde kullanabiliriz."
   ]
  },
  {
   "cell_type": "code",
   "execution_count": 79,
   "id": "grateful-boards",
   "metadata": {},
   "outputs": [
    {
     "name": "stdout",
     "output_type": "stream",
     "text": [
      "Help on built-in module math:\n",
      "\n",
      "NAME\n",
      "    math\n",
      "\n",
      "DESCRIPTION\n",
      "    This module provides access to the mathematical functions\n",
      "    defined by the C standard.\n",
      "\n",
      "FUNCTIONS\n",
      "    acos(x, /)\n",
      "        Return the arc cosine (measured in radians) of x.\n",
      "        \n",
      "        The result is between 0 and pi.\n",
      "    \n",
      "    acosh(x, /)\n",
      "        Return the inverse hyperbolic cosine of x.\n",
      "    \n",
      "    asin(x, /)\n",
      "        Return the arc sine (measured in radians) of x.\n",
      "        \n",
      "        The result is between -pi/2 and pi/2.\n",
      "    \n",
      "    asinh(x, /)\n",
      "        Return the inverse hyperbolic sine of x.\n",
      "    \n",
      "    atan(x, /)\n",
      "        Return the arc tangent (measured in radians) of x.\n",
      "        \n",
      "        The result is between -pi/2 and pi/2.\n",
      "    \n",
      "    atan2(y, x, /)\n",
      "        Return the arc tangent (measured in radians) of y/x.\n",
      "        \n",
      "        Unlike atan(y/x), the signs of both x and y are considered.\n",
      "    \n",
      "    atanh(x, /)\n",
      "        Return the inverse hyperbolic tangent of x.\n",
      "    \n",
      "    ceil(x, /)\n",
      "        Return the ceiling of x as an Integral.\n",
      "        \n",
      "        This is the smallest integer >= x.\n",
      "    \n",
      "    comb(n, k, /)\n",
      "        Number of ways to choose k items from n items without repetition and without order.\n",
      "        \n",
      "        Evaluates to n! / (k! * (n - k)!) when k <= n and evaluates\n",
      "        to zero when k > n.\n",
      "        \n",
      "        Also called the binomial coefficient because it is equivalent\n",
      "        to the coefficient of k-th term in polynomial expansion of the\n",
      "        expression (1 + x)**n.\n",
      "        \n",
      "        Raises TypeError if either of the arguments are not integers.\n",
      "        Raises ValueError if either of the arguments are negative.\n",
      "    \n",
      "    copysign(x, y, /)\n",
      "        Return a float with the magnitude (absolute value) of x but the sign of y.\n",
      "        \n",
      "        On platforms that support signed zeros, copysign(1.0, -0.0)\n",
      "        returns -1.0.\n",
      "    \n",
      "    cos(x, /)\n",
      "        Return the cosine of x (measured in radians).\n",
      "    \n",
      "    cosh(x, /)\n",
      "        Return the hyperbolic cosine of x.\n",
      "    \n",
      "    degrees(x, /)\n",
      "        Convert angle x from radians to degrees.\n",
      "    \n",
      "    dist(p, q, /)\n",
      "        Return the Euclidean distance between two points p and q.\n",
      "        \n",
      "        The points should be specified as sequences (or iterables) of\n",
      "        coordinates.  Both inputs must have the same dimension.\n",
      "        \n",
      "        Roughly equivalent to:\n",
      "            sqrt(sum((px - qx) ** 2.0 for px, qx in zip(p, q)))\n",
      "    \n",
      "    erf(x, /)\n",
      "        Error function at x.\n",
      "    \n",
      "    erfc(x, /)\n",
      "        Complementary error function at x.\n",
      "    \n",
      "    exp(x, /)\n",
      "        Return e raised to the power of x.\n",
      "    \n",
      "    expm1(x, /)\n",
      "        Return exp(x)-1.\n",
      "        \n",
      "        This function avoids the loss of precision involved in the direct evaluation of exp(x)-1 for small x.\n",
      "    \n",
      "    fabs(x, /)\n",
      "        Return the absolute value of the float x.\n",
      "    \n",
      "    factorial(x, /)\n",
      "        Find x!.\n",
      "        \n",
      "        Raise a ValueError if x is negative or non-integral.\n",
      "    \n",
      "    floor(x, /)\n",
      "        Return the floor of x as an Integral.\n",
      "        \n",
      "        This is the largest integer <= x.\n",
      "    \n",
      "    fmod(x, y, /)\n",
      "        Return fmod(x, y), according to platform C.\n",
      "        \n",
      "        x % y may differ.\n",
      "    \n",
      "    frexp(x, /)\n",
      "        Return the mantissa and exponent of x, as pair (m, e).\n",
      "        \n",
      "        m is a float and e is an int, such that x = m * 2.**e.\n",
      "        If x is 0, m and e are both 0.  Else 0.5 <= abs(m) < 1.0.\n",
      "    \n",
      "    fsum(seq, /)\n",
      "        Return an accurate floating point sum of values in the iterable seq.\n",
      "        \n",
      "        Assumes IEEE-754 floating point arithmetic.\n",
      "    \n",
      "    gamma(x, /)\n",
      "        Gamma function at x.\n",
      "    \n",
      "    gcd(*integers)\n",
      "        Greatest Common Divisor.\n",
      "    \n",
      "    hypot(...)\n",
      "        hypot(*coordinates) -> value\n",
      "        \n",
      "        Multidimensional Euclidean distance from the origin to a point.\n",
      "        \n",
      "        Roughly equivalent to:\n",
      "            sqrt(sum(x**2 for x in coordinates))\n",
      "        \n",
      "        For a two dimensional point (x, y), gives the hypotenuse\n",
      "        using the Pythagorean theorem:  sqrt(x*x + y*y).\n",
      "        \n",
      "        For example, the hypotenuse of a 3/4/5 right triangle is:\n",
      "        \n",
      "            >>> hypot(3.0, 4.0)\n",
      "            5.0\n",
      "    \n",
      "    isclose(a, b, *, rel_tol=1e-09, abs_tol=0.0)\n",
      "        Determine whether two floating point numbers are close in value.\n",
      "        \n",
      "          rel_tol\n",
      "            maximum difference for being considered \"close\", relative to the\n",
      "            magnitude of the input values\n",
      "          abs_tol\n",
      "            maximum difference for being considered \"close\", regardless of the\n",
      "            magnitude of the input values\n",
      "        \n",
      "        Return True if a is close in value to b, and False otherwise.\n",
      "        \n",
      "        For the values to be considered close, the difference between them\n",
      "        must be smaller than at least one of the tolerances.\n",
      "        \n",
      "        -inf, inf and NaN behave similarly to the IEEE 754 Standard.  That\n",
      "        is, NaN is not close to anything, even itself.  inf and -inf are\n",
      "        only close to themselves.\n",
      "    \n",
      "    isfinite(x, /)\n",
      "        Return True if x is neither an infinity nor a NaN, and False otherwise.\n",
      "    \n",
      "    isinf(x, /)\n",
      "        Return True if x is a positive or negative infinity, and False otherwise.\n",
      "    \n",
      "    isnan(x, /)\n",
      "        Return True if x is a NaN (not a number), and False otherwise.\n",
      "    \n",
      "    isqrt(n, /)\n",
      "        Return the integer part of the square root of the input.\n",
      "    \n",
      "    lcm(*integers)\n",
      "        Least Common Multiple.\n",
      "    \n",
      "    ldexp(x, i, /)\n",
      "        Return x * (2**i).\n",
      "        \n",
      "        This is essentially the inverse of frexp().\n",
      "    \n",
      "    lgamma(x, /)\n",
      "        Natural logarithm of absolute value of Gamma function at x.\n",
      "    \n",
      "    log(...)\n",
      "        log(x, [base=math.e])\n",
      "        Return the logarithm of x to the given base.\n",
      "        \n",
      "        If the base not specified, returns the natural logarithm (base e) of x.\n",
      "    \n",
      "    log10(x, /)\n",
      "        Return the base 10 logarithm of x.\n",
      "    \n",
      "    log1p(x, /)\n",
      "        Return the natural logarithm of 1+x (base e).\n",
      "        \n",
      "        The result is computed in a way which is accurate for x near zero.\n",
      "    \n",
      "    log2(x, /)\n",
      "        Return the base 2 logarithm of x.\n",
      "    \n",
      "    modf(x, /)\n",
      "        Return the fractional and integer parts of x.\n",
      "        \n",
      "        Both results carry the sign of x and are floats.\n",
      "    \n",
      "    nextafter(x, y, /)\n",
      "        Return the next floating-point value after x towards y.\n",
      "    \n",
      "    perm(n, k=None, /)\n",
      "        Number of ways to choose k items from n items without repetition and with order.\n",
      "        \n",
      "        Evaluates to n! / (n - k)! when k <= n and evaluates\n",
      "        to zero when k > n.\n",
      "        \n",
      "        If k is not specified or is None, then k defaults to n\n",
      "        and the function returns n!.\n",
      "        \n",
      "        Raises TypeError if either of the arguments are not integers.\n",
      "        Raises ValueError if either of the arguments are negative.\n",
      "    \n",
      "    pow(x, y, /)\n",
      "        Return x**y (x to the power of y).\n",
      "    \n",
      "    prod(iterable, /, *, start=1)\n",
      "        Calculate the product of all the elements in the input iterable.\n",
      "        \n",
      "        The default start value for the product is 1.\n",
      "        \n",
      "        When the iterable is empty, return the start value.  This function is\n",
      "        intended specifically for use with numeric values and may reject\n",
      "        non-numeric types.\n",
      "    \n",
      "    radians(x, /)\n",
      "        Convert angle x from degrees to radians.\n",
      "    \n",
      "    remainder(x, y, /)\n",
      "        Difference between x and the closest integer multiple of y.\n",
      "        \n",
      "        Return x - n*y where n*y is the closest integer multiple of y.\n",
      "        In the case where x is exactly halfway between two multiples of\n",
      "        y, the nearest even value of n is used. The result is always exact.\n",
      "    \n",
      "    sin(x, /)\n",
      "        Return the sine of x (measured in radians).\n",
      "    \n",
      "    sinh(x, /)\n",
      "        Return the hyperbolic sine of x.\n",
      "    \n",
      "    sqrt(x, /)\n",
      "        Return the square root of x.\n",
      "    \n",
      "    tan(x, /)\n",
      "        Return the tangent of x (measured in radians).\n",
      "    \n",
      "    tanh(x, /)\n",
      "        Return the hyperbolic tangent of x.\n",
      "    \n",
      "    trunc(x, /)\n",
      "        Truncates the Real x to the nearest Integral toward 0.\n",
      "        \n",
      "        Uses the __trunc__ magic method.\n",
      "    \n",
      "    ulp(x, /)\n",
      "        Return the value of the least significant bit of the float x.\n",
      "\n",
      "DATA\n",
      "    e = 2.718281828459045\n",
      "    inf = inf\n",
      "    nan = nan\n",
      "    pi = 3.141592653589793\n",
      "    tau = 6.283185307179586\n",
      "\n",
      "FILE\n",
      "    (built-in)\n",
      "\n",
      "\n"
     ]
    }
   ],
   "source": [
    "help(math) #help() yardımızla kütüphanemiz ile neler yapabileceğimizi inceliyoruz."
   ]
  },
  {
   "cell_type": "code",
   "execution_count": 80,
   "id": "spiritual-berry",
   "metadata": {},
   "outputs": [
    {
     "name": "stdout",
     "output_type": "stream",
     "text": [
      "Help on built-in function factorial in module math:\n",
      "\n",
      "factorial(x, /)\n",
      "    Find x!.\n",
      "    \n",
      "    Raise a ValueError if x is negative or non-integral.\n",
      "\n"
     ]
    }
   ],
   "source": [
    "help(math.factorial)\n"
   ]
  },
  {
   "cell_type": "code",
   "execution_count": 81,
   "id": "compliant-woman",
   "metadata": {},
   "outputs": [
    {
     "data": {
      "text/plain": [
       "3628800"
      ]
     },
     "execution_count": 81,
     "metadata": {},
     "output_type": "execute_result"
    }
   ],
   "source": [
    "math.factorial(10) #Kütüphanemizde hazır gelen factorial fonksiyonunu kullanıyoruz."
   ]
  },
  {
   "cell_type": "code",
   "execution_count": 82,
   "id": "greek-haiti",
   "metadata": {},
   "outputs": [
    {
     "data": {
      "text/plain": [
       "120"
      ]
     },
     "execution_count": 82,
     "metadata": {},
     "output_type": "execute_result"
    }
   ],
   "source": [
    "math.factorial(5)"
   ]
  },
  {
   "cell_type": "code",
   "execution_count": 83,
   "id": "valued-company",
   "metadata": {},
   "outputs": [
    {
     "name": "stdout",
     "output_type": "stream",
     "text": [
      "Help on built-in function floor in module math:\n",
      "\n",
      "floor(x, /)\n",
      "    Return the floor of x as an Integral.\n",
      "    \n",
      "    This is the largest integer <= x.\n",
      "\n"
     ]
    }
   ],
   "source": [
    "help(math.floor)"
   ]
  },
  {
   "cell_type": "code",
   "execution_count": 84,
   "id": "duplicate-accuracy",
   "metadata": {},
   "outputs": [
    {
     "ename": "NameError",
     "evalue": "name 'floor' is not defined",
     "output_type": "error",
     "traceback": [
      "\u001b[1;31m---------------------------------------------------------------------------\u001b[0m",
      "\u001b[1;31mNameError\u001b[0m                                 Traceback (most recent call last)",
      "\u001b[1;32m<ipython-input-84-28db35cdfd57>\u001b[0m in \u001b[0;36m<module>\u001b[1;34m\u001b[0m\n\u001b[1;32m----> 1\u001b[1;33m \u001b[0mfloor\u001b[0m\u001b[1;33m(\u001b[0m\u001b[1;36m3.58\u001b[0m\u001b[1;33m)\u001b[0m\u001b[1;33m\u001b[0m\u001b[1;33m\u001b[0m\u001b[0m\n\u001b[0m",
      "\u001b[1;31mNameError\u001b[0m: name 'floor' is not defined"
     ]
    }
   ],
   "source": [
    "floor(3.58) #kütüphanemizi from yardımıyla tanımlamadığımız için hatalı bir kullanım."
   ]
  },
  {
   "cell_type": "code",
   "execution_count": 85,
   "id": "upper-responsibility",
   "metadata": {},
   "outputs": [],
   "source": [
    "import math as a # as yardımıyla kütüphanemizdeki değerleri kendi atadığımız değer ile çağırabiliyoruz."
   ]
  },
  {
   "cell_type": "code",
   "execution_count": 86,
   "id": "cooked-remedy",
   "metadata": {},
   "outputs": [
    {
     "data": {
      "text/plain": [
       "3"
      ]
     },
     "execution_count": 86,
     "metadata": {},
     "output_type": "execute_result"
    }
   ],
   "source": [
    "a.floor(3.14)"
   ]
  },
  {
   "cell_type": "code",
   "execution_count": 87,
   "id": "clear-sustainability",
   "metadata": {},
   "outputs": [
    {
     "data": {
      "text/plain": [
       "3"
      ]
     },
     "execution_count": 87,
     "metadata": {},
     "output_type": "execute_result"
    }
   ],
   "source": [
    "a.floor(3.14)"
   ]
  },
  {
   "cell_type": "code",
   "execution_count": 88,
   "id": "cleared-entry",
   "metadata": {},
   "outputs": [],
   "source": [
    "from math import * #from ile kütüphanenin tamamını projemize dahil ediyoruz. Kütüphane adını kullanmamıza gerek kalmıyor."
   ]
  },
  {
   "cell_type": "code",
   "execution_count": 89,
   "id": "approximate-carry",
   "metadata": {},
   "outputs": [
    {
     "data": {
      "text/plain": [
       "3"
      ]
     },
     "execution_count": 89,
     "metadata": {},
     "output_type": "execute_result"
    }
   ],
   "source": [
    "floor(3.14)"
   ]
  },
  {
   "cell_type": "code",
   "execution_count": 90,
   "id": "unavailable-conducting",
   "metadata": {},
   "outputs": [
    {
     "data": {
      "text/plain": [
       "3"
      ]
     },
     "execution_count": 90,
     "metadata": {},
     "output_type": "execute_result"
    }
   ],
   "source": [
    "floor(3.14)"
   ]
  },
  {
   "cell_type": "code",
   "execution_count": 91,
   "id": "colored-jacob",
   "metadata": {},
   "outputs": [],
   "source": [
    "from math import factorial,floor #sadece kullanmak istediğimizi kısımları import edebiliyoruz."
   ]
  },
  {
   "cell_type": "code",
   "execution_count": 92,
   "id": "virgin-protest",
   "metadata": {},
   "outputs": [
    {
     "data": {
      "text/plain": [
       "3"
      ]
     },
     "execution_count": 92,
     "metadata": {},
     "output_type": "execute_result"
    }
   ],
   "source": [
    "floor(3.14)"
   ]
  },
  {
   "cell_type": "code",
   "execution_count": 93,
   "id": "surrounded-discipline",
   "metadata": {},
   "outputs": [
    {
     "data": {
      "text/plain": [
       "6"
      ]
     },
     "execution_count": 93,
     "metadata": {},
     "output_type": "execute_result"
    }
   ],
   "source": [
    "factorial(3)"
   ]
  }
 ],
 "metadata": {
  "kernelspec": {
   "display_name": "Python 3",
   "language": "python",
   "name": "python3"
  },
  "language_info": {
   "codemirror_mode": {
    "name": "ipython",
    "version": 3
   },
   "file_extension": ".py",
   "mimetype": "text/x-python",
   "name": "python",
   "nbconvert_exporter": "python",
   "pygments_lexer": "ipython3",
   "version": "3.9.1"
  }
 },
 "nbformat": 4,
 "nbformat_minor": 5
}
