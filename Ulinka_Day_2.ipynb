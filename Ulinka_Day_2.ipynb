{
 "cells": [
  {
   "cell_type": "markdown",
   "id": "identical-start",
   "metadata": {},
   "source": [
    "### **Boolean**\n",
    "+ Boolean değerler Pythonda bir veri tipidir ve iki değere sahiplerdir: True ve False.\n",
    "+ Pythonda bir sayı değeri eğer 0'dan farklıysa True, 0 ise False olarak nitelendirilir."
   ]
  },
  {
   "cell_type": "code",
   "execution_count": 1,
   "id": "greek-concern",
   "metadata": {},
   "outputs": [
    {
     "data": {
      "text/plain": [
       "False"
      ]
     },
     "execution_count": 1,
     "metadata": {},
     "output_type": "execute_result"
    }
   ],
   "source": [
    "bool(0)"
   ]
  },
  {
   "cell_type": "code",
   "execution_count": 2,
   "id": "civil-convergence",
   "metadata": {},
   "outputs": [
    {
     "data": {
      "text/plain": [
       "True"
      ]
     },
     "execution_count": 2,
     "metadata": {},
     "output_type": "execute_result"
    }
   ],
   "source": [
    "bool(1)"
   ]
  },
  {
   "cell_type": "code",
   "execution_count": 3,
   "id": "baking-consumer",
   "metadata": {},
   "outputs": [
    {
     "data": {
      "text/plain": [
       "True"
      ]
     },
     "execution_count": 3,
     "metadata": {},
     "output_type": "execute_result"
    }
   ],
   "source": [
    "bool(-2)"
   ]
  },
  {
   "cell_type": "code",
   "execution_count": 4,
   "id": "listed-textbook",
   "metadata": {},
   "outputs": [
    {
     "data": {
      "text/plain": [
       "True"
      ]
     },
     "execution_count": 4,
     "metadata": {},
     "output_type": "execute_result"
    }
   ],
   "source": [
    "bool(\"a\")"
   ]
  },
  {
   "cell_type": "code",
   "execution_count": 5,
   "id": "intelligent-refund",
   "metadata": {},
   "outputs": [
    {
     "data": {
      "text/plain": [
       "True"
      ]
     },
     "execution_count": 5,
     "metadata": {},
     "output_type": "execute_result"
    }
   ],
   "source": [
    "bool(\"0\") #Sıfır burada string olarak tanımlandığı için True değeri dönecektir"
   ]
  },
  {
   "cell_type": "markdown",
   "id": "ethical-office",
   "metadata": {},
   "source": [
    "### **Karşılaştırma operatörleri**\n",
    "+  **\">\"**    büyüktür anlamına gelir, soldaki sayı büyükse True, değilse False değeri alır.\n",
    "+  **\"<\"**    küçüktür anlamına gelir, soldaki sayı küçükse True, değilse False değeri alır.\n",
    "+  **\">=\"**   soldaki değer büyük veya eşitse True, değilse False değeri alır.\n",
    "+  **\"<=\"**   soldaki değer küçük veya eşitse True, değilse False değeri alır.\n",
    "+  **\"==\"**   eşittir anlamına gelir, eşitlik sağlanıyorsa True, eşitlik sağlanmıyorsa False değeri alır.\n",
    "+  **\"!=\"**   eşit değildir anlamına gelir, eşitlik sağlanıyorsa False, eşitlik sağlanmıyorsa True değeri alır."
   ]
  },
  {
   "cell_type": "code",
   "execution_count": 6,
   "id": "better-hearing",
   "metadata": {},
   "outputs": [
    {
     "data": {
      "text/plain": [
       "False"
      ]
     },
     "execution_count": 6,
     "metadata": {},
     "output_type": "execute_result"
    }
   ],
   "source": [
    "\"A\" == \"a\" #Büyük ve küçük karakterler farklı olarak sınıflandırılır"
   ]
  },
  {
   "cell_type": "code",
   "execution_count": 7,
   "id": "finnish-portugal",
   "metadata": {},
   "outputs": [
    {
     "data": {
      "text/plain": [
       "False"
      ]
     },
     "execution_count": 7,
     "metadata": {},
     "output_type": "execute_result"
    }
   ],
   "source": [
    "\"A\" == \"B\""
   ]
  },
  {
   "cell_type": "code",
   "execution_count": 8,
   "id": "aggressive-medicine",
   "metadata": {},
   "outputs": [
    {
     "data": {
      "text/plain": [
       "True"
      ]
     },
     "execution_count": 8,
     "metadata": {},
     "output_type": "execute_result"
    }
   ],
   "source": [
    "\"A\" < \"a\""
   ]
  },
  {
   "cell_type": "code",
   "execution_count": 9,
   "id": "living-cincinnati",
   "metadata": {},
   "outputs": [
    {
     "data": {
      "text/plain": [
       "False"
      ]
     },
     "execution_count": 9,
     "metadata": {},
     "output_type": "execute_result"
    }
   ],
   "source": [
    "1 > 2"
   ]
  },
  {
   "cell_type": "code",
   "execution_count": 10,
   "id": "alert-rainbow",
   "metadata": {},
   "outputs": [
    {
     "data": {
      "text/plain": [
       "True"
      ]
     },
     "execution_count": 10,
     "metadata": {},
     "output_type": "execute_result"
    }
   ],
   "source": [
    "1 < 2"
   ]
  },
  {
   "cell_type": "code",
   "execution_count": 11,
   "id": "failing-capture",
   "metadata": {},
   "outputs": [
    {
     "data": {
      "text/plain": [
       "True"
      ]
     },
     "execution_count": 11,
     "metadata": {},
     "output_type": "execute_result"
    }
   ],
   "source": [
    "8 != 4"
   ]
  },
  {
   "cell_type": "code",
   "execution_count": 12,
   "id": "permanent-cliff",
   "metadata": {},
   "outputs": [
    {
     "data": {
      "text/plain": [
       "False"
      ]
     },
     "execution_count": 12,
     "metadata": {},
     "output_type": "execute_result"
    }
   ],
   "source": [
    "8 != 8"
   ]
  },
  {
   "cell_type": "markdown",
   "id": "pressing-swift",
   "metadata": {},
   "source": [
    "### **and**\n",
    "+ and operatörü tüm işlemlerin sonucunun True olup olmadığına bakar."
   ]
  },
  {
   "cell_type": "code",
   "execution_count": 13,
   "id": "prompt-humor",
   "metadata": {},
   "outputs": [
    {
     "data": {
      "text/plain": [
       "False"
      ]
     },
     "execution_count": 13,
     "metadata": {},
     "output_type": "execute_result"
    }
   ],
   "source": [
    "\"Ulinka\" == \"Ulinka\" and 4 < 3"
   ]
  },
  {
   "cell_type": "code",
   "execution_count": 14,
   "id": "dying-rover",
   "metadata": {},
   "outputs": [
    {
     "data": {
      "text/plain": [
       "False"
      ]
     },
     "execution_count": 14,
     "metadata": {},
     "output_type": "execute_result"
    }
   ],
   "source": [
    "\"Ulinka\" == \"Ulinka\" and 4 < 4"
   ]
  },
  {
   "cell_type": "code",
   "execution_count": 15,
   "id": "opponent-drove",
   "metadata": {},
   "outputs": [
    {
     "data": {
      "text/plain": [
       "True"
      ]
     },
     "execution_count": 15,
     "metadata": {},
     "output_type": "execute_result"
    }
   ],
   "source": [
    "\"Ulinka\" == \"Ulinka\" and 4 <= 4"
   ]
  },
  {
   "cell_type": "markdown",
   "id": "coral-ottawa",
   "metadata": {},
   "source": [
    "### **or**\n",
    "+ or operatörü işlemlerin sonucunun en az birinin True olup olmadığına bakar."
   ]
  },
  {
   "cell_type": "code",
   "execution_count": 16,
   "id": "located-figure",
   "metadata": {},
   "outputs": [
    {
     "data": {
      "text/plain": [
       "True"
      ]
     },
     "execution_count": 16,
     "metadata": {},
     "output_type": "execute_result"
    }
   ],
   "source": [
    "\"Ulinka\" == \"Ulinka\" or 4 < 3"
   ]
  },
  {
   "cell_type": "code",
   "execution_count": 17,
   "id": "reflected-equivalent",
   "metadata": {},
   "outputs": [
    {
     "data": {
      "text/plain": [
       "False"
      ]
     },
     "execution_count": 17,
     "metadata": {},
     "output_type": "execute_result"
    }
   ],
   "source": [
    "\"Ulinka\" != \"Ulinka\" or 4 < 4"
   ]
  },
  {
   "cell_type": "markdown",
   "id": "rubber-translation",
   "metadata": {},
   "source": [
    "### **not**\n",
    "+ not operatörü işlemlerin sonucunu tersine çevirir."
   ]
  },
  {
   "cell_type": "code",
   "execution_count": 18,
   "id": "downtown-african",
   "metadata": {},
   "outputs": [
    {
     "data": {
      "text/plain": [
       "False"
      ]
     },
     "execution_count": 18,
     "metadata": {},
     "output_type": "execute_result"
    }
   ],
   "source": [
    "not \"Ulinka\" == \"Ulinka\" or 4 < 3"
   ]
  },
  {
   "cell_type": "code",
   "execution_count": 19,
   "id": "aging-circus",
   "metadata": {},
   "outputs": [
    {
     "data": {
      "text/plain": [
       "True"
      ]
     },
     "execution_count": 19,
     "metadata": {},
     "output_type": "execute_result"
    }
   ],
   "source": [
    "not \"Ulinka\" != \"Ulinka\" or 4 < 4"
   ]
  },
  {
   "cell_type": "markdown",
   "id": "accompanied-decade",
   "metadata": {},
   "source": [
    "+ operatörleri birlikte kullanabiliriz."
   ]
  },
  {
   "cell_type": "code",
   "execution_count": 20,
   "id": "configured-hawaii",
   "metadata": {},
   "outputs": [
    {
     "data": {
      "text/plain": [
       "True"
      ]
     },
     "execution_count": 20,
     "metadata": {},
     "output_type": "execute_result"
    }
   ],
   "source": [
    "not (3.14 > 3.49 or ( 6 != 6 and \"Ulinka\" == \"Ulinka\"))"
   ]
  },
  {
   "cell_type": "markdown",
   "id": "extra-australia",
   "metadata": {},
   "source": [
    "### **if**\n"
   ]
  },
  {
   "cell_type": "code",
   "execution_count": 21,
   "id": "valid-tyler",
   "metadata": {},
   "outputs": [
    {
     "name": "stdin",
     "output_type": "stream",
     "text": [
      "Lütfen bir sayı giriniz:  1\n"
     ]
    },
    {
     "name": "stdout",
     "output_type": "stream",
     "text": [
      "Ulinka\n"
     ]
    }
   ],
   "source": [
    "x = int(input(\"Lütfen bir sayı giriniz: \"))\n",
    "if x >= 10: #x değerimiz 10'dan büyükse veya eşitse, if durumu geçerli olur\n",
    "    print(x) # Fonksiyonumuzun doğru çalışması için girintiye dikkat etmemiz gerekiyor.\n",
    "print(\"Ulinka\")"
   ]
  },
  {
   "cell_type": "code",
   "execution_count": 22,
   "id": "determined-combining",
   "metadata": {},
   "outputs": [
    {
     "name": "stdin",
     "output_type": "stream",
     "text": [
      "Lütfen bir sayı giriniz:  1\n"
     ]
    }
   ],
   "source": [
    "x = int(input(\"Lütfen bir sayı giriniz: \"))\n",
    "if x < 0:\n",
    "    print(\"Negatif sayı\")"
   ]
  },
  {
   "cell_type": "markdown",
   "id": "banned-world",
   "metadata": {},
   "source": [
    "### **else**"
   ]
  },
  {
   "cell_type": "code",
   "execution_count": 23,
   "id": "packed-density",
   "metadata": {},
   "outputs": [
    {
     "name": "stdin",
     "output_type": "stream",
     "text": [
      "Lütfen bir sayı giriniz:  1\n"
     ]
    },
    {
     "name": "stdout",
     "output_type": "stream",
     "text": [
      "Pozitif sayı\n"
     ]
    }
   ],
   "source": [
    "x = int(input(\"Lütfen bir sayı giriniz: \"))\n",
    "if x < 0:\n",
    "    print(\"Negatif sayı\")\n",
    "else:\n",
    "    print(\"Pozitif sayı\")"
   ]
  },
  {
   "cell_type": "code",
   "execution_count": 24,
   "id": "differential-blackberry",
   "metadata": {},
   "outputs": [
    {
     "ename": "SyntaxError",
     "evalue": "invalid syntax (<ipython-input-24-3719e73e0ae4>, line 2)",
     "output_type": "error",
     "traceback": [
      "\u001b[1;36m  File \u001b[1;32m\"<ipython-input-24-3719e73e0ae4>\"\u001b[1;36m, line \u001b[1;32m2\u001b[0m\n\u001b[1;33m    else:\u001b[0m\n\u001b[1;37m    ^\u001b[0m\n\u001b[1;31mSyntaxError\u001b[0m\u001b[1;31m:\u001b[0m invalid syntax\n"
     ]
    }
   ],
   "source": [
    "#Else tek başına kullanılamaz\n",
    "x = int(input(\"Lütfen bir sayı giriniz: \"))\n",
    "else:\n",
    "    print(\"Pozitif sayı\")"
   ]
  },
  {
   "cell_type": "markdown",
   "id": "stuffed-layer",
   "metadata": {},
   "source": [
    "### **elif**"
   ]
  },
  {
   "cell_type": "code",
   "execution_count": 25,
   "id": "sharp-asbestos",
   "metadata": {},
   "outputs": [
    {
     "name": "stdin",
     "output_type": "stream",
     "text": [
      "Lütfen bir sayı giriniz:  1\n"
     ]
    },
    {
     "name": "stdout",
     "output_type": "stream",
     "text": [
      "Pozitif sayı\n"
     ]
    }
   ],
   "source": [
    "x = int(input(\"Lütfen bir sayı giriniz: \"))\n",
    "if x < 0:\n",
    "    print(\"Negatif sayı\")\n",
    "elif x == 0:\n",
    "    print(\"Nötr\")\n",
    "else:\n",
    "    print(\"Pozitif sayı\")"
   ]
  },
  {
   "cell_type": "markdown",
   "id": "mechanical-opening",
   "metadata": {},
   "source": [
    "### Hesap Makinesi"
   ]
  },
  {
   "cell_type": "code",
   "execution_count": 26,
   "id": "middle-adelaide",
   "metadata": {},
   "outputs": [
    {
     "name": "stdout",
     "output_type": "stream",
     "text": [
      "\n",
      "------------------\n",
      "| Hesap Makinesi |\n",
      "------------------\n",
      "\n",
      "Toplama işlemi için: +\n",
      "\n",
      "Çıkartma işlemi için: -\n",
      "\n",
      "Çarpma işlemi için: *\n",
      "\n",
      "Bölme işlemi için: /\n",
      "\n",
      "Üslü sayı için: **\n",
      "\n",
      "Tamsayı bölmesi için: //\n",
      "\n",
      "Kalan bulmak için: %\n",
      "\n",
      "işaretlerini kullanabilirsiniz.\n",
      "\n",
      "--------------------------------\n",
      "\n",
      "\n"
     ]
    },
    {
     "name": "stdin",
     "output_type": "stream",
     "text": [
      "Birinci sayıyı giriniz:  1\n",
      "İkinci sayıyı giriniz:  1\n",
      "Yapmak istediğiniz işlemi giriniz:  +\n"
     ]
    },
    {
     "name": "stdout",
     "output_type": "stream",
     "text": [
      "1 artı 1 eşittir 2.\n"
     ]
    }
   ],
   "source": [
    "print(\"\"\"\n",
    "------------------\n",
    "| Hesap Makinesi |\n",
    "------------------\n",
    "\n",
    "Toplama işlemi için: +\n",
    "\n",
    "Çıkartma işlemi için: -\n",
    "\n",
    "Çarpma işlemi için: *\n",
    "\n",
    "Bölme işlemi için: /\n",
    "\n",
    "Üslü sayı için: **\n",
    "\n",
    "Tamsayı bölmesi için: //\n",
    "\n",
    "Kalan bulmak için: %\n",
    "\n",
    "işaretlerini kullanabilirsiniz.\n",
    "\n",
    "--------------------------------\n",
    "\n",
    "\"\"\")\n",
    "\n",
    "\n",
    "\n",
    "\n",
    "x = int(input(\"Birinci sayıyı giriniz: \"))\n",
    "y = int(input(\"İkinci sayıyı giriniz: \"))\n",
    "z = input(\"Yapmak istediğiniz işlemi giriniz: \")\n",
    "\n",
    "\n",
    "if z == \"+\":\n",
    "    print(\"{} artı {} eşittir {}.\".format(x,y,x+y))\n",
    "    \n",
    "elif z == \"-\":\n",
    "    print(\"{} eksi {} eşittir {}.\".format(x,y,x-y))\n",
    "    \n",
    "elif z == \"*\":\n",
    "    print(\"{} çarpı {} eşittir {}.\".format(x,y,x*y))\n",
    "\n",
    "elif z == \"/\":\n",
    "    print(\"{} bölü {} eşittir {}.\".format(x,y,x/y))\n",
    "    \n",
    "elif z == \"**\":\n",
    "    print(\"{} üzeri {} eşittir {}.\".format(x,y,x**y))\n",
    "    \n",
    "elif z == \"//\":\n",
    "    print(\"{} bölü {} tam sayı değeri eşittir {}.\".format(x,y,x//y))\n",
    "    \n",
    "elif z == \"%\":\n",
    "    print(\"{} bölü {} kalanı eşittir {}.\".format(x,y,x%y))\n",
    "    \n",
    "else:\n",
    "    print(\"Geçersiz işlem girdiniz!\")\n"
   ]
  },
  {
   "cell_type": "markdown",
   "id": "foster-deviation",
   "metadata": {},
   "source": [
    "## **Döngüler**"
   ]
  },
  {
   "cell_type": "markdown",
   "id": "fuzzy-company",
   "metadata": {},
   "source": [
    "### **For Döngüsü**"
   ]
  },
  {
   "cell_type": "code",
   "execution_count": 27,
   "id": "considered-procurement",
   "metadata": {},
   "outputs": [
    {
     "data": {
      "text/plain": [
       "True"
      ]
     },
     "execution_count": 27,
     "metadata": {},
     "output_type": "execute_result"
    }
   ],
   "source": [
    "\"e\" in \"emirhan\" #emirhan stinginin içinde \"e\" olup olmadığını kontrol ediyor."
   ]
  },
  {
   "cell_type": "code",
   "execution_count": 28,
   "id": "realistic-times",
   "metadata": {},
   "outputs": [
    {
     "data": {
      "text/plain": [
       "False"
      ]
     },
     "execution_count": 28,
     "metadata": {},
     "output_type": "execute_result"
    }
   ],
   "source": [
    "\"b\" in \"emirhan\" #emirhan stinginin içinde \"b\" olup olmadığını kontrol ediyor."
   ]
  },
  {
   "cell_type": "code",
   "execution_count": 29,
   "id": "traditional-projection",
   "metadata": {},
   "outputs": [
    {
     "data": {
      "text/plain": [
       "True"
      ]
     },
     "execution_count": 29,
     "metadata": {},
     "output_type": "execute_result"
    }
   ],
   "source": [
    "5 in [1,2,3,4,5,6,7,8] #Listemizin içinde 5 olup olmadığını kontrol ediyor."
   ]
  },
  {
   "cell_type": "code",
   "execution_count": 30,
   "id": "rotary-prison",
   "metadata": {},
   "outputs": [
    {
     "data": {
      "text/plain": [
       "False"
      ]
     },
     "execution_count": 30,
     "metadata": {},
     "output_type": "execute_result"
    }
   ],
   "source": [
    "9 in [1,2,3,4,5,6,7,8] #Listemizin içinde 9 olup olmadığını kontrol ediyor."
   ]
  },
  {
   "cell_type": "code",
   "execution_count": 31,
   "id": "second-benjamin",
   "metadata": {},
   "outputs": [
    {
     "name": "stdout",
     "output_type": "stream",
     "text": [
      "1\n",
      "2\n",
      "3\n",
      "4\n",
      "5\n",
      "6\n",
      "7\n",
      "8\n",
      "9\n",
      "10\n",
      "11\n"
     ]
    }
   ],
   "source": [
    "x = [1,2,3,4,5,6,7,8,9,10,11]\n",
    "\n",
    "for i in x: #i değerimiz x listesinin içindeki tüm elemanlarda tek tek geziniyor.\n",
    "    print(i)"
   ]
  },
  {
   "cell_type": "code",
   "execution_count": 32,
   "id": "english-future",
   "metadata": {},
   "outputs": [
    {
     "name": "stdout",
     "output_type": "stream",
     "text": [
      "Ali\n",
      "Ahmet\n",
      "Ayşe\n",
      "Nur\n",
      "Mehmet\n",
      "Aslı\n"
     ]
    }
   ],
   "source": [
    "x = [\"Ali\",\"Ahmet\",\"Ayşe\",\"Büşra\",\"Mehmet\",\"Aslı\"]\n",
    "\n",
    "for i in x:\n",
    "    print(i)"
   ]
  },
  {
   "cell_type": "code",
   "execution_count": 33,
   "id": "immediate-rocket",
   "metadata": {},
   "outputs": [
    {
     "name": "stdout",
     "output_type": "stream",
     "text": [
      "Kullanıcı ismi: Ali\n",
      "Kullanıcı ismi: Ahmet\n",
      "Kullanıcı ismi: Ayşe\n",
      "Kullanıcı ismi: Büşra\n",
      "Kullanıcı ismi: Mehmet\n",
      "Kullanıcı ismi: Aslı\n"
     ]
    }
   ],
   "source": [
    "x = [\"Ali\",\"Ahmet\",\"Ayşe\",\"Büşra\",\"Mehmet\",\"Aslı\"]\n",
    "\n",
    "for i in x:\n",
    "    print(\"Kullanıcı ismi:\", i)"
   ]
  },
  {
   "cell_type": "code",
   "execution_count": 34,
   "id": "framed-floating",
   "metadata": {},
   "outputs": [
    {
     "name": "stdout",
     "output_type": "stream",
     "text": [
      "1\n",
      "3\n",
      "6\n",
      "10\n",
      "15\n",
      "21\n",
      "28\n",
      "36\n"
     ]
    }
   ],
   "source": [
    "x = [1,2,3,4,5,6,7,8]\n",
    "y = 0 \n",
    "\n",
    "for i in x:\n",
    "    y += i #y değerine for döngümüzden dolayı i'nin aldığı tüm değerler sırayla ekleniyor.\n",
    "    print(y)"
   ]
  },
  {
   "cell_type": "code",
   "execution_count": 35,
   "id": "prescription-decimal",
   "metadata": {},
   "outputs": [
    {
     "name": "stdout",
     "output_type": "stream",
     "text": [
      "36\n"
     ]
    }
   ],
   "source": [
    "x = [1,2,3,4,5,6,7,8]\n",
    "y = 0 \n",
    "\n",
    "for i in x:\n",
    "    y += i\n",
    "print(y) #print fonksiyonumuz girintinin dışında olduğu için son değer yazdırılıyor"
   ]
  },
  {
   "cell_type": "code",
   "execution_count": 36,
   "id": "listed-option",
   "metadata": {},
   "outputs": [
    {
     "name": "stdout",
     "output_type": "stream",
     "text": [
      "U\n",
      "l\n",
      "i\n",
      "n\n",
      "k\n",
      "a\n",
      " \n",
      "U\n",
      "l\n",
      "u\n",
      "d\n",
      "a\n",
      "ğ\n"
     ]
    }
   ],
   "source": [
    "x = \"Ulinka Uludağ\"\n",
    "for i in x: #i değişkenimiz \"Ulinka Uludağ\" strindeki tüm elemanlar üzerinde geziniyor.\n",
    "    print(i)"
   ]
  },
  {
   "cell_type": "code",
   "execution_count": 37,
   "id": "determined-chambers",
   "metadata": {},
   "outputs": [
    {
     "name": "stdout",
     "output_type": "stream",
     "text": [
      "1 2\n",
      "3 4\n",
      "5 6\n",
      "7 8\n"
     ]
    }
   ],
   "source": [
    "x = [(1,2),(3,4),(5,6),(7,8)]\n",
    "\n",
    "for i,j in x: #i ve j değişkenlerimiz sırasıyla x listesinin içindeki değerlerde, indeks sırasına göre geziniyor.\n",
    "    print(i,j)"
   ]
  },
  {
   "cell_type": "code",
   "execution_count": 38,
   "id": "labeled-contamination",
   "metadata": {},
   "outputs": [
    {
     "name": "stdout",
     "output_type": "stream",
     "text": [
      "0\n",
      "5\n",
      "10\n",
      "15\n",
      "20\n",
      "25\n",
      "30\n",
      "35\n",
      "40\n",
      "45\n"
     ]
    }
   ],
   "source": [
    "x = 0\n",
    "\n",
    "while(x<50): #x'in 50'den küçük olduğu tüm durumlarda döngümüz çalışmaya devam eder.\n",
    "    print(x)\n",
    "    x += 5 #x değişkenimiz döngü her çalıştığında 5 arttırılıyor"
   ]
  },
  {
   "cell_type": "code",
   "execution_count": 39,
   "id": "right-outside",
   "metadata": {},
   "outputs": [
    {
     "name": "stdout",
     "output_type": "stream",
     "text": [
      "Ulinka Uludağ <3\n",
      "Ulinka Uludağ <3\n",
      "Ulinka Uludağ <3\n",
      "Ulinka Uludağ <3\n",
      "Ulinka Uludağ <3\n",
      "Ulinka Uludağ <3\n",
      "Ulinka Uludağ <3\n",
      "Ulinka Uludağ <3\n",
      "Ulinka Uludağ <3\n",
      "Ulinka Uludağ <3\n",
      "Ulinka Uludağ <3\n",
      "Ulinka Uludağ <3\n",
      "Ulinka Uludağ <3\n",
      "Ulinka Uludağ <3\n",
      "Ulinka Uludağ <3\n",
      "Ulinka Uludağ <3\n",
      "Ulinka Uludağ <3\n",
      "Ulinka Uludağ <3\n",
      "Ulinka Uludağ <3\n",
      "Ulinka Uludağ <3\n"
     ]
    }
   ],
   "source": [
    "x = 0\n",
    "\n",
    "while(x<20):\n",
    "    print(\"Ulinka Uludağ <3\")\n",
    "    x += 1"
   ]
  },
  {
   "cell_type": "code",
   "execution_count": 40,
   "id": "engaged-discipline",
   "metadata": {},
   "outputs": [
    {
     "ename": "TypeError",
     "evalue": "unsupported operand type(s) for +: 'int' and 'str'",
     "output_type": "error",
     "traceback": [
      "\u001b[1;31m---------------------------------------------------------------------------\u001b[0m",
      "\u001b[1;31mTypeError\u001b[0m                                 Traceback (most recent call last)",
      "\u001b[1;32m<ipython-input-40-bd7740bf368e>\u001b[0m in \u001b[0;36m<module>\u001b[1;34m\u001b[0m\n\u001b[0;32m      2\u001b[0m \u001b[1;33m\u001b[0m\u001b[0m\n\u001b[0;32m      3\u001b[0m \u001b[1;32mwhile\u001b[0m\u001b[1;33m(\u001b[0m\u001b[0mx\u001b[0m\u001b[1;33m<\u001b[0m\u001b[1;36m50\u001b[0m\u001b[1;33m)\u001b[0m\u001b[1;33m:\u001b[0m\u001b[1;33m\u001b[0m\u001b[1;33m\u001b[0m\u001b[0m\n\u001b[1;32m----> 4\u001b[1;33m     \u001b[0mprint\u001b[0m\u001b[1;33m(\u001b[0m\u001b[0mx\u001b[0m \u001b[1;33m+\u001b[0m \u001b[1;34m\": \"\u001b[0m \u001b[1;33m+\u001b[0m \u001b[1;34m\"Ulinka Uludağ <3\"\u001b[0m\u001b[1;33m)\u001b[0m \u001b[1;31m#Str ve int toplanamaz\u001b[0m\u001b[1;33m\u001b[0m\u001b[1;33m\u001b[0m\u001b[0m\n\u001b[0m\u001b[0;32m      5\u001b[0m     \u001b[0mx\u001b[0m \u001b[1;33m+=\u001b[0m \u001b[1;36m1\u001b[0m\u001b[1;33m\u001b[0m\u001b[1;33m\u001b[0m\u001b[0m\n",
      "\u001b[1;31mTypeError\u001b[0m: unsupported operand type(s) for +: 'int' and 'str'"
     ]
    }
   ],
   "source": [
    "x = 0\n",
    "\n",
    "while(x<50):\n",
    "    print(x + \": \" + \"Ulinka Uludağ <3\") #Str ve int toplanamaz\n",
    "    x += 1"
   ]
  },
  {
   "cell_type": "code",
   "execution_count": 41,
   "id": "multiple-interaction",
   "metadata": {},
   "outputs": [
    {
     "name": "stdout",
     "output_type": "stream",
     "text": [
      "0: Ulinka Uludağ <3\n",
      "1: Ulinka Uludağ <3\n",
      "2: Ulinka Uludağ <3\n",
      "3: Ulinka Uludağ <3\n",
      "4: Ulinka Uludağ <3\n",
      "5: Ulinka Uludağ <3\n",
      "6: Ulinka Uludağ <3\n",
      "7: Ulinka Uludağ <3\n",
      "8: Ulinka Uludağ <3\n",
      "9: Ulinka Uludağ <3\n",
      "10: Ulinka Uludağ <3\n",
      "11: Ulinka Uludağ <3\n",
      "12: Ulinka Uludağ <3\n",
      "13: Ulinka Uludağ <3\n",
      "14: Ulinka Uludağ <3\n",
      "15: Ulinka Uludağ <3\n",
      "16: Ulinka Uludağ <3\n",
      "17: Ulinka Uludağ <3\n",
      "18: Ulinka Uludağ <3\n",
      "19: Ulinka Uludağ <3\n"
     ]
    }
   ],
   "source": [
    "x = 0\n",
    "\n",
    "while(x<20):\n",
    "    print(str(x) + \": \" + \"Ulinka Uludağ <3\") #x'i stringe çevirdiğimizde toplama işlemini gerçekleştirebiliriz\n",
    "    x += 1"
   ]
  },
  {
   "cell_type": "code",
   "execution_count": 1,
   "id": "vital-wayne",
   "metadata": {},
   "outputs": [],
   "source": [
    "#Sakın çalıştırma :)\n",
    "#Döngü içerisinde x'i arttırmadığımız için sonsuza kadar çalışmaya devam edecektir.\n",
    "x = 0\n",
    "while (x<2):\n",
    "    print(x)"
   ]
  },
  {
   "cell_type": "markdown",
   "id": "painted-liverpool",
   "metadata": {},
   "source": [
    "### **Range**"
   ]
  },
  {
   "cell_type": "code",
   "execution_count": 42,
   "id": "persistent-stewart",
   "metadata": {},
   "outputs": [
    {
     "name": "stdout",
     "output_type": "stream",
     "text": [
      "range(0, 10)\n"
     ]
    }
   ],
   "source": [
    "print(range(0,10)) #0'dan 10'a kadar sayı dizisi oluşturuyor"
   ]
  },
  {
   "cell_type": "code",
   "execution_count": 43,
   "id": "qualified-canadian",
   "metadata": {},
   "outputs": [
    {
     "name": "stdout",
     "output_type": "stream",
     "text": [
      "0 1 2 3 4 5 6 7 8 9\n"
     ]
    }
   ],
   "source": [
    "print(*range(0,10)) #* koyarak sayı dizisinin tam çıktısını görebiliyoruz"
   ]
  },
  {
   "cell_type": "code",
   "execution_count": 44,
   "id": "certified-thong",
   "metadata": {},
   "outputs": [],
   "source": [
    "x = list(range(1,11)) #1'den 21'e kadar ilerleyen bir sayı dizisi oluşturuyor, list ile listeye çeviyoruz"
   ]
  },
  {
   "cell_type": "code",
   "execution_count": 45,
   "id": "fitting-january",
   "metadata": {},
   "outputs": [
    {
     "name": "stdout",
     "output_type": "stream",
     "text": [
      "[1, 2, 3, 4, 5, 6, 7, 8, 9, 10]\n"
     ]
    }
   ],
   "source": [
    "print(x)"
   ]
  },
  {
   "cell_type": "code",
   "execution_count": 46,
   "id": "industrial-diameter",
   "metadata": {},
   "outputs": [
    {
     "name": "stdout",
     "output_type": "stream",
     "text": [
      "0 1 2 3 4 5 6 7 8 9\n"
     ]
    }
   ],
   "source": [
    "print(*range(10))"
   ]
  },
  {
   "cell_type": "code",
   "execution_count": 47,
   "id": "logical-framework",
   "metadata": {},
   "outputs": [
    {
     "name": "stdout",
     "output_type": "stream",
     "text": [
      "5 6 7 8 9\n"
     ]
    }
   ],
   "source": [
    "print(*range(5,10)) #5'ten başlayıp 10'a kadar ilerleyen bir sayı dizisi oluşturuyoruz."
   ]
  },
  {
   "cell_type": "code",
   "execution_count": 48,
   "id": "southern-robin",
   "metadata": {},
   "outputs": [
    {
     "name": "stdout",
     "output_type": "stream",
     "text": [
      "\n"
     ]
    }
   ],
   "source": [
    "print(*range(10,5)) #Sayı dizimiz ilerleyemediği için geçersizdir"
   ]
  },
  {
   "cell_type": "code",
   "execution_count": 49,
   "id": "realistic-cycle",
   "metadata": {},
   "outputs": [
    {
     "name": "stdout",
     "output_type": "stream",
     "text": [
      "10 9 8 7 6\n"
     ]
    }
   ],
   "source": [
    "print(*range(10,5,-1)) #10'dan başlayıp 5'e kadar geriye doğru giderek bir sayı dizisi oluşturmamızı sağlıyor"
   ]
  },
  {
   "cell_type": "code",
   "execution_count": 50,
   "id": "statewide-latino",
   "metadata": {},
   "outputs": [],
   "source": [
    "x = [2,4,6,8,10,12]"
   ]
  },
  {
   "cell_type": "code",
   "execution_count": 51,
   "id": "yellow-lafayette",
   "metadata": {},
   "outputs": [
    {
     "name": "stdin",
     "output_type": "stream",
     "text": [
      "Değer giriniz:  1\n"
     ]
    },
    {
     "name": "stdout",
     "output_type": "stream",
     "text": [
      "0\n"
     ]
    }
   ],
   "source": [
    "#girdiğimiz x değerini range fonksiyonunda çalıştırıyor ve her bir değerin çıktısını alıyor \n",
    "x = int(input(\"Değer giriniz: \")) \n",
    "for i in range(x):\n",
    "    print(i)"
   ]
  },
  {
   "cell_type": "code",
   "execution_count": 52,
   "id": "controlled-spencer",
   "metadata": {},
   "outputs": [
    {
     "name": "stdout",
     "output_type": "stream",
     "text": [
      "5 15 25 35 45 55 65 75 85 95\n"
     ]
    }
   ],
   "source": [
    "print(*range(5,100,10))"
   ]
  },
  {
   "cell_type": "code",
   "execution_count": 53,
   "id": "encouraging-preparation",
   "metadata": {},
   "outputs": [
    {
     "name": "stdout",
     "output_type": "stream",
     "text": [
      "0\n",
      "1\n",
      "2\n",
      "3\n",
      "4\n",
      "5\n",
      "6\n",
      "7\n",
      "8\n",
      "9\n"
     ]
    }
   ],
   "source": [
    "for i in range(10):\n",
    "    print(i)"
   ]
  },
  {
   "cell_type": "code",
   "execution_count": 54,
   "id": "fifth-parliament",
   "metadata": {},
   "outputs": [
    {
     "name": "stdout",
     "output_type": "stream",
     "text": [
      "0\n",
      "3\n",
      "6\n",
      "9\n",
      "12\n",
      "15\n",
      "18\n",
      "21\n",
      "24\n",
      "27\n"
     ]
    }
   ],
   "source": [
    "for i in range(10):\n",
    "    print(i*3)"
   ]
  },
  {
   "cell_type": "markdown",
   "id": "numerical-nepal",
   "metadata": {},
   "source": [
    "### **break**"
   ]
  },
  {
   "cell_type": "code",
   "execution_count": 55,
   "id": "closed-religious",
   "metadata": {},
   "outputs": [
    {
     "name": "stdout",
     "output_type": "stream",
     "text": [
      "0\n",
      "1\n",
      "2\n",
      "3\n",
      "4\n",
      "5\n",
      "6\n",
      "7\n",
      "8\n",
      "9\n"
     ]
    }
   ],
   "source": [
    "i = 0\n",
    "\n",
    "while (i < 10):\n",
    "    print(i)\n",
    "    i +=1"
   ]
  },
  {
   "cell_type": "code",
   "execution_count": 56,
   "id": "connected-afghanistan",
   "metadata": {},
   "outputs": [
    {
     "name": "stdout",
     "output_type": "stream",
     "text": [
      "0\n",
      "1\n",
      "2\n",
      "3\n",
      "4\n",
      "5\n",
      "6\n",
      "7\n",
      "8\n",
      "9\n",
      "10\n"
     ]
    }
   ],
   "source": [
    "i = 0 \n",
    "while (i < 20):\n",
    "    print(i)\n",
    "    if (i == 10):\n",
    "        break   #i değerimiz 10 olduğunda fonksiyonumuz çalışmayı durduruyor\n",
    "    i +=1"
   ]
  },
  {
   "cell_type": "code",
   "execution_count": 57,
   "id": "supposed-alignment",
   "metadata": {},
   "outputs": [
    {
     "name": "stdin",
     "output_type": "stream",
     "text": [
      "İsminiz(Çıkmak için q tuşuna basın.):  q\n"
     ]
    },
    {
     "name": "stdout",
     "output_type": "stream",
     "text": [
      "Çıkış yapılıyor...\n"
     ]
    }
   ],
   "source": [
    "while True:\n",
    "    isim = input(\"İsminiz(Çıkmak için q tuşuna basın.): \")\n",
    "    if (isim == \"q\"):\n",
    "        print(\"Çıkış yapılıyor...\")\n",
    "        break #kullanıcı \"q\" değerini girdiğinde fonksiyonumuzun durmasını sağlıyor\n",
    "    print(isim)"
   ]
  },
  {
   "cell_type": "code",
   "execution_count": 58,
   "id": "empty-europe",
   "metadata": {},
   "outputs": [
    {
     "name": "stdout",
     "output_type": "stream",
     "text": [
      "i: 1\n",
      "i: 2\n",
      "i: 4\n",
      "i: 6\n",
      "i: 7\n",
      "i: 8\n",
      "i: 9\n"
     ]
    }
   ],
   "source": [
    "x = [1,2,3,4,5,6,7,8,9]\n",
    "\n",
    "\n",
    "for i in x:\n",
    "    if (i == 3 or i == 5):\n",
    "        continue #değerimiz 3 veya 5 olduğunda fonksiyonumuz başa dönüyor\n",
    "    print(\"i:\",i)"
   ]
  },
  {
   "cell_type": "code",
   "execution_count": 59,
   "id": "wanted-sullivan",
   "metadata": {},
   "outputs": [
    {
     "name": "stdout",
     "output_type": "stream",
     "text": [
      "i: 0\n",
      "i: 1\n",
      "i: 3\n",
      "i: 4\n",
      "i: 5\n",
      "i: 6\n",
      "i: 7\n",
      "i: 8\n",
      "i: 9\n"
     ]
    }
   ],
   "source": [
    "i = 0\n",
    "while (i < 10):\n",
    "    \n",
    "    if (i == 2):\n",
    "        i += 1\n",
    "        continue #i değerimiz 2 olduğunda fonksiyonumuz başa dönüyor\n",
    "        \n",
    "    print(\"i:\",i)\n",
    "    i += 1"
   ]
  },
  {
   "cell_type": "code",
   "execution_count": null,
   "id": "palestinian-kingston",
   "metadata": {},
   "outputs": [],
   "source": [
    "#Sakın çalıştırma 2 :)\n",
    "while (i < 10):\n",
    "    print(i)\n",
    "    \n",
    "    if (i == 2):\n",
    "        continue #i değerimiz 2 olduğunda fonksiyonumuz başa dönüyor, i değerini arttırmadığımız için i=2 değeri değişmiyor ve fonksiyonumuz sonsuz döngüde kalıyor\n",
    "        \n",
    "    i += 1"
   ]
  },
  {
   "cell_type": "markdown",
   "id": "leading-respect",
   "metadata": {},
   "source": [
    "### **List Comprehension**"
   ]
  },
  {
   "cell_type": "code",
   "execution_count": 60,
   "id": "blank-comparison",
   "metadata": {},
   "outputs": [],
   "source": [
    "x = [1,2,3,4]\n",
    "x.append(5)"
   ]
  },
  {
   "cell_type": "code",
   "execution_count": 61,
   "id": "competitive-roberts",
   "metadata": {},
   "outputs": [
    {
     "name": "stdout",
     "output_type": "stream",
     "text": [
      "[1, 2, 3, 4, 5]\n"
     ]
    }
   ],
   "source": [
    "print(x)"
   ]
  },
  {
   "cell_type": "code",
   "execution_count": 62,
   "id": "thick-dakota",
   "metadata": {},
   "outputs": [
    {
     "name": "stdout",
     "output_type": "stream",
     "text": [
      "[2, 4, 6, 8, 10]\n"
     ]
    }
   ],
   "source": [
    "x = [1,2,3,4,5]\n",
    "y = list ()\n",
    "\n",
    "for i in x:\n",
    "    y.append(2*i)\n",
    "print(y)"
   ]
  },
  {
   "cell_type": "code",
   "execution_count": 63,
   "id": "attractive-married",
   "metadata": {},
   "outputs": [
    {
     "name": "stdout",
     "output_type": "stream",
     "text": [
      "[2, 4, 6, 8, 10]\n"
     ]
    }
   ],
   "source": [
    "a = [1,2,3,4,5]\n",
    "b = [i*2 for i in a] # List Comprehension\n",
    "\n",
    "print(b)"
   ]
  },
  {
   "cell_type": "code",
   "execution_count": 64,
   "id": "spanish-pasta",
   "metadata": {},
   "outputs": [
    {
     "name": "stdout",
     "output_type": "stream",
     "text": [
      "[3, 6, 9, 12, 15]\n"
     ]
    }
   ],
   "source": [
    "a = [1,2,3,4,5]\n",
    "b = [i*3 for i in a] # List Comprehension\n",
    "\n",
    "print(b)"
   ]
  },
  {
   "cell_type": "code",
   "execution_count": 65,
   "id": "through-lender",
   "metadata": {},
   "outputs": [
    {
     "name": "stdout",
     "output_type": "stream",
     "text": [
      "[2, 12, 30]\n"
     ]
    }
   ],
   "source": [
    "x = [(1,2),(3,4),(5,6)]\n",
    "y = [a*b for (a,b) in x] # List Comprehension\n",
    "\n",
    "print(y)"
   ]
  },
  {
   "cell_type": "code",
   "execution_count": 66,
   "id": "durable-weekly",
   "metadata": {},
   "outputs": [
    {
     "name": "stdout",
     "output_type": "stream",
     "text": [
      "[1, 2, 3, 4, 5, 7, 8, 10]\n"
     ]
    }
   ],
   "source": [
    "x = [1,2,3,4,5,6,7,8,9,10]\n",
    "y = [i for i in x if not (i == 6 or i == 9)] # List Comprehension\n",
    "\n",
    "print(y)"
   ]
  },
  {
   "cell_type": "code",
   "execution_count": 67,
   "id": "tender-border",
   "metadata": {},
   "outputs": [
    {
     "name": "stdout",
     "output_type": "stream",
     "text": [
      "[1, 2, 3]\n",
      "[4, 5, 6, 7, 8]\n",
      "[9, 10, 11, 12, 13, 14, 15]\n"
     ]
    }
   ],
   "source": [
    "x = [[1,2,3],[4,5,6,7,8],[9,10,11,12,13,14,15]]\n",
    "y = list()\n",
    "for i in x:\n",
    "    print(i)"
   ]
  },
  {
   "cell_type": "code",
   "execution_count": 68,
   "id": "controlling-tooth",
   "metadata": {},
   "outputs": [
    {
     "name": "stdout",
     "output_type": "stream",
     "text": [
      "a: 1\n",
      "a: 2\n",
      "a: 3\n",
      "a: 4\n",
      "a: 5\n",
      "a: 6\n",
      "a: 7\n",
      "a: 8\n",
      "a: 9\n",
      "a: 10\n",
      "a: 11\n",
      "a: 12\n",
      "a: 13\n",
      "a: 14\n",
      "a: 15\n",
      "[1, 2, 3, 4, 5, 6, 7, 8, 9, 10, 11, 12, 13, 14, 15]\n"
     ]
    }
   ],
   "source": [
    "x = [[1,2,3],[4,5,6,7,8],[9,10,11,12,13,14,15]]\n",
    "y = list()\n",
    "for i in x:\n",
    "    for a in i:\n",
    "        print(\"a:\",a)\n",
    "        y.append(a)\n",
    "print(y)"
   ]
  },
  {
   "cell_type": "code",
   "execution_count": 69,
   "id": "entire-fellowship",
   "metadata": {},
   "outputs": [
    {
     "name": "stdout",
     "output_type": "stream",
     "text": [
      "[1, 2, 3, 4, 5, 6, 7, 8, 9, 10, 11, 12, 13, 14, 15]\n"
     ]
    }
   ],
   "source": [
    "x = [[1,2,3],[4,5,6,7,8],[9,10,11,12,13,14,15]]\n",
    "y = [a for i in x for a in i]\n",
    "print(y)"
   ]
  },
  {
   "cell_type": "markdown",
   "id": "specialized-macintosh",
   "metadata": {},
   "source": [
    "#### **Örnek Uygulamalar**"
   ]
  },
  {
   "cell_type": "code",
   "execution_count": 70,
   "id": "surprised-messaging",
   "metadata": {},
   "outputs": [
    {
     "name": "stdout",
     "output_type": "stream",
     "text": [
      "********************\n",
      "X Bank ATM\n",
      "********************\n",
      "\n",
      "İşlemler:\n",
      "\n",
      "1. Bakiye Sorgulama\n",
      "2. Para Yatırma\n",
      "3. Para Çekme\n",
      "\n",
      "Programdan 'q' tuşu ile çıkabilirsiniz.\n",
      "\n",
      "\n"
     ]
    },
    {
     "name": "stdin",
     "output_type": "stream",
     "text": [
      "İşlemi giriniz: 1\n"
     ]
    },
    {
     "name": "stdout",
     "output_type": "stream",
     "text": [
      "Bakiyeniz 1000 tldir\n"
     ]
    },
    {
     "name": "stdin",
     "output_type": "stream",
     "text": [
      "İşlemi giriniz: q\n"
     ]
    },
    {
     "name": "stdout",
     "output_type": "stream",
     "text": [
      "Yine bekleriz....\n"
     ]
    }
   ],
   "source": [
    "print(\"********************\\nX Bank ATM\\n********************\")\n",
    "\n",
    "print(\"\"\"\n",
    "İşlemler:\n",
    "\n",
    "1. Bakiye Sorgulama\n",
    "2. Para Yatırma\n",
    "3. Para Çekme\n",
    "\n",
    "Programdan 'q' tuşu ile çıkabilirsiniz.\n",
    "\n",
    "\"\"\")\n",
    "\n",
    "bakiye  = 1000 # Bakiyemiz 1000 lira olsun.\n",
    "\n",
    "while True:\n",
    "    işlem = input(\"İşlemi giriniz:\")\n",
    "\n",
    "    if (işlem == \"q\"):\n",
    "        print(\"Yine bekleriz....\")\n",
    "        break\n",
    "    elif (işlem == \"1\"):\n",
    "        print(\"Bakiyeniz {} tldir\".format(bakiye))\n",
    "    elif (işlem == \"2\"):\n",
    "        miktar = int(input(\"Yatırmak istediğiniz tutar:\"))\n",
    "        bakiye += miktar\n",
    "    elif (işlem == \"3\"):\n",
    "        miktar = int(input(\"Çekmek istediğiniz tutar:\"))\n",
    "        if (bakiye - miktar < 0 ):\n",
    "            print(\"Bakiye yetersiz...\")\n",
    "            print(\"Bakiyeniz {} tldir\".format(bakiye))\n",
    "            continue\n",
    "        bakiye -= miktar\n",
    "\n",
    "    else:\n",
    "        print(\"Lütfen geçerli bir işlem giriniz.\")"
   ]
  },
  {
   "cell_type": "code",
   "execution_count": 71,
   "id": "devoted-benefit",
   "metadata": {},
   "outputs": [
    {
     "name": "stdout",
     "output_type": "stream",
     "text": [
      "**********************\n",
      "Faktoriyel Bulma Programı\n",
      "\n",
      "Programdan çıkmak için 'q' ya basın.\n",
      "**********************\n"
     ]
    },
    {
     "name": "stdin",
     "output_type": "stream",
     "text": [
      "Sayı: q\n"
     ]
    },
    {
     "name": "stdout",
     "output_type": "stream",
     "text": [
      "Programdan çıkılıyor...\n"
     ]
    }
   ],
   "source": [
    "print(\"\"\"**********************\n",
    "Faktoriyel Bulma Programı\n",
    "\n",
    "Programdan çıkmak için 'q' ya basın.\n",
    "**********************\"\"\")\n",
    "while True:\n",
    "    sayi =  input(\"Sayı:\")\n",
    "    if (sayi == \"q\"):\n",
    "        print(\"Programdan çıkılıyor...\")\n",
    "        break\n",
    "        \n",
    "    sayi = int(sayi)\n",
    "    faktoriyel = 1\n",
    "    for i in range(2,sayi+1):\n",
    "        faktoriyel *= i\n",
    "\n",
    "    print(\"Faktoriyel:\",faktoriyel)\n"
   ]
  },
  {
   "cell_type": "code",
   "execution_count": 72,
   "id": "sunrise-johnston",
   "metadata": {},
   "outputs": [
    {
     "name": "stdout",
     "output_type": "stream",
     "text": [
      "\n",
      "Fibonacci Serisi yeni bir sayıyı önceki iki sayının toplamı şeklinde oluşturur.\n",
      "\n",
      "1,1,2,3,5,8,13,21,34...............\n",
      "\n"
     ]
    },
    {
     "name": "stdin",
     "output_type": "stream",
     "text": [
      "x değerini giriniz: 5\n"
     ]
    },
    {
     "name": "stdout",
     "output_type": "stream",
     "text": [
      "[1, 1, 2, 3, 5]\n"
     ]
    }
   ],
   "source": [
    "print(\"\"\"\n",
    "Fibonacci Serisi yeni bir sayıyı önceki iki sayının toplamı şeklinde oluşturur.\n",
    "\n",
    "1,1,2,3,5,8,13,21,34...............\n",
    "\"\"\")\n",
    "x = int(input(\"x değerini giriniz:\"))\n",
    "ilk_sayı = 1\n",
    "\n",
    "ikincisayi = 1\n",
    "\n",
    "fibonacci = [ilk_sayı,ikincisayi]\n",
    "for i in range(x-2):\n",
    "\n",
    "    ilk_sayı,ikincisayi = ikincisayi,ilk_sayı + ikincisayi\n",
    "\n",
    "    fibonacci.append(ikincisayi)\n",
    "\n",
    "print(fibonacci)"
   ]
  },
  {
   "cell_type": "code",
   "execution_count": 73,
   "id": "proof-accuracy",
   "metadata": {},
   "outputs": [
    {
     "name": "stdin",
     "output_type": "stream",
     "text": [
      "Vize notunuzu giriniz:  87\n",
      "Final notunuzu giriniz:  92\n"
     ]
    },
    {
     "name": "stdout",
     "output_type": "stream",
     "text": [
      "Ortalamanız: 90.0\n",
      "AA\n"
     ]
    }
   ],
   "source": [
    "vize = int(input(\"Vize notunuzu giriniz: \"))\n",
    "final = int(input(\"Final notunuzu giriniz: \"))\n",
    "\n",
    "ortalama = (vize/100*40) + (final/100*60)\n",
    "\n",
    "print(\"Ortalamanız:\" , ortalama)\n",
    "if ortalama >85:\n",
    "    print(\"AA\")\n",
    "elif ortalama > 70:\n",
    "    print(\"BB\")\n",
    "elif ortalama > 60:\n",
    "    print(\"CC\")\n",
    "elif ortalama > 50:\n",
    "    print(\"DD\")\n",
    "else:\n",
    "    print(\"FF\")"
   ]
  }
 ],
 "metadata": {
  "kernelspec": {
   "display_name": "Python 3",
   "language": "python",
   "name": "python3"
  },
  "language_info": {
   "codemirror_mode": {
    "name": "ipython",
    "version": 3
   },
   "file_extension": ".py",
   "mimetype": "text/x-python",
   "name": "python",
   "nbconvert_exporter": "python",
   "pygments_lexer": "ipython3",
   "version": "3.9.1"
  }
 },
 "nbformat": 4,
 "nbformat_minor": 5
}
