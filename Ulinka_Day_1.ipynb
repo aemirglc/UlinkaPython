{
 "cells": [
  {
   "cell_type": "markdown",
   "id": "finished-layer",
   "metadata": {},
   "source": [
    "## **Python Nedir?**\n",
    "+ Programlama dilidir\n",
    "+ Guido Van Rossum\n",
    "+ The Monty Python (Monty Python’s Flying Circus)"
   ]
  },
  {
   "cell_type": "markdown",
   "id": "breathing-radius",
   "metadata": {},
   "source": [
    "## **Neden Python?**\n",
    "+ Kolay bir syntax\n",
    "+ Hızlı hareket edebilme (Az kod, çok işlev, derleme vs.)\n",
    "+ Sektörel yeri (Google, Microsoft, Facebook, Nasa ve daha fazlası)\n",
    "+ Platform desteği"
   ]
  },
  {
   "cell_type": "markdown",
   "id": "deadly-thread",
   "metadata": {},
   "source": [
    "### **Tamsayılar (Integer)**\n",
    "Matematikte gördüğümüz tüm sayılar (negatif,pozitif) aslında Python'da bir veri tipidir. Tamsayılar ise ingilizce olarak Integer olarak geçmektedir.\n",
    "\n",
    "Örnek olarak, -1000,34,2,0 gibi sayılar Python'da birer tamsayı(integer) değerleridir.\n",
    "\n",
    "### **Ondalıklı Sayılar (Float)**\n",
    "Ondalıklı sayılar matematikte olduğu gibi, Pythonda da bir veri tipidir.Ondalıklı Sayılar veya diğer adıyla Kayan Sayılar İngilizce olarak Float olarak geçmektedir.\n",
    "\n",
    "Örnek olarak, 1.10, 3.61, -3.54 gibi sayılar Python'da birer ondalıklı sayı(float) değerleridir.\n"
   ]
  },
  {
   "cell_type": "code",
   "execution_count": 1,
   "id": "corporate-income",
   "metadata": {},
   "outputs": [
    {
     "data": {
      "text/plain": [
       "23"
      ]
     },
     "execution_count": 1,
     "metadata": {},
     "output_type": "execute_result"
    }
   ],
   "source": [
    "#Toplama işlemi\n",
    "18+5"
   ]
  },
  {
   "cell_type": "code",
   "execution_count": 2,
   "id": "caring-demand",
   "metadata": {},
   "outputs": [
    {
     "data": {
      "text/plain": [
       "5"
      ]
     },
     "execution_count": 2,
     "metadata": {},
     "output_type": "execute_result"
    }
   ],
   "source": [
    "#Çıkartma işlemi\n",
    "20-15"
   ]
  },
  {
   "cell_type": "code",
   "execution_count": 3,
   "id": "maritime-cattle",
   "metadata": {},
   "outputs": [
    {
     "data": {
      "text/plain": [
       "25"
      ]
     },
     "execution_count": 3,
     "metadata": {},
     "output_type": "execute_result"
    }
   ],
   "source": [
    "#Çarpma işlemi\n",
    "5*5"
   ]
  },
  {
   "cell_type": "code",
   "execution_count": 4,
   "id": "portable-simon",
   "metadata": {},
   "outputs": [
    {
     "data": {
      "text/plain": [
       "5.0"
      ]
     },
     "execution_count": 4,
     "metadata": {},
     "output_type": "execute_result"
    }
   ],
   "source": [
    "#Bölme işlemi\n",
    "10/2"
   ]
  },
  {
   "cell_type": "markdown",
   "id": "fossil-factory",
   "metadata": {},
   "source": [
    "### **Değişkenler ve Değişken Tanımlama**\n",
    "+ Değişkenler veri değer tutan birimlerdir."
   ]
  },
  {
   "cell_type": "code",
   "execution_count": 5,
   "id": "preliminary-length",
   "metadata": {},
   "outputs": [],
   "source": [
    "# Değişken ismi ve Değişkenin değeri \n",
    "x = 5"
   ]
  },
  {
   "cell_type": "code",
   "execution_count": 6,
   "id": "dying-triangle",
   "metadata": {},
   "outputs": [
    {
     "data": {
      "text/plain": [
       "5"
      ]
     },
     "execution_count": 6,
     "metadata": {},
     "output_type": "execute_result"
    }
   ],
   "source": [
    "x"
   ]
  },
  {
   "cell_type": "code",
   "execution_count": 7,
   "id": "turned-service",
   "metadata": {},
   "outputs": [
    {
     "data": {
      "text/plain": [
       "25"
      ]
     },
     "execution_count": 7,
     "metadata": {},
     "output_type": "execute_result"
    }
   ],
   "source": [
    "x * x"
   ]
  },
  {
   "cell_type": "code",
   "execution_count": 8,
   "id": "guilty-destination",
   "metadata": {},
   "outputs": [],
   "source": [
    "#Değişkenleri farklı değişkenlere tanımlayabiliyoruz\n",
    "x = 10\n",
    "y = 18\n",
    "z = (2*x) + y"
   ]
  },
  {
   "cell_type": "code",
   "execution_count": 9,
   "id": "executed-newsletter",
   "metadata": {},
   "outputs": [
    {
     "data": {
      "text/plain": [
       "38"
      ]
     },
     "execution_count": 9,
     "metadata": {},
     "output_type": "execute_result"
    }
   ],
   "source": [
    "z"
   ]
  },
  {
   "cell_type": "markdown",
   "id": "deluxe-favor",
   "metadata": {},
   "source": [
    "#### **Dikkat Edilmesi Gerekenler!**\n",
    "+ Değişken isimleri bir sayı ile başlayamaz.\n",
    "+ Değişken ismi kelimelerden oluşuyorsa aralarında boşluk olamaz.\n",
    "+ :'\",<>/?|\\()!@#$%^&*~-+ Buradaki semboller değişken ismi içinde kullanılamaz\n",
    "+ Pythonda tanımlı anahtar kelimeler değişken ismi olarak kullanılamaz.(if, else, not vs. )\n",
    "+ Değişken isimleri sol tarafta yazılmalıdır"
   ]
  },
  {
   "cell_type": "code",
   "execution_count": 10,
   "id": "final-sandwich",
   "metadata": {},
   "outputs": [
    {
     "ename": "SyntaxError",
     "evalue": "invalid syntax (<ipython-input-10-fd7bf046548e>, line 2)",
     "output_type": "error",
     "traceback": [
      "\u001b[1;36m  File \u001b[1;32m\"<ipython-input-10-fd7bf046548e>\"\u001b[1;36m, line \u001b[1;32m2\u001b[0m\n\u001b[1;33m    x@ = 8\u001b[0m\n\u001b[1;37m       ^\u001b[0m\n\u001b[1;31mSyntaxError\u001b[0m\u001b[1;31m:\u001b[0m invalid syntax\n"
     ]
    }
   ],
   "source": [
    "#Semboller değişken olarak kullanılamaz\n",
    "x@ = 8"
   ]
  },
  {
   "cell_type": "code",
   "execution_count": 11,
   "id": "strong-accommodation",
   "metadata": {},
   "outputs": [
    {
     "ename": "SyntaxError",
     "evalue": "cannot assign to literal (<ipython-input-11-25efbf95390a>, line 2)",
     "output_type": "error",
     "traceback": [
      "\u001b[1;36m  File \u001b[1;32m\"<ipython-input-11-25efbf95390a>\"\u001b[1;36m, line \u001b[1;32m2\u001b[0m\n\u001b[1;33m    8 = 18\u001b[0m\n\u001b[1;37m    ^\u001b[0m\n\u001b[1;31mSyntaxError\u001b[0m\u001b[1;31m:\u001b[0m cannot assign to literal\n"
     ]
    }
   ],
   "source": [
    "#sayılar değişken olarak tanımlanamaz\n",
    "8 = 18"
   ]
  },
  {
   "cell_type": "code",
   "execution_count": 12,
   "id": "younger-keeping",
   "metadata": {},
   "outputs": [
    {
     "ename": "SyntaxError",
     "evalue": "invalid syntax (<ipython-input-12-1bc03f63f136>, line 2)",
     "output_type": "error",
     "traceback": [
      "\u001b[1;36m  File \u001b[1;32m\"<ipython-input-12-1bc03f63f136>\"\u001b[1;36m, line \u001b[1;32m2\u001b[0m\n\u001b[1;33m    not = 8\u001b[0m\n\u001b[1;37m        ^\u001b[0m\n\u001b[1;31mSyntaxError\u001b[0m\u001b[1;31m:\u001b[0m invalid syntax\n"
     ]
    }
   ],
   "source": [
    "#not değişken olarak tanımlanamaz\n",
    "not = 8"
   ]
  },
  {
   "cell_type": "code",
   "execution_count": 13,
   "id": "awful-ancient",
   "metadata": {},
   "outputs": [],
   "source": [
    "_x = 50"
   ]
  },
  {
   "cell_type": "code",
   "execution_count": 14,
   "id": "listed-costs",
   "metadata": {},
   "outputs": [
    {
     "data": {
      "text/plain": [
       "50"
      ]
     },
     "execution_count": 14,
     "metadata": {},
     "output_type": "execute_result"
    }
   ],
   "source": [
    "_x"
   ]
  },
  {
   "cell_type": "code",
   "execution_count": 15,
   "id": "written-election",
   "metadata": {},
   "outputs": [],
   "source": [
    "x = 12\n",
    "y = 8"
   ]
  },
  {
   "cell_type": "code",
   "execution_count": 16,
   "id": "tough-match",
   "metadata": {},
   "outputs": [
    {
     "data": {
      "text/plain": [
       "12"
      ]
     },
     "execution_count": 16,
     "metadata": {},
     "output_type": "execute_result"
    }
   ],
   "source": [
    "x"
   ]
  },
  {
   "cell_type": "code",
   "execution_count": 17,
   "id": "major-nickname",
   "metadata": {},
   "outputs": [
    {
     "data": {
      "text/plain": [
       "8"
      ]
     },
     "execution_count": 17,
     "metadata": {},
     "output_type": "execute_result"
    }
   ],
   "source": [
    "y"
   ]
  },
  {
   "cell_type": "code",
   "execution_count": 18,
   "id": "deadly-progressive",
   "metadata": {},
   "outputs": [],
   "source": [
    "#Değişken değiştirme\n",
    "x,y = y,x"
   ]
  },
  {
   "cell_type": "code",
   "execution_count": 19,
   "id": "further-debate",
   "metadata": {},
   "outputs": [
    {
     "data": {
      "text/plain": [
       "8"
      ]
     },
     "execution_count": 19,
     "metadata": {},
     "output_type": "execute_result"
    }
   ],
   "source": [
    "x"
   ]
  },
  {
   "cell_type": "code",
   "execution_count": 20,
   "id": "framed-cooperation",
   "metadata": {},
   "outputs": [
    {
     "data": {
      "text/plain": [
       "12"
      ]
     },
     "execution_count": 20,
     "metadata": {},
     "output_type": "execute_result"
    }
   ],
   "source": [
    "y"
   ]
  },
  {
   "cell_type": "code",
   "execution_count": 21,
   "id": "enormous-algeria",
   "metadata": {},
   "outputs": [],
   "source": [
    "a = 10\n",
    "b = 6"
   ]
  },
  {
   "cell_type": "code",
   "execution_count": 22,
   "id": "atomic-stable",
   "metadata": {},
   "outputs": [
    {
     "data": {
      "text/plain": [
       "10"
      ]
     },
     "execution_count": 22,
     "metadata": {},
     "output_type": "execute_result"
    }
   ],
   "source": [
    "a"
   ]
  },
  {
   "cell_type": "code",
   "execution_count": 23,
   "id": "champion-beginning",
   "metadata": {},
   "outputs": [
    {
     "data": {
      "text/plain": [
       "6"
      ]
     },
     "execution_count": 23,
     "metadata": {},
     "output_type": "execute_result"
    }
   ],
   "source": [
    "b"
   ]
  },
  {
   "cell_type": "code",
   "execution_count": 24,
   "id": "narrow-celtic",
   "metadata": {},
   "outputs": [],
   "source": [
    "#a'yı b'ye eşitliyoruz\n",
    "a = b"
   ]
  },
  {
   "cell_type": "code",
   "execution_count": 25,
   "id": "worst-reader",
   "metadata": {},
   "outputs": [
    {
     "data": {
      "text/plain": [
       "6"
      ]
     },
     "execution_count": 25,
     "metadata": {},
     "output_type": "execute_result"
    }
   ],
   "source": [
    "a"
   ]
  },
  {
   "cell_type": "code",
   "execution_count": 26,
   "id": "excessive-guatemala",
   "metadata": {},
   "outputs": [
    {
     "data": {
      "text/plain": [
       "6"
      ]
     },
     "execution_count": 26,
     "metadata": {},
     "output_type": "execute_result"
    }
   ],
   "source": [
    "b"
   ]
  },
  {
   "cell_type": "code",
   "execution_count": 27,
   "id": "cooked-internet",
   "metadata": {},
   "outputs": [],
   "source": [
    "#b'nin değerini 3 arttırıyoruz\n",
    "b = b + 3"
   ]
  },
  {
   "cell_type": "code",
   "execution_count": 28,
   "id": "domestic-harmony",
   "metadata": {},
   "outputs": [
    {
     "data": {
      "text/plain": [
       "9"
      ]
     },
     "execution_count": 28,
     "metadata": {},
     "output_type": "execute_result"
    }
   ],
   "source": [
    "b"
   ]
  },
  {
   "cell_type": "code",
   "execution_count": 29,
   "id": "municipal-times",
   "metadata": {},
   "outputs": [],
   "source": [
    "#b = b + 3 ile aynı anlama gelir\n",
    "b += 3"
   ]
  },
  {
   "cell_type": "code",
   "execution_count": 30,
   "id": "convertible-growing",
   "metadata": {},
   "outputs": [
    {
     "data": {
      "text/plain": [
       "12"
      ]
     },
     "execution_count": 30,
     "metadata": {},
     "output_type": "execute_result"
    }
   ],
   "source": [
    "b"
   ]
  },
  {
   "cell_type": "code",
   "execution_count": 31,
   "id": "certified-processor",
   "metadata": {},
   "outputs": [],
   "source": [
    "b -= 5"
   ]
  },
  {
   "cell_type": "code",
   "execution_count": 32,
   "id": "tracked-showcase",
   "metadata": {},
   "outputs": [
    {
     "data": {
      "text/plain": [
       "7"
      ]
     },
     "execution_count": 32,
     "metadata": {},
     "output_type": "execute_result"
    }
   ],
   "source": [
    "b"
   ]
  },
  {
   "cell_type": "code",
   "execution_count": 33,
   "id": "relevant-cover",
   "metadata": {},
   "outputs": [],
   "source": [
    "b *= 5"
   ]
  },
  {
   "cell_type": "code",
   "execution_count": 34,
   "id": "alive-atlantic",
   "metadata": {},
   "outputs": [
    {
     "data": {
      "text/plain": [
       "35"
      ]
     },
     "execution_count": 34,
     "metadata": {},
     "output_type": "execute_result"
    }
   ],
   "source": [
    "b"
   ]
  },
  {
   "cell_type": "markdown",
   "id": "increased-impact",
   "metadata": {},
   "source": [
    "### **Uygulama Örneği**"
   ]
  },
  {
   "cell_type": "code",
   "execution_count": 35,
   "id": "caring-teddy",
   "metadata": {},
   "outputs": [],
   "source": [
    "#Yıllık internet & online hizmet harcamaları\n",
    "müzik_hizmeti = 18\n",
    "online_tv = 18\n",
    "internet = 100\n",
    "ay = 12"
   ]
  },
  {
   "cell_type": "code",
   "execution_count": 36,
   "id": "absolute-waters",
   "metadata": {},
   "outputs": [
    {
     "ename": "SyntaxError",
     "evalue": "cannot assign to operator (<ipython-input-36-1d9173153973>, line 2)",
     "output_type": "error",
     "traceback": [
      "\u001b[1;36m  File \u001b[1;32m\"<ipython-input-36-1d9173153973>\"\u001b[1;36m, line \u001b[1;32m2\u001b[0m\n\u001b[1;33m    (müzik_hizmeti + online_tv + internet) * ay = yıl\u001b[0m\n\u001b[1;37m    ^\u001b[0m\n\u001b[1;31mSyntaxError\u001b[0m\u001b[1;31m:\u001b[0m cannot assign to operator\n"
     ]
    }
   ],
   "source": [
    "#Değişkenler sol tarafta olmalıdır\n",
    "(müzik_hizmeti + online_tv + internet) * ay = yıl"
   ]
  },
  {
   "cell_type": "code",
   "execution_count": 37,
   "id": "prime-alabama",
   "metadata": {},
   "outputs": [],
   "source": [
    "yıl = (müzik_hizmeti + online_tv + internet) * ay #işlem sırası matematikteki gibidir"
   ]
  },
  {
   "cell_type": "code",
   "execution_count": 38,
   "id": "contemporary-demonstration",
   "metadata": {},
   "outputs": [
    {
     "data": {
      "text/plain": [
       "1632"
      ]
     },
     "execution_count": 38,
     "metadata": {},
     "output_type": "execute_result"
    }
   ],
   "source": [
    "yıl"
   ]
  },
  {
   "cell_type": "code",
   "execution_count": 39,
   "id": "bored-merchandise",
   "metadata": {},
   "outputs": [],
   "source": [
    "yıl = müzik_hizmeti + online_tv + internet * ay #Hatalı değer"
   ]
  },
  {
   "cell_type": "code",
   "execution_count": 40,
   "id": "optional-marathon",
   "metadata": {},
   "outputs": [
    {
     "data": {
      "text/plain": [
       "1236"
      ]
     },
     "execution_count": 40,
     "metadata": {},
     "output_type": "execute_result"
    }
   ],
   "source": [
    "yıl #hatalı değer"
   ]
  },
  {
   "cell_type": "code",
   "execution_count": 41,
   "id": "editorial-gibraltar",
   "metadata": {},
   "outputs": [],
   "source": [
    "#Dairenin çevresini hesaplama\n",
    "pi_sayisi =  3.14\n",
    "cap = 5\n",
    "cevre = pi_sayisi * cap"
   ]
  },
  {
   "cell_type": "code",
   "execution_count": 42,
   "id": "twelve-quest",
   "metadata": {},
   "outputs": [
    {
     "data": {
      "text/plain": [
       "15.700000000000001"
      ]
     },
     "execution_count": 42,
     "metadata": {},
     "output_type": "execute_result"
    }
   ],
   "source": [
    "cevre"
   ]
  },
  {
   "cell_type": "code",
   "execution_count": 43,
   "id": "optimum-pension",
   "metadata": {},
   "outputs": [],
   "source": [
    "#Daire alanı hesaplama\n",
    "cap = 10\n",
    "yaricap = cap / 2\n",
    "pi = 3.14"
   ]
  },
  {
   "cell_type": "code",
   "execution_count": 44,
   "id": "qualified-binary",
   "metadata": {},
   "outputs": [],
   "source": [
    "alan = pi * (yaricap * yaricap)"
   ]
  },
  {
   "cell_type": "code",
   "execution_count": 45,
   "id": "arabic-oriental",
   "metadata": {},
   "outputs": [
    {
     "data": {
      "text/plain": [
       "78.5"
      ]
     },
     "execution_count": 45,
     "metadata": {},
     "output_type": "execute_result"
    }
   ],
   "source": [
    "alan"
   ]
  },
  {
   "cell_type": "code",
   "execution_count": 46,
   "id": "foster-denmark",
   "metadata": {},
   "outputs": [],
   "source": [
    "alan = pi * (yaricap ** 2) #** işereti kuvveti temsil eder -> yaricap ** 2 = yaricap * yaricap"
   ]
  },
  {
   "cell_type": "code",
   "execution_count": 47,
   "id": "endangered-meeting",
   "metadata": {},
   "outputs": [
    {
     "data": {
      "text/plain": [
       "78.5"
      ]
     },
     "execution_count": 47,
     "metadata": {},
     "output_type": "execute_result"
    }
   ],
   "source": [
    "alan"
   ]
  },
  {
   "cell_type": "code",
   "execution_count": 48,
   "id": "polar-mandate",
   "metadata": {},
   "outputs": [
    {
     "data": {
      "text/plain": [
       "144"
      ]
     },
     "execution_count": 48,
     "metadata": {},
     "output_type": "execute_result"
    }
   ],
   "source": [
    "12 ** 2 #Kuvvet"
   ]
  },
  {
   "cell_type": "code",
   "execution_count": 49,
   "id": "mechanical-price",
   "metadata": {},
   "outputs": [
    {
     "data": {
      "text/plain": [
       "3375"
      ]
     },
     "execution_count": 49,
     "metadata": {},
     "output_type": "execute_result"
    }
   ],
   "source": [
    "15 ** 3 #Kuvvet"
   ]
  },
  {
   "cell_type": "code",
   "execution_count": 50,
   "id": "driving-tucson",
   "metadata": {},
   "outputs": [
    {
     "data": {
      "text/plain": [
       "0"
      ]
     },
     "execution_count": 50,
     "metadata": {},
     "output_type": "execute_result"
    }
   ],
   "source": [
    "18 % 3 #Kalan"
   ]
  },
  {
   "cell_type": "code",
   "execution_count": 51,
   "id": "lesbian-company",
   "metadata": {},
   "outputs": [
    {
     "data": {
      "text/plain": [
       "1"
      ]
     },
     "execution_count": 51,
     "metadata": {},
     "output_type": "execute_result"
    }
   ],
   "source": [
    "19 % 3 #Kalan"
   ]
  },
  {
   "cell_type": "code",
   "execution_count": 52,
   "id": "floppy-mouth",
   "metadata": {},
   "outputs": [
    {
     "data": {
      "text/plain": [
       "6"
      ]
     },
     "execution_count": 52,
     "metadata": {},
     "output_type": "execute_result"
    }
   ],
   "source": [
    "19 // 3 #Tamsayı bölmesi"
   ]
  },
  {
   "cell_type": "markdown",
   "id": "cosmetic-twelve",
   "metadata": {},
   "source": [
    "### **Stringler**"
   ]
  },
  {
   "cell_type": "code",
   "execution_count": 53,
   "id": "permanent-craft",
   "metadata": {},
   "outputs": [
    {
     "data": {
      "text/plain": [
       "'Ulinka'"
      ]
     },
     "execution_count": 53,
     "metadata": {},
     "output_type": "execute_result"
    }
   ],
   "source": [
    "'Ulinka'"
   ]
  },
  {
   "cell_type": "code",
   "execution_count": 54,
   "id": "confidential-drawing",
   "metadata": {},
   "outputs": [
    {
     "data": {
      "text/plain": [
       "'Ulinka'"
      ]
     },
     "execution_count": 54,
     "metadata": {},
     "output_type": "execute_result"
    }
   ],
   "source": [
    "\"Ulinka\""
   ]
  },
  {
   "cell_type": "code",
   "execution_count": 55,
   "id": "intensive-necklace",
   "metadata": {},
   "outputs": [
    {
     "data": {
      "text/plain": [
       "'Ulinka'"
      ]
     },
     "execution_count": 55,
     "metadata": {},
     "output_type": "execute_result"
    }
   ],
   "source": [
    "\"\"\"Ulinka\"\"\""
   ]
  },
  {
   "cell_type": "code",
   "execution_count": 56,
   "id": "innovative-relief",
   "metadata": {},
   "outputs": [
    {
     "ename": "SyntaxError",
     "evalue": "EOL while scanning string literal (<ipython-input-56-40e798afb5ea>, line 2)",
     "output_type": "error",
     "traceback": [
      "\u001b[1;36m  File \u001b[1;32m\"<ipython-input-56-40e798afb5ea>\"\u001b[1;36m, line \u001b[1;32m2\u001b[0m\n\u001b[1;33m    'Emirhan GÜLEÇ\"\u001b[0m\n\u001b[1;37m                   ^\u001b[0m\n\u001b[1;31mSyntaxError\u001b[0m\u001b[1;31m:\u001b[0m EOL while scanning string literal\n"
     ]
    }
   ],
   "source": [
    "#Başlangıç ve bitişteki tırnak sayısı eşit olmalıdır\n",
    "'Emirhan GÜLEÇ\""
   ]
  },
  {
   "cell_type": "code",
   "execution_count": 57,
   "id": "egyptian-arizona",
   "metadata": {},
   "outputs": [
    {
     "ename": "SyntaxError",
     "evalue": "invalid syntax (<ipython-input-57-b52af3ae6726>, line 2)",
     "output_type": "error",
     "traceback": [
      "\u001b[1;36m  File \u001b[1;32m\"<ipython-input-57-b52af3ae6726>\"\u001b[1;36m, line \u001b[1;32m2\u001b[0m\n\u001b[1;33m    'Ulinka'nın etkinliği'\u001b[0m\n\u001b[1;37m            ^\u001b[0m\n\u001b[1;31mSyntaxError\u001b[0m\u001b[1;31m:\u001b[0m invalid syntax\n"
     ]
    }
   ],
   "source": [
    "#Cümle içindeki tırnak işaretlerine dikkat!\n",
    "'Ulinka'nın etkinliği'"
   ]
  },
  {
   "cell_type": "code",
   "execution_count": 58,
   "id": "psychological-property",
   "metadata": {},
   "outputs": [
    {
     "data": {
      "text/plain": [
       "\"Ulinka'nın etkinliği\""
      ]
     },
     "execution_count": 58,
     "metadata": {},
     "output_type": "execute_result"
    }
   ],
   "source": [
    "#\\n ile cümle içindeki tırnak işaretini geçersiz kılıyoruz\n",
    "'Ulinka\\'nın etkinliği'"
   ]
  },
  {
   "cell_type": "code",
   "execution_count": 59,
   "id": "provincial-hepatitis",
   "metadata": {},
   "outputs": [
    {
     "data": {
      "text/plain": [
       "\"Ulinka'nın etkinliği\""
      ]
     },
     "execution_count": 59,
     "metadata": {},
     "output_type": "execute_result"
    }
   ],
   "source": [
    "#çift tırnak kullandığımızda, cümle içindeki tırnak geçersiz hale geliyor\n",
    "\"Ulinka'nın etkinliği\""
   ]
  },
  {
   "cell_type": "code",
   "execution_count": 60,
   "id": "described-motor",
   "metadata": {},
   "outputs": [],
   "source": [
    "#Stringleri de değişkenlere tanımlayabiliiriz\n",
    "Ulinka = \"Ulinka Türkiyenin en aktif topluluğudur!\""
   ]
  },
  {
   "cell_type": "code",
   "execution_count": 61,
   "id": "entire-number",
   "metadata": {},
   "outputs": [
    {
     "data": {
      "text/plain": [
       "'Ulinka Türkiyenin en aktif topluluğudur!'"
      ]
     },
     "execution_count": 61,
     "metadata": {},
     "output_type": "execute_result"
    }
   ],
   "source": [
    "Ulinka"
   ]
  },
  {
   "cell_type": "markdown",
   "id": "apparent-consequence",
   "metadata": {},
   "source": [
    "### **İndeksler**\n",
    "+ Pythonda ve genellikle çoğu programlama dilinde stringlerin indekslenmesi \"0\" dan başlamaktadır."
   ]
  },
  {
   "cell_type": "code",
   "execution_count": 62,
   "id": "incorrect-dress",
   "metadata": {},
   "outputs": [],
   "source": [
    "x = \"Emirhan\""
   ]
  },
  {
   "cell_type": "code",
   "execution_count": 63,
   "id": "physical-botswana",
   "metadata": {},
   "outputs": [
    {
     "data": {
      "text/plain": [
       "'E'"
      ]
     },
     "execution_count": 63,
     "metadata": {},
     "output_type": "execute_result"
    }
   ],
   "source": [
    "#0.index değeri\n",
    "x[0]"
   ]
  },
  {
   "cell_type": "code",
   "execution_count": 64,
   "id": "geographic-bowling",
   "metadata": {},
   "outputs": [
    {
     "data": {
      "text/plain": [
       "'i'"
      ]
     },
     "execution_count": 64,
     "metadata": {},
     "output_type": "execute_result"
    }
   ],
   "source": [
    "#2.index değeri\n",
    "x[2]"
   ]
  },
  {
   "cell_type": "code",
   "execution_count": 65,
   "id": "cooked-shape",
   "metadata": {},
   "outputs": [
    {
     "data": {
      "text/plain": [
       "'a'"
      ]
     },
     "execution_count": 65,
     "metadata": {},
     "output_type": "execute_result"
    }
   ],
   "source": [
    "#Sondan 2.index değeri\n",
    "x[-2]"
   ]
  },
  {
   "cell_type": "code",
   "execution_count": 66,
   "id": "distributed-gravity",
   "metadata": {},
   "outputs": [],
   "source": [
    "a = \"Ulinka Uludağ\""
   ]
  },
  {
   "cell_type": "code",
   "execution_count": 67,
   "id": "senior-postcard",
   "metadata": {},
   "outputs": [
    {
     "data": {
      "text/plain": [
       "'Ulinka'"
      ]
     },
     "execution_count": 67,
     "metadata": {},
     "output_type": "execute_result"
    }
   ],
   "source": [
    "#Başlangıçtan, 6. indekse kadar alır\n",
    "a[0:6]"
   ]
  },
  {
   "cell_type": "code",
   "execution_count": 68,
   "id": "actual-brooklyn",
   "metadata": {},
   "outputs": [
    {
     "data": {
      "text/plain": [
       "'Uik '"
      ]
     },
     "execution_count": 68,
     "metadata": {},
     "output_type": "execute_result"
    }
   ],
   "source": [
    "#Başlangıçtan, 7. indekse kadar gider, 2şer 2şer atlayarak gider.\n",
    "a[0:7:2]"
   ]
  },
  {
   "cell_type": "code",
   "execution_count": 69,
   "id": "existing-standard",
   "metadata": {},
   "outputs": [
    {
     "data": {
      "text/plain": [
       "'Un '"
      ]
     },
     "execution_count": 69,
     "metadata": {},
     "output_type": "execute_result"
    }
   ],
   "source": [
    "#Başlangıçtan, 8. indekse kadar gider, 3er 3er atlayarak gider.\n",
    "a[0:8:3]"
   ]
  },
  {
   "cell_type": "code",
   "execution_count": 70,
   "id": "wound-victor",
   "metadata": {},
   "outputs": [
    {
     "data": {
      "text/plain": [
       "'Uludağ'"
      ]
     },
     "execution_count": 70,
     "metadata": {},
     "output_type": "execute_result"
    }
   ],
   "source": [
    "#Başlangıçtan sona kadar gider\n",
    "a[7:]"
   ]
  },
  {
   "cell_type": "code",
   "execution_count": 71,
   "id": "subjective-luxury",
   "metadata": {},
   "outputs": [
    {
     "data": {
      "text/plain": [
       "'ğadulU aknilU'"
      ]
     },
     "execution_count": 71,
     "metadata": {},
     "output_type": "execute_result"
    }
   ],
   "source": [
    "#Tersten yazdırır\n",
    "a[::-1]"
   ]
  },
  {
   "cell_type": "markdown",
   "id": "smoking-latin",
   "metadata": {},
   "source": [
    "### **Len Fonksiyonu**\n",
    "+ Toplamda kaç indekse sahip olduğumuzu bulmamızı sağlar. (Len fonksiyonunda saymaya 1'den başlar ör. \"Ulinka\" stringinin **len** değeri 6 iken en büyük indeksi 5'tir."
   ]
  },
  {
   "cell_type": "code",
   "execution_count": 72,
   "id": "grand-tractor",
   "metadata": {},
   "outputs": [
    {
     "data": {
      "text/plain": [
       "'Ulinka Uludağ'"
      ]
     },
     "execution_count": 72,
     "metadata": {},
     "output_type": "execute_result"
    }
   ],
   "source": [
    "a"
   ]
  },
  {
   "cell_type": "code",
   "execution_count": 73,
   "id": "cutting-airplane",
   "metadata": {},
   "outputs": [],
   "source": [
    "b = \"Ulinka\""
   ]
  },
  {
   "cell_type": "code",
   "execution_count": 74,
   "id": "academic-anime",
   "metadata": {},
   "outputs": [
    {
     "data": {
      "text/plain": [
       "6"
      ]
     },
     "execution_count": 74,
     "metadata": {},
     "output_type": "execute_result"
    }
   ],
   "source": [
    "len(b)"
   ]
  },
  {
   "cell_type": "code",
   "execution_count": 75,
   "id": "developing-princeton",
   "metadata": {},
   "outputs": [
    {
     "data": {
      "text/plain": [
       "13"
      ]
     },
     "execution_count": 75,
     "metadata": {},
     "output_type": "execute_result"
    }
   ],
   "source": [
    "len(\"Ulinka Uludağ\")"
   ]
  },
  {
   "cell_type": "markdown",
   "id": "sharing-morris",
   "metadata": {},
   "source": [
    "### **Veri tipi Dönüşümleri**\n"
   ]
  },
  {
   "cell_type": "code",
   "execution_count": 76,
   "id": "metric-credits",
   "metadata": {},
   "outputs": [],
   "source": [
    "x = 5"
   ]
  },
  {
   "cell_type": "code",
   "execution_count": 77,
   "id": "outside-finger",
   "metadata": {},
   "outputs": [
    {
     "data": {
      "text/plain": [
       "5"
      ]
     },
     "execution_count": 77,
     "metadata": {},
     "output_type": "execute_result"
    }
   ],
   "source": [
    "#x=int\n",
    "x"
   ]
  },
  {
   "cell_type": "code",
   "execution_count": 78,
   "id": "judicial-agency",
   "metadata": {},
   "outputs": [
    {
     "data": {
      "text/plain": [
       "5.0"
      ]
     },
     "execution_count": 78,
     "metadata": {},
     "output_type": "execute_result"
    }
   ],
   "source": [
    "#x'in float değerini görmemizi sağlar\n",
    "float(x)"
   ]
  },
  {
   "cell_type": "code",
   "execution_count": 79,
   "id": "demographic-internship",
   "metadata": {},
   "outputs": [
    {
     "data": {
      "text/plain": [
       "'5'"
      ]
     },
     "execution_count": 79,
     "metadata": {},
     "output_type": "execute_result"
    }
   ],
   "source": [
    "#x'in string değerini görmemizi sağlar\n",
    "str(x)"
   ]
  },
  {
   "cell_type": "code",
   "execution_count": 80,
   "id": "casual-circular",
   "metadata": {},
   "outputs": [],
   "source": [
    "pi = 3.14"
   ]
  },
  {
   "cell_type": "code",
   "execution_count": 81,
   "id": "numerical-heater",
   "metadata": {},
   "outputs": [
    {
     "data": {
      "text/plain": [
       "3"
      ]
     },
     "execution_count": 81,
     "metadata": {},
     "output_type": "execute_result"
    }
   ],
   "source": [
    "#pi'nin integer değerini görmemizi sağlar\n",
    "int(pi)"
   ]
  },
  {
   "cell_type": "code",
   "execution_count": 82,
   "id": "annual-hacker",
   "metadata": {},
   "outputs": [
    {
     "data": {
      "text/plain": [
       "'3.14'"
      ]
     },
     "execution_count": 82,
     "metadata": {},
     "output_type": "execute_result"
    }
   ],
   "source": [
    "#pi'nin string değerini görmemizi sağlar\n",
    "str(pi)"
   ]
  },
  {
   "cell_type": "code",
   "execution_count": 83,
   "id": "vertical-activation",
   "metadata": {},
   "outputs": [
    {
     "data": {
      "text/plain": [
       "float"
      ]
     },
     "execution_count": 83,
     "metadata": {},
     "output_type": "execute_result"
    }
   ],
   "source": [
    "#pi'nin tipini görmemizi sağlar\n",
    "type(pi)"
   ]
  },
  {
   "cell_type": "code",
   "execution_count": 84,
   "id": "conservative-population",
   "metadata": {},
   "outputs": [
    {
     "ename": "ValueError",
     "evalue": "invalid literal for int() with base 10: 'Ulinka1999'",
     "output_type": "error",
     "traceback": [
      "\u001b[1;31m---------------------------------------------------------------------------\u001b[0m",
      "\u001b[1;31mValueError\u001b[0m                                Traceback (most recent call last)",
      "\u001b[1;32m<ipython-input-84-4951f2de61b8>\u001b[0m in \u001b[0;36m<module>\u001b[1;34m\u001b[0m\n\u001b[0;32m      1\u001b[0m \u001b[1;31m#Ulinka değerinin int karşılığı olmadığı için hata alırız.\u001b[0m\u001b[1;33m\u001b[0m\u001b[1;33m\u001b[0m\u001b[1;33m\u001b[0m\u001b[0m\n\u001b[1;32m----> 2\u001b[1;33m \u001b[0mint\u001b[0m\u001b[1;33m(\u001b[0m\u001b[1;34m\"Ulinka1999\"\u001b[0m\u001b[1;33m)\u001b[0m\u001b[1;33m\u001b[0m\u001b[1;33m\u001b[0m\u001b[0m\n\u001b[0m",
      "\u001b[1;31mValueError\u001b[0m: invalid literal for int() with base 10: 'Ulinka1999'"
     ]
    }
   ],
   "source": [
    "#Ulinka değerinin int karşılığı olmadığı için hata alırız.\n",
    "int(\"Ulinka1999\")"
   ]
  },
  {
   "cell_type": "code",
   "execution_count": 85,
   "id": "difficult-seeking",
   "metadata": {},
   "outputs": [
    {
     "data": {
      "text/plain": [
       "str"
      ]
     },
     "execution_count": 85,
     "metadata": {},
     "output_type": "execute_result"
    }
   ],
   "source": [
    "type(\"1999\")"
   ]
  },
  {
   "cell_type": "code",
   "execution_count": 86,
   "id": "civilian-philippines",
   "metadata": {},
   "outputs": [
    {
     "data": {
      "text/plain": [
       "1999"
      ]
     },
     "execution_count": 86,
     "metadata": {},
     "output_type": "execute_result"
    }
   ],
   "source": [
    "int(\"1999\")"
   ]
  },
  {
   "cell_type": "code",
   "execution_count": 87,
   "id": "covered-washer",
   "metadata": {},
   "outputs": [
    {
     "data": {
      "text/plain": [
       "1999.0"
      ]
     },
     "execution_count": 87,
     "metadata": {},
     "output_type": "execute_result"
    }
   ],
   "source": [
    "float(\"1999\")"
   ]
  },
  {
   "cell_type": "markdown",
   "id": "military-subsection",
   "metadata": {},
   "source": [
    "### **print() Fonksiyonu**\n",
    "+ Fonksiyonları yazdırmamızı sağlar\n",
    "+ Jupyter Notebook & Google Colab gibi bazı derleyicilerde print kullanmadan sonucu yazdırabiliriz fakar PyCharm, VsCode gibi derleyicilerde hata alırız."
   ]
  },
  {
   "cell_type": "code",
   "execution_count": 88,
   "id": "dense-landing",
   "metadata": {},
   "outputs": [
    {
     "data": {
      "text/plain": [
       "'Emirhan GÜLEÇ'"
      ]
     },
     "execution_count": 88,
     "metadata": {},
     "output_type": "execute_result"
    }
   ],
   "source": [
    "\"Emirhan GÜLEÇ\""
   ]
  },
  {
   "cell_type": "code",
   "execution_count": 89,
   "id": "clean-saudi",
   "metadata": {},
   "outputs": [
    {
     "name": "stdout",
     "output_type": "stream",
     "text": [
      "Emirhan GÜLEÇ\n"
     ]
    }
   ],
   "source": [
    "print(\"Emirhan GÜLEÇ\")"
   ]
  },
  {
   "cell_type": "code",
   "execution_count": 90,
   "id": "threaded-blond",
   "metadata": {},
   "outputs": [
    {
     "ename": "NameError",
     "evalue": "name 'Emirhan' is not defined",
     "output_type": "error",
     "traceback": [
      "\u001b[1;31m---------------------------------------------------------------------------\u001b[0m",
      "\u001b[1;31mNameError\u001b[0m                                 Traceback (most recent call last)",
      "\u001b[1;32m<ipython-input-90-3a457efaf6b7>\u001b[0m in \u001b[0;36m<module>\u001b[1;34m\u001b[0m\n\u001b[0;32m      1\u001b[0m \u001b[1;31m#Emirhan'da tırnak işareti olmadığı için hata alırız\u001b[0m\u001b[1;33m\u001b[0m\u001b[1;33m\u001b[0m\u001b[1;33m\u001b[0m\u001b[0m\n\u001b[1;32m----> 2\u001b[1;33m \u001b[0mprint\u001b[0m\u001b[1;33m(\u001b[0m\u001b[1;34m\"Ahmet\"\u001b[0m \u001b[1;33m+\u001b[0m \u001b[0mEmirhan\u001b[0m \u001b[1;33m+\u001b[0m \u001b[1;34m\"GÜLEÇ\"\u001b[0m\u001b[1;33m)\u001b[0m\u001b[1;33m\u001b[0m\u001b[1;33m\u001b[0m\u001b[0m\n\u001b[0m",
      "\u001b[1;31mNameError\u001b[0m: name 'Emirhan' is not defined"
     ]
    }
   ],
   "source": [
    "#Emirhan'da tırnak işareti olmadığı için hata alırız\n",
    "print(\"Ahmet\" + Emirhan + \"GÜLEÇ\")"
   ]
  },
  {
   "cell_type": "code",
   "execution_count": 91,
   "id": "median-title",
   "metadata": {},
   "outputs": [],
   "source": [
    "#Stringleri değişken olarak tanımlayabiliriz\n",
    "Emirhan = \"Emirhan\""
   ]
  },
  {
   "cell_type": "code",
   "execution_count": 92,
   "id": "extreme-leave",
   "metadata": {},
   "outputs": [
    {
     "name": "stdout",
     "output_type": "stream",
     "text": [
      "AhmetEmirhanGÜLEÇ\n"
     ]
    }
   ],
   "source": [
    "#Emirhan'ı bir string olarak tanımladığmız için artık hata almayız\n",
    "print(\"Ahmet\" + Emirhan + \"GÜLEÇ\")"
   ]
  },
  {
   "cell_type": "code",
   "execution_count": 93,
   "id": "married-brunei",
   "metadata": {},
   "outputs": [
    {
     "ename": "SyntaxError",
     "evalue": "unexpected EOF while parsing (<ipython-input-93-ae489efa8def>, line 2)",
     "output_type": "error",
     "traceback": [
      "\u001b[1;36m  File \u001b[1;32m\"<ipython-input-93-ae489efa8def>\"\u001b[1;36m, line \u001b[1;32m2\u001b[0m\n\u001b[1;33m    print (\"Emirhan Güleç\"\u001b[0m\n\u001b[1;37m                          ^\u001b[0m\n\u001b[1;31mSyntaxError\u001b[0m\u001b[1;31m:\u001b[0m unexpected EOF while parsing\n"
     ]
    }
   ],
   "source": [
    "#Parantezi kapatmadığımız için hata alırız!\n",
    "print (\"Emirhan Güleç\""
   ]
  },
  {
   "cell_type": "code",
   "execution_count": 94,
   "id": "capable-tunnel",
   "metadata": {},
   "outputs": [
    {
     "name": "stdout",
     "output_type": "stream",
     "text": [
      "EmirhanGÜLEÇ\n"
     ]
    }
   ],
   "source": [
    "# + işareti kullanmadan stringleri yan yana yazabiliriz\n",
    "print(\"Emirhan\" \"GÜLEÇ\")"
   ]
  },
  {
   "cell_type": "code",
   "execution_count": 95,
   "id": "downtown-reminder",
   "metadata": {},
   "outputs": [
    {
     "name": "stdout",
     "output_type": "stream",
     "text": [
      "Ulinka Uludağ\n"
     ]
    }
   ],
   "source": [
    "#Virgül kullanırsak fonksiyonumuz stringler arasında boşluk bırakacaktır\n",
    "print(\"Ulinka\",\"Uludağ\")"
   ]
  },
  {
   "cell_type": "code",
   "execution_count": 96,
   "id": "southern-partner",
   "metadata": {},
   "outputs": [
    {
     "name": "stdout",
     "output_type": "stream",
     "text": [
      "Emirhan           GÜLEÇ\n"
     ]
    }
   ],
   "source": [
    "#Daha fazla boşluk bırakmak için\n",
    "print(\"Emirhan\"+\"           \" + \"GÜLEÇ\")"
   ]
  },
  {
   "cell_type": "code",
   "execution_count": 97,
   "id": "sharp-bulletin",
   "metadata": {},
   "outputs": [
    {
     "ename": "SyntaxError",
     "evalue": "invalid syntax (<ipython-input-97-9778b7b413d1>, line 2)",
     "output_type": "error",
     "traceback": [
      "\u001b[1;36m  File \u001b[1;32m\"<ipython-input-97-9778b7b413d1>\"\u001b[1;36m, line \u001b[1;32m2\u001b[0m\n\u001b[1;33m    print(\"Emirhan\",,,\"GÜLEÇ\")\u001b[0m\n\u001b[1;37m                    ^\u001b[0m\n\u001b[1;31mSyntaxError\u001b[0m\u001b[1;31m:\u001b[0m invalid syntax\n"
     ]
    }
   ],
   "source": [
    "#Birden fazla virgül yan yana kullanamayız\n",
    "print(\"Emirhan\",,,\"GÜLEÇ\")"
   ]
  },
  {
   "cell_type": "code",
   "execution_count": 98,
   "id": "excited-victoria",
   "metadata": {},
   "outputs": [
    {
     "name": "stdout",
     "output_type": "stream",
     "text": [
      "Emirhan GÜLEÇ 1996\n"
     ]
    }
   ],
   "source": [
    "print(\"Emirhan\",\"GÜLEÇ\",1996)"
   ]
  },
  {
   "cell_type": "code",
   "execution_count": 99,
   "id": "frozen-inside",
   "metadata": {},
   "outputs": [
    {
     "name": "stdout",
     "output_type": "stream",
     "text": [
      "Python programlama dili Guido Van Rossum\n",
      "adlı Hollandalı bir programcı tarafından 90’lı\n",
      "yılların başında geliştirilmeye başlanmıştır. Çoğu\n",
      "insan, isminin Python olmasına bakarak, bu programlama\n",
      "dilinin, adını piton yılanından aldığını düşünür.\n",
      "Ancak zannedildiğinin aksine bu programlama dilinin\n",
      "adı piton yılanından gelmez.\n"
     ]
    }
   ],
   "source": [
    "# 3 tırnak ile alt alta çıktı alabiliriz. \n",
    "print(\"\"\"Python programlama dili Guido Van Rossum\n",
    "adlı Hollandalı bir programcı tarafından 90’lı\n",
    "yılların başında geliştirilmeye başlanmıştır. Çoğu\n",
    "insan, isminin Python olmasına bakarak, bu programlama\n",
    "dilinin, adını piton yılanından aldığını düşünür.\n",
    "Ancak zannedildiğinin aksine bu programlama dilinin\n",
    "adı piton yılanından gelmez.\"\"\")"
   ]
  },
  {
   "cell_type": "code",
   "execution_count": 100,
   "id": "joined-metabolism",
   "metadata": {},
   "outputs": [
    {
     "data": {
      "text/plain": [
       "326"
      ]
     },
     "execution_count": 100,
     "metadata": {},
     "output_type": "execute_result"
    }
   ],
   "source": [
    "len(\"\"\"Python programlama dili Guido Van Rossum\n",
    "adlı Hollandalı bir programcı tarafından 90’lı\n",
    "yılların başında geliştirilmeye başlanmıştır. Çoğu\n",
    "insan, isminin \"Python\" olmasına bakarak, bu programlama\n",
    "dilinin, adını piton yılanından aldığını düşünür.\n",
    "Ancak zannedildiğinin aksine bu programlama dilinin\n",
    "adı piton yılanından gelmez.\"\"\")"
   ]
  },
  {
   "cell_type": "code",
   "execution_count": 101,
   "id": "heard-bumper",
   "metadata": {},
   "outputs": [
    {
     "ename": "SyntaxError",
     "evalue": "EOL while scanning string literal (<ipython-input-101-ebd3993eae24>, line 2)",
     "output_type": "error",
     "traceback": [
      "\u001b[1;36m  File \u001b[1;32m\"<ipython-input-101-ebd3993eae24>\"\u001b[1;36m, line \u001b[1;32m2\u001b[0m\n\u001b[1;33m    print(\"Emirhan\u001b[0m\n\u001b[1;37m                  ^\u001b[0m\n\u001b[1;31mSyntaxError\u001b[0m\u001b[1;31m:\u001b[0m EOL while scanning string literal\n"
     ]
    }
   ],
   "source": [
    "#Çift tırnak kullanımında sözcükleri alt alta yazamayız \n",
    "print(\"Emirhan\n",
    "      Güleç\")"
   ]
  },
  {
   "cell_type": "code",
   "execution_count": 102,
   "id": "thousand-brief",
   "metadata": {},
   "outputs": [
    {
     "name": "stdout",
     "output_type": "stream",
     "text": [
      "Emirhan\n",
      "Güleç\n",
      "123/n456\n"
     ]
    }
   ],
   "source": [
    "#\\n ile kelimeleri alt alta yazabiliriz\n",
    "print(\"Emirhan\\nGüleç\\n123/n456\")"
   ]
  },
  {
   "cell_type": "code",
   "execution_count": 103,
   "id": "correct-bachelor",
   "metadata": {},
   "outputs": [
    {
     "name": "stdout",
     "output_type": "stream",
     "text": [
      "Emirhan\tGüleç\n"
     ]
    }
   ],
   "source": [
    "print(\"Emirhan\\tGüleç\")"
   ]
  },
  {
   "cell_type": "markdown",
   "id": "golden-scheme",
   "metadata": {},
   "source": [
    "### **sep parametresi**\n",
    "print() fonksiyonunda kullanılabilen sep parametresi yazdırdığımız değerlerin arasına istediğimiz karakterlerin yerleştirilmesini sağlar."
   ]
  },
  {
   "cell_type": "code",
   "execution_count": 104,
   "id": "removable-atlas",
   "metadata": {},
   "outputs": [
    {
     "name": "stdout",
     "output_type": "stream",
     "text": [
      "1 2 3 4 5 6 7 8 9\n"
     ]
    }
   ],
   "source": [
    "print(1,2,3,4,5,6,7,8,9)"
   ]
  },
  {
   "cell_type": "code",
   "execution_count": 105,
   "id": "finished-eleven",
   "metadata": {},
   "outputs": [
    {
     "name": "stdout",
     "output_type": "stream",
     "text": [
      "1*2*3*4*5*6*7*8*9\n"
     ]
    }
   ],
   "source": [
    "#Default olarak tanımlanan boşluk yerine * işareti gelir\n",
    "print(1,2,3,4,5,6,7,8,9,sep=\"*\")"
   ]
  },
  {
   "cell_type": "code",
   "execution_count": 106,
   "id": "controlling-perry",
   "metadata": {},
   "outputs": [
    {
     "name": "stdout",
     "output_type": "stream",
     "text": [
      "1\n",
      "2\n",
      "3\n",
      "4\n",
      "5\n",
      "6\n",
      "7\n",
      "8\n",
      "9\n"
     ]
    }
   ],
   "source": [
    "#Default olarak tanımlanan boşluk yerine değerleri alt alta yazdırır\n",
    "print(1,2,3,4,5,6,7,8,9,sep=\"\\n\")"
   ]
  },
  {
   "cell_type": "code",
   "execution_count": 107,
   "id": "permanent-diameter",
   "metadata": {},
   "outputs": [
    {
     "name": "stdout",
     "output_type": "stream",
     "text": [
      "Emirhan\n"
     ]
    }
   ],
   "source": [
    "print(\"Emirhan\")"
   ]
  },
  {
   "cell_type": "code",
   "execution_count": 108,
   "id": "bacterial-disease",
   "metadata": {},
   "outputs": [
    {
     "name": "stdout",
     "output_type": "stream",
     "text": [
      "E m i r h a n\n"
     ]
    }
   ],
   "source": [
    "#Stringi parçalamamızı sağlar\n",
    "print(*\"Emirhan\")"
   ]
  },
  {
   "cell_type": "code",
   "execution_count": 109,
   "id": "adopted-warner",
   "metadata": {},
   "outputs": [
    {
     "name": "stdout",
     "output_type": "stream",
     "text": [
      "E-m-i-r-h-a-n\n"
     ]
    }
   ],
   "source": [
    "print(*\"Emirhan\", sep=\"-\")"
   ]
  },
  {
   "cell_type": "markdown",
   "id": "fancy-forward",
   "metadata": {},
   "source": [
    "### **format metodu**\n",
    "+ Değişkenleri daha rahat tanımlamamızı sağlar. Kodumuz daha düzenli görünür"
   ]
  },
  {
   "cell_type": "code",
   "execution_count": 110,
   "id": "voluntary-preservation",
   "metadata": {},
   "outputs": [],
   "source": [
    "x = \"Ulinka\""
   ]
  },
  {
   "cell_type": "code",
   "execution_count": 111,
   "id": "developing-firewall",
   "metadata": {},
   "outputs": [
    {
     "name": "stdout",
     "output_type": "stream",
     "text": [
      "Ulinka, Uludağ Üniversitesi'nin en iyi topluluğudur!\n"
     ]
    }
   ],
   "source": [
    "#Süslü parantez yerine x değeri geliyor\n",
    "print(\"{}, Uludağ Üniversitesi'nin en iyi topluluğudur!\".format(x))"
   ]
  },
  {
   "cell_type": "code",
   "execution_count": 112,
   "id": "medieval-coordinate",
   "metadata": {},
   "outputs": [
    {
     "name": "stdout",
     "output_type": "stream",
     "text": [
      "Ulinka Uludağ\n"
     ]
    }
   ],
   "source": [
    "#Diğer bir format metodu\n",
    "print(f\"{x} Uludağ\")"
   ]
  },
  {
   "cell_type": "code",
   "execution_count": 113,
   "id": "partial-neighbor",
   "metadata": {},
   "outputs": [],
   "source": [
    "y = \"Uludağ\""
   ]
  },
  {
   "cell_type": "code",
   "execution_count": 114,
   "id": "divine-illness",
   "metadata": {},
   "outputs": [
    {
     "name": "stdout",
     "output_type": "stream",
     "text": [
      "Uludağ Ulinka\n"
     ]
    }
   ],
   "source": [
    "#değişkenlerin sırasını değiştirebiliriz\n",
    "print(\"{1} {0}\".format(x,y))"
   ]
  },
  {
   "cell_type": "code",
   "execution_count": 115,
   "id": "portuguese-player",
   "metadata": {},
   "outputs": [
    {
     "name": "stdout",
     "output_type": "stream",
     "text": [
      "Ulinka Uludağ\n"
     ]
    }
   ],
   "source": [
    "print(\"{0} {1}\".format(x,y))"
   ]
  },
  {
   "cell_type": "code",
   "execution_count": 116,
   "id": "controversial-payment",
   "metadata": {},
   "outputs": [
    {
     "ename": "IndexError",
     "evalue": "Replacement index 2 out of range for positional args tuple",
     "output_type": "error",
     "traceback": [
      "\u001b[1;31m---------------------------------------------------------------------------\u001b[0m",
      "\u001b[1;31mIndexError\u001b[0m                                Traceback (most recent call last)",
      "\u001b[1;32m<ipython-input-116-5aff79609e56>\u001b[0m in \u001b[0;36m<module>\u001b[1;34m\u001b[0m\n\u001b[1;32m----> 1\u001b[1;33m \u001b[0mprint\u001b[0m\u001b[1;33m(\u001b[0m\u001b[1;34m\"{1} {2}\"\u001b[0m\u001b[1;33m.\u001b[0m\u001b[0mformat\u001b[0m\u001b[1;33m(\u001b[0m\u001b[0mx\u001b[0m\u001b[1;33m,\u001b[0m\u001b[0my\u001b[0m\u001b[1;33m)\u001b[0m\u001b[1;33m)\u001b[0m \u001b[1;31m#indeksler 0'dan başlar :)\u001b[0m\u001b[1;33m\u001b[0m\u001b[1;33m\u001b[0m\u001b[0m\n\u001b[0m",
      "\u001b[1;31mIndexError\u001b[0m: Replacement index 2 out of range for positional args tuple"
     ]
    }
   ],
   "source": [
    "print(\"{1} {2}\".format(x,y)) #indeksler 0'dan başlar :)"
   ]
  },
  {
   "cell_type": "code",
   "execution_count": 117,
   "id": "round-conjunction",
   "metadata": {},
   "outputs": [
    {
     "name": "stdout",
     "output_type": "stream",
     "text": [
      "3.15 8.25\n"
     ]
    }
   ],
   "source": [
    "print(\"{:.2f} {:.2f}\".format(3.1454545,8.25455)) #virgülden sonra 2 basamağı alır"
   ]
  },
  {
   "cell_type": "markdown",
   "id": "close-sympathy",
   "metadata": {},
   "source": [
    "### **Listeler**\n"
   ]
  },
  {
   "cell_type": "code",
   "execution_count": 118,
   "id": "induced-paragraph",
   "metadata": {},
   "outputs": [],
   "source": [
    "# Liste elemanları köşeli parantez içine alınarak oluşturulabilir.\n",
    "liste = [1,2,3,4,5,6,7]"
   ]
  },
  {
   "cell_type": "code",
   "execution_count": 119,
   "id": "pointed-consent",
   "metadata": {},
   "outputs": [
    {
     "name": "stdout",
     "output_type": "stream",
     "text": [
      "[1, 2, 3, 4, 5, 6, 7]\n"
     ]
    }
   ],
   "source": [
    "print(liste)"
   ]
  },
  {
   "cell_type": "code",
   "execution_count": 120,
   "id": "domestic-precipitation",
   "metadata": {},
   "outputs": [],
   "source": [
    "liste = [] #Boş liste oluşturur"
   ]
  },
  {
   "cell_type": "code",
   "execution_count": 121,
   "id": "fleet-gentleman",
   "metadata": {},
   "outputs": [
    {
     "name": "stdout",
     "output_type": "stream",
     "text": [
      "[]\n"
     ]
    }
   ],
   "source": [
    "print(liste)"
   ]
  },
  {
   "cell_type": "code",
   "execution_count": 122,
   "id": "homeless-determination",
   "metadata": {},
   "outputs": [],
   "source": [
    "liste = [1,2,3,4,5,6,7]"
   ]
  },
  {
   "cell_type": "code",
   "execution_count": 123,
   "id": "matched-surname",
   "metadata": {},
   "outputs": [
    {
     "data": {
      "text/plain": [
       "7"
      ]
     },
     "execution_count": 123,
     "metadata": {},
     "output_type": "execute_result"
    }
   ],
   "source": [
    "len(liste) #liste uzunluğu"
   ]
  },
  {
   "cell_type": "code",
   "execution_count": 124,
   "id": "signal-inquiry",
   "metadata": {},
   "outputs": [
    {
     "data": {
      "text/plain": [
       "['U', 'l', 'i', 'n', 'k', 'a']"
      ]
     },
     "execution_count": 124,
     "metadata": {},
     "output_type": "execute_result"
    }
   ],
   "source": [
    "list(\"Ulinka\") #Stringin içindekilerle yeni bir liste oluşturur"
   ]
  },
  {
   "cell_type": "code",
   "execution_count": 125,
   "id": "vital-shipping",
   "metadata": {},
   "outputs": [],
   "source": [
    "x = list(\"Ulinka\") #Oluşturulan listenin tanımlanması"
   ]
  },
  {
   "cell_type": "code",
   "execution_count": 126,
   "id": "similar-school",
   "metadata": {},
   "outputs": [
    {
     "name": "stdout",
     "output_type": "stream",
     "text": [
      "['U', 'l', 'i', 'n', 'k', 'a']\n"
     ]
    }
   ],
   "source": [
    "print(x)"
   ]
  },
  {
   "cell_type": "code",
   "execution_count": 127,
   "id": "seasonal-israeli",
   "metadata": {},
   "outputs": [
    {
     "data": {
      "text/plain": [
       "'i'"
      ]
     },
     "execution_count": 127,
     "metadata": {},
     "output_type": "execute_result"
    }
   ],
   "source": [
    "x[2] #Listenin 2.indeksi"
   ]
  },
  {
   "cell_type": "code",
   "execution_count": 128,
   "id": "employed-prague",
   "metadata": {},
   "outputs": [
    {
     "data": {
      "text/plain": [
       "4"
      ]
     },
     "execution_count": 128,
     "metadata": {},
     "output_type": "execute_result"
    }
   ],
   "source": [
    "liste[3]"
   ]
  },
  {
   "cell_type": "code",
   "execution_count": 129,
   "id": "married-jerusalem",
   "metadata": {},
   "outputs": [
    {
     "name": "stdout",
     "output_type": "stream",
     "text": [
      "['U', 'l', 'i', 'n', 'k', 'a', 1, 2, 3, 4, 5, 6, 7]\n"
     ]
    }
   ],
   "source": [
    "print(x+liste) #Listeler birbiriyle toplanabilir"
   ]
  },
  {
   "cell_type": "code",
   "execution_count": 130,
   "id": "heated-rouge",
   "metadata": {},
   "outputs": [],
   "source": [
    "y = x+liste"
   ]
  },
  {
   "cell_type": "code",
   "execution_count": 131,
   "id": "beginning-broadcast",
   "metadata": {},
   "outputs": [
    {
     "name": "stdout",
     "output_type": "stream",
     "text": [
      "['U', 'l', 'i', 'n', 'k', 'a', 1, 2, 3, 4, 5, 6, 7]\n"
     ]
    }
   ],
   "source": [
    "print(y)"
   ]
  },
  {
   "cell_type": "code",
   "execution_count": 132,
   "id": "organizational-pledge",
   "metadata": {},
   "outputs": [
    {
     "name": "stdout",
     "output_type": "stream",
     "text": [
      "7\n"
     ]
    }
   ],
   "source": [
    "print(y[12])"
   ]
  },
  {
   "cell_type": "code",
   "execution_count": 133,
   "id": "designed-centre",
   "metadata": {},
   "outputs": [],
   "source": [
    "y[12] = \"Ulinka\" #Listeler değiştirilebilir, 12.indexin yeni değeri \"Ulinka\""
   ]
  },
  {
   "cell_type": "code",
   "execution_count": 134,
   "id": "bored-keyboard",
   "metadata": {},
   "outputs": [
    {
     "name": "stdout",
     "output_type": "stream",
     "text": [
      "['U', 'l', 'i', 'n', 'k', 'a', 1, 2, 3, 4, 5, 6, 'Ulinka']\n"
     ]
    }
   ],
   "source": [
    "print(y)"
   ]
  },
  {
   "cell_type": "code",
   "execution_count": 135,
   "id": "extra-lottery",
   "metadata": {},
   "outputs": [],
   "source": [
    "y.append(\"Uludağ\") #Listeye ekler"
   ]
  },
  {
   "cell_type": "code",
   "execution_count": 136,
   "id": "closing-second",
   "metadata": {},
   "outputs": [
    {
     "name": "stdout",
     "output_type": "stream",
     "text": [
      "['U', 'l', 'i', 'n', 'k', 'a', 1, 2, 3, 4, 5, 6, 'Ulinka', 'Uludağ']\n"
     ]
    }
   ],
   "source": [
    "print(y)"
   ]
  },
  {
   "cell_type": "code",
   "execution_count": 137,
   "id": "quality-richmond",
   "metadata": {},
   "outputs": [
    {
     "data": {
      "text/plain": [
       "'Uludağ'"
      ]
     },
     "execution_count": 137,
     "metadata": {},
     "output_type": "execute_result"
    }
   ],
   "source": [
    "y.pop() #Son elemanı listeden atar"
   ]
  },
  {
   "cell_type": "code",
   "execution_count": 138,
   "id": "comprehensive-recommendation",
   "metadata": {},
   "outputs": [
    {
     "name": "stdout",
     "output_type": "stream",
     "text": [
      "['U', 'l', 'i', 'n', 'k', 'a', 1, 2, 3, 4, 5, 6, 'Ulinka']\n"
     ]
    }
   ],
   "source": [
    "print(y)"
   ]
  },
  {
   "cell_type": "code",
   "execution_count": 139,
   "id": "residential-panel",
   "metadata": {},
   "outputs": [
    {
     "ename": "TypeError",
     "evalue": "'<' not supported between instances of 'int' and 'str'",
     "output_type": "error",
     "traceback": [
      "\u001b[1;31m---------------------------------------------------------------------------\u001b[0m",
      "\u001b[1;31mTypeError\u001b[0m                                 Traceback (most recent call last)",
      "\u001b[1;32m<ipython-input-139-66c353862997>\u001b[0m in \u001b[0;36m<module>\u001b[1;34m\u001b[0m\n\u001b[1;32m----> 1\u001b[1;33m \u001b[0my\u001b[0m\u001b[1;33m.\u001b[0m\u001b[0msort\u001b[0m\u001b[1;33m(\u001b[0m\u001b[1;33m)\u001b[0m \u001b[1;31m#Küçükten büyüğe sıralar\u001b[0m\u001b[1;33m\u001b[0m\u001b[1;33m\u001b[0m\u001b[0m\n\u001b[0m",
      "\u001b[1;31mTypeError\u001b[0m: '<' not supported between instances of 'int' and 'str'"
     ]
    }
   ],
   "source": [
    "y.sort() #Küçükten büyüğe sıralar"
   ]
  },
  {
   "cell_type": "code",
   "execution_count": 140,
   "id": "structured-graphics",
   "metadata": {},
   "outputs": [
    {
     "name": "stdout",
     "output_type": "stream",
     "text": [
      "[1, 2, 3, 4, 5, 6, 7]\n"
     ]
    }
   ],
   "source": [
    "print(liste)"
   ]
  },
  {
   "cell_type": "code",
   "execution_count": 141,
   "id": "prompt-wilson",
   "metadata": {},
   "outputs": [
    {
     "name": "stdout",
     "output_type": "stream",
     "text": [
      "['U', 'l', 'i', 'n', 'k', 'a']\n"
     ]
    }
   ],
   "source": [
    "print(x)"
   ]
  },
  {
   "cell_type": "code",
   "execution_count": 142,
   "id": "duplicate-production",
   "metadata": {},
   "outputs": [],
   "source": [
    "x.sort() #Büyük ve küçük karakterleri ayrı ayrı sıralar\n"
   ]
  },
  {
   "cell_type": "code",
   "execution_count": 143,
   "id": "lovely-steam",
   "metadata": {},
   "outputs": [
    {
     "name": "stdout",
     "output_type": "stream",
     "text": [
      "['U', 'a', 'i', 'k', 'l', 'n']\n"
     ]
    }
   ],
   "source": [
    "print(x)"
   ]
  },
  {
   "cell_type": "code",
   "execution_count": 144,
   "id": "equipped-princess",
   "metadata": {},
   "outputs": [],
   "source": [
    "x = [\"u\",\"l\",\"i\",\"n\",\"k\",\"a\"]"
   ]
  },
  {
   "cell_type": "code",
   "execution_count": 145,
   "id": "billion-assessment",
   "metadata": {},
   "outputs": [],
   "source": [
    "x.sort()"
   ]
  },
  {
   "cell_type": "code",
   "execution_count": 146,
   "id": "composite-junior",
   "metadata": {},
   "outputs": [
    {
     "name": "stdout",
     "output_type": "stream",
     "text": [
      "['a', 'i', 'k', 'l', 'n', 'u']\n"
     ]
    }
   ],
   "source": [
    "print(x)"
   ]
  },
  {
   "cell_type": "code",
   "execution_count": 147,
   "id": "peaceful-phoenix",
   "metadata": {},
   "outputs": [],
   "source": [
    "x.sort(reverse = True) # Büyükten küçüğe sıralar."
   ]
  },
  {
   "cell_type": "code",
   "execution_count": 148,
   "id": "incident-story",
   "metadata": {},
   "outputs": [
    {
     "name": "stdout",
     "output_type": "stream",
     "text": [
      "['u', 'n', 'l', 'k', 'i', 'a']\n"
     ]
    }
   ],
   "source": [
    "print(x)"
   ]
  },
  {
   "cell_type": "code",
   "execution_count": 149,
   "id": "improving-speech",
   "metadata": {},
   "outputs": [
    {
     "name": "stdout",
     "output_type": "stream",
     "text": [
      "[1, 2, 3, 4, 5, 6, 7]\n"
     ]
    }
   ],
   "source": [
    "print(liste)"
   ]
  },
  {
   "cell_type": "code",
   "execution_count": 150,
   "id": "opened-transformation",
   "metadata": {},
   "outputs": [],
   "source": [
    "x.sort(reverse = True)"
   ]
  },
  {
   "cell_type": "code",
   "execution_count": 151,
   "id": "cellular-ticket",
   "metadata": {},
   "outputs": [
    {
     "name": "stdout",
     "output_type": "stream",
     "text": [
      "['u', 'n', 'l', 'k', 'i', 'a']\n"
     ]
    }
   ],
   "source": [
    "print(x)"
   ]
  },
  {
   "cell_type": "code",
   "execution_count": 152,
   "id": "instant-albert",
   "metadata": {},
   "outputs": [],
   "source": [
    "x.sort()"
   ]
  },
  {
   "cell_type": "code",
   "execution_count": 153,
   "id": "welcome-liechtenstein",
   "metadata": {},
   "outputs": [
    {
     "name": "stdout",
     "output_type": "stream",
     "text": [
      "['a', 'i', 'k', 'l', 'n', 'u']\n"
     ]
    }
   ],
   "source": [
    "print(x)"
   ]
  },
  {
   "cell_type": "markdown",
   "id": "every-object",
   "metadata": {},
   "source": [
    "### **İç içe listeler**\n",
    "+ Bir listenin içinde başka bir liste bulundurmak mümkündür."
   ]
  },
  {
   "cell_type": "code",
   "execution_count": 154,
   "id": "colonial-clinton",
   "metadata": {},
   "outputs": [],
   "source": [
    "x = [1,2,3]\n",
    "y = [4,5,6]\n",
    "z = [7,8,9]\n",
    "\n",
    "a = [x,y,z]"
   ]
  },
  {
   "cell_type": "code",
   "execution_count": 155,
   "id": "patient-portugal",
   "metadata": {},
   "outputs": [
    {
     "name": "stdout",
     "output_type": "stream",
     "text": [
      "[[1, 2, 3], [4, 5, 6], [7, 8, 9]]\n"
     ]
    }
   ],
   "source": [
    "print(a)"
   ]
  },
  {
   "cell_type": "code",
   "execution_count": 156,
   "id": "naval-essex",
   "metadata": {},
   "outputs": [
    {
     "data": {
      "text/plain": [
       "[7, 8, 9]"
      ]
     },
     "execution_count": 156,
     "metadata": {},
     "output_type": "execute_result"
    }
   ],
   "source": [
    "a[2]"
   ]
  },
  {
   "cell_type": "markdown",
   "id": "ranking-defense",
   "metadata": {},
   "source": [
    "### **Tuple**\n",
    "Tuplelar listelere oldukça benzer ancak farkları tuple'ın değiştirilemez oluşudur. Bu yüzden programlarımızda değiştirilmesini istemediğimiz değerleri bir tupleda saklayabiliriz."
   ]
  },
  {
   "cell_type": "code",
   "execution_count": 157,
   "id": "infrared-fiction",
   "metadata": {},
   "outputs": [],
   "source": [
    "# Tuple elemanları parantez içine alınarak oluşturulabilir.\n",
    "x = (1,2,3,4,5,6,7,8,9)"
   ]
  },
  {
   "cell_type": "code",
   "execution_count": 158,
   "id": "north-difficulty",
   "metadata": {},
   "outputs": [
    {
     "name": "stdout",
     "output_type": "stream",
     "text": [
      "(1, 2, 3, 4, 5, 6, 7, 8, 9)\n"
     ]
    }
   ],
   "source": [
    "print(x)"
   ]
  },
  {
   "cell_type": "code",
   "execution_count": 159,
   "id": "dangerous-maria",
   "metadata": {},
   "outputs": [
    {
     "data": {
      "text/plain": [
       "tuple"
      ]
     },
     "execution_count": 159,
     "metadata": {},
     "output_type": "execute_result"
    }
   ],
   "source": [
    "type(x)"
   ]
  },
  {
   "cell_type": "code",
   "execution_count": 160,
   "id": "atlantic-script",
   "metadata": {},
   "outputs": [
    {
     "name": "stdout",
     "output_type": "stream",
     "text": [
      "4\n"
     ]
    }
   ],
   "source": [
    "print(x[3])"
   ]
  },
  {
   "cell_type": "code",
   "execution_count": 161,
   "id": "collected-symposium",
   "metadata": {},
   "outputs": [
    {
     "data": {
      "text/plain": [
       "4"
      ]
     },
     "execution_count": 161,
     "metadata": {},
     "output_type": "execute_result"
    }
   ],
   "source": [
    "x.index(5)"
   ]
  },
  {
   "cell_type": "code",
   "execution_count": 162,
   "id": "north-editor",
   "metadata": {},
   "outputs": [],
   "source": [
    "alfabe = (\"a\",\"b\",\"c\")"
   ]
  },
  {
   "cell_type": "code",
   "execution_count": 163,
   "id": "welsh-mounting",
   "metadata": {},
   "outputs": [
    {
     "data": {
      "text/plain": [
       "2"
      ]
     },
     "execution_count": 163,
     "metadata": {},
     "output_type": "execute_result"
    }
   ],
   "source": [
    "alfabe.index(\"c\")"
   ]
  },
  {
   "cell_type": "code",
   "execution_count": 164,
   "id": "crude-tanzania",
   "metadata": {},
   "outputs": [],
   "source": [
    "alfabe = (\"a\",\"b\",\"c\",\"a\",\"a\")"
   ]
  },
  {
   "cell_type": "code",
   "execution_count": 165,
   "id": "musical-harris",
   "metadata": {},
   "outputs": [
    {
     "data": {
      "text/plain": [
       "3"
      ]
     },
     "execution_count": 165,
     "metadata": {},
     "output_type": "execute_result"
    }
   ],
   "source": [
    "alfabe.count(\"a\")"
   ]
  },
  {
   "cell_type": "code",
   "execution_count": 166,
   "id": "alert-clock",
   "metadata": {},
   "outputs": [
    {
     "ename": "TypeError",
     "evalue": "'tuple' object does not support item assignment",
     "output_type": "error",
     "traceback": [
      "\u001b[1;31m---------------------------------------------------------------------------\u001b[0m",
      "\u001b[1;31mTypeError\u001b[0m                                 Traceback (most recent call last)",
      "\u001b[1;32m<ipython-input-166-3195362dc54f>\u001b[0m in \u001b[0;36m<module>\u001b[1;34m\u001b[0m\n\u001b[1;32m----> 1\u001b[1;33m \u001b[0malfabe\u001b[0m\u001b[1;33m[\u001b[0m\u001b[1;36m2\u001b[0m\u001b[1;33m]\u001b[0m \u001b[1;33m=\u001b[0m \u001b[1;34m\"t\"\u001b[0m \u001b[1;31m#Tupple değiştirilemez\u001b[0m\u001b[1;33m\u001b[0m\u001b[1;33m\u001b[0m\u001b[0m\n\u001b[0m",
      "\u001b[1;31mTypeError\u001b[0m: 'tuple' object does not support item assignment"
     ]
    }
   ],
   "source": [
    "alfabe[2] = \"t\" #Tupple değiştirilemez"
   ]
  },
  {
   "cell_type": "markdown",
   "id": "demanding-lodge",
   "metadata": {},
   "source": [
    "### **Dictionary**\n",
    "+ Değerler key ve value olarak tutular\n"
   ]
  },
  {
   "cell_type": "code",
   "execution_count": 167,
   "id": "mysterious-luxembourg",
   "metadata": {},
   "outputs": [],
   "source": [
    "# Sözlük oluşturma\n",
    "sözlük = {\"elma\":\"kırmızı\",\"bir\":1,\"iki\":2,\"üç\":3}"
   ]
  },
  {
   "cell_type": "code",
   "execution_count": 168,
   "id": "unknown-attachment",
   "metadata": {},
   "outputs": [
    {
     "name": "stdout",
     "output_type": "stream",
     "text": [
      "{'elma': 'kırmızı', 'bir': 1, 'iki': 2, 'üç': 3}\n"
     ]
    }
   ],
   "source": [
    "print(sözlük)"
   ]
  },
  {
   "cell_type": "code",
   "execution_count": 169,
   "id": "sustainable-denial",
   "metadata": {},
   "outputs": [
    {
     "name": "stdout",
     "output_type": "stream",
     "text": [
      "kırmızı\n"
     ]
    }
   ],
   "source": [
    "print(sözlük[\"elma\"]) #Elma anahtar kelimesinin değeri -> Elma = Key - Kırmızı = Value"
   ]
  },
  {
   "cell_type": "code",
   "execution_count": 170,
   "id": "exciting-despite",
   "metadata": {},
   "outputs": [
    {
     "name": "stdout",
     "output_type": "stream",
     "text": [
      "1\n"
     ]
    }
   ],
   "source": [
    "print(sözlük[\"bir\"])"
   ]
  },
  {
   "cell_type": "code",
   "execution_count": 171,
   "id": "coordinate-opposition",
   "metadata": {},
   "outputs": [
    {
     "ename": "KeyError",
     "evalue": "'kırmızı'",
     "output_type": "error",
     "traceback": [
      "\u001b[1;31m---------------------------------------------------------------------------\u001b[0m",
      "\u001b[1;31mKeyError\u001b[0m                                  Traceback (most recent call last)",
      "\u001b[1;32m<ipython-input-171-89247e907ba4>\u001b[0m in \u001b[0;36m<module>\u001b[1;34m\u001b[0m\n\u001b[1;32m----> 1\u001b[1;33m \u001b[0mprint\u001b[0m\u001b[1;33m(\u001b[0m\u001b[0msözlük\u001b[0m\u001b[1;33m[\u001b[0m\u001b[1;34m\"kırmızı\"\u001b[0m\u001b[1;33m]\u001b[0m\u001b[1;33m)\u001b[0m\u001b[1;33m\u001b[0m\u001b[1;33m\u001b[0m\u001b[0m\n\u001b[0m",
      "\u001b[1;31mKeyError\u001b[0m: 'kırmızı'"
     ]
    }
   ],
   "source": [
    "print(sözlük[\"kırmızı\"])"
   ]
  },
  {
   "cell_type": "code",
   "execution_count": 172,
   "id": "civil-mirror",
   "metadata": {},
   "outputs": [],
   "source": [
    "a = {\"bir\" : [1,2,3,4], \"iki\": [[1,2],[3,4],[5,6]],\"üç\" : 15} #Value yerine liste tanımlayabiliriz"
   ]
  },
  {
   "cell_type": "code",
   "execution_count": 173,
   "id": "spanish-sensitivity",
   "metadata": {},
   "outputs": [
    {
     "name": "stdout",
     "output_type": "stream",
     "text": [
      "[1, 2, 3, 4]\n"
     ]
    }
   ],
   "source": [
    "print(a[\"bir\"])"
   ]
  },
  {
   "cell_type": "code",
   "execution_count": 174,
   "id": "political-archives",
   "metadata": {},
   "outputs": [
    {
     "name": "stdout",
     "output_type": "stream",
     "text": [
      "[[1, 2], [3, 4], [5, 6]]\n"
     ]
    }
   ],
   "source": [
    "print(a[\"iki\"])"
   ]
  },
  {
   "cell_type": "code",
   "execution_count": 175,
   "id": "upper-humanity",
   "metadata": {},
   "outputs": [],
   "source": [
    "a[\"üç\"] += 5 #üç anahtar kelimesinin değerini 5 arttırıyoruz"
   ]
  },
  {
   "cell_type": "code",
   "execution_count": 176,
   "id": "legislative-variance",
   "metadata": {},
   "outputs": [
    {
     "name": "stdout",
     "output_type": "stream",
     "text": [
      "20\n"
     ]
    }
   ],
   "source": [
    "print(a[\"üç\"])"
   ]
  },
  {
   "cell_type": "code",
   "execution_count": 177,
   "id": "suburban-archive",
   "metadata": {},
   "outputs": [],
   "source": [
    "#Sözlüğe yeni eleman ekleyebiliriz\n",
    "a[\"dört\"] = 4"
   ]
  },
  {
   "cell_type": "code",
   "execution_count": 178,
   "id": "sticky-sector",
   "metadata": {},
   "outputs": [
    {
     "name": "stdout",
     "output_type": "stream",
     "text": [
      "{'bir': [1, 2, 3, 4], 'iki': [[1, 2], [3, 4], [5, 6]], 'üç': 20, 'dört': 4}\n"
     ]
    }
   ],
   "source": [
    "print(a)"
   ]
  },
  {
   "cell_type": "code",
   "execution_count": 179,
   "id": "agricultural-square",
   "metadata": {},
   "outputs": [],
   "source": [
    "a[\"Ulinka\"] = \"Uludağ\""
   ]
  },
  {
   "cell_type": "code",
   "execution_count": 180,
   "id": "arctic-storm",
   "metadata": {},
   "outputs": [
    {
     "name": "stdout",
     "output_type": "stream",
     "text": [
      "{'bir': [1, 2, 3, 4], 'iki': [[1, 2], [3, 4], [5, 6]], 'üç': 20, 'dört': 4, 'Ulinka': 'Uludağ'}\n"
     ]
    }
   ],
   "source": [
    "print(a)"
   ]
  },
  {
   "cell_type": "code",
   "execution_count": 181,
   "id": "entertaining-enforcement",
   "metadata": {},
   "outputs": [],
   "source": [
    "# İç içe sözlük\n",
    "a = {\"sayılar\":{\"bir\":1,\"iki\":2,\"üç\":3},\"meyveler\":{\"kiraz\":\"yaz\",\"portakal\":\"kış\",\"erik\":\"yaz\"}}"
   ]
  },
  {
   "cell_type": "code",
   "execution_count": 182,
   "id": "compatible-tablet",
   "metadata": {},
   "outputs": [
    {
     "data": {
      "text/plain": [
       "'yaz'"
      ]
     },
     "execution_count": 182,
     "metadata": {},
     "output_type": "execute_result"
    }
   ],
   "source": [
    "a[\"meyveler\"][\"kiraz\"]"
   ]
  },
  {
   "cell_type": "code",
   "execution_count": 183,
   "id": "phantom-panic",
   "metadata": {},
   "outputs": [
    {
     "data": {
      "text/plain": [
       "{'kiraz': 'yaz', 'portakal': 'kış', 'erik': 'yaz'}"
      ]
     },
     "execution_count": 183,
     "metadata": {},
     "output_type": "execute_result"
    }
   ],
   "source": [
    "a[\"meyveler\"]"
   ]
  },
  {
   "cell_type": "markdown",
   "id": "municipal-posting",
   "metadata": {},
   "source": [
    "### **input() Fonksiyonu**\n",
    "+ Kullanıcıdan girdi almamızı sağlar"
   ]
  },
  {
   "cell_type": "code",
   "execution_count": 184,
   "id": "lightweight-medicare",
   "metadata": {},
   "outputs": [
    {
     "name": "stdin",
     "output_type": "stream",
     "text": [
      " \n"
     ]
    },
    {
     "data": {
      "text/plain": [
       "''"
      ]
     },
     "execution_count": 184,
     "metadata": {},
     "output_type": "execute_result"
    }
   ],
   "source": [
    "input()"
   ]
  },
  {
   "cell_type": "code",
   "execution_count": 185,
   "id": "likely-likelihood",
   "metadata": {},
   "outputs": [
    {
     "name": "stdin",
     "output_type": "stream",
     "text": [
      "Kullanıcı adınızı giriniz:  \n"
     ]
    },
    {
     "data": {
      "text/plain": [
       "''"
      ]
     },
     "execution_count": 185,
     "metadata": {},
     "output_type": "execute_result"
    }
   ],
   "source": [
    "input(\"Kullanıcı adınızı giriniz: \")"
   ]
  },
  {
   "cell_type": "code",
   "execution_count": 186,
   "id": "concrete-wireless",
   "metadata": {},
   "outputs": [
    {
     "name": "stdin",
     "output_type": "stream",
     "text": [
      "Kullanıcı adınızı giriniz:  \n"
     ]
    },
    {
     "name": "stdout",
     "output_type": "stream",
     "text": [
      "Kullanıcı adınız:  \n"
     ]
    }
   ],
   "source": [
    "x = input(\"Kullanıcı adınızı giriniz: \")\n",
    "print(\"Kullanıcı adınız: \", x)"
   ]
  },
  {
   "cell_type": "code",
   "execution_count": 187,
   "id": "advanced-coast",
   "metadata": {},
   "outputs": [
    {
     "name": "stdin",
     "output_type": "stream",
     "text": [
      "Sayı giriniz:  \n"
     ]
    },
    {
     "data": {
      "text/plain": [
       "str"
      ]
     },
     "execution_count": 187,
     "metadata": {},
     "output_type": "execute_result"
    }
   ],
   "source": [
    "x = input(\"Sayı giriniz: \")\n",
    "type(x)"
   ]
  },
  {
   "cell_type": "code",
   "execution_count": 188,
   "id": "south-domestic",
   "metadata": {},
   "outputs": [
    {
     "data": {
      "text/plain": [
       "str"
      ]
     },
     "execution_count": 188,
     "metadata": {},
     "output_type": "execute_result"
    }
   ],
   "source": [
    "type(\"8\")"
   ]
  },
  {
   "cell_type": "code",
   "execution_count": 190,
   "id": "european-collar",
   "metadata": {},
   "outputs": [
    {
     "name": "stdin",
     "output_type": "stream",
     "text": [
      "Sayı giriniz:  1\n"
     ]
    },
    {
     "data": {
      "text/plain": [
       "int"
      ]
     },
     "execution_count": 190,
     "metadata": {},
     "output_type": "execute_result"
    }
   ],
   "source": [
    "x = int(input(\"Sayı giriniz: \"))\n",
    "type(x)"
   ]
  },
  {
   "cell_type": "code",
   "execution_count": 191,
   "id": "graphic-transmission",
   "metadata": {},
   "outputs": [
    {
     "name": "stdin",
     "output_type": "stream",
     "text": [
      "Sayı giriniz:  1\n"
     ]
    },
    {
     "name": "stdout",
     "output_type": "stream",
     "text": [
      "111\n"
     ]
    }
   ],
   "source": [
    "#int değerine çevirmediğimiz için matematiksel işlem uygulayamayız\n",
    "x = input(\"Sayı giriniz: \")\n",
    "print(3*x)"
   ]
  },
  {
   "cell_type": "code",
   "execution_count": 192,
   "id": "external-height",
   "metadata": {},
   "outputs": [
    {
     "name": "stdin",
     "output_type": "stream",
     "text": [
      "Sayı giriniz:  1\n"
     ]
    },
    {
     "name": "stdout",
     "output_type": "stream",
     "text": [
      "3\n"
     ]
    }
   ],
   "source": [
    "x = int(input(\"Sayı giriniz: \"))\n",
    "print(3*x)"
   ]
  },
  {
   "cell_type": "code",
   "execution_count": 193,
   "id": "mighty-times",
   "metadata": {},
   "outputs": [
    {
     "name": "stdin",
     "output_type": "stream",
     "text": [
      "Sayı:  1\n",
      "Sayı2:  2\n"
     ]
    },
    {
     "name": "stdout",
     "output_type": "stream",
     "text": [
      "2\n"
     ]
    }
   ],
   "source": [
    "x = int(input(\"Sayı: \"))\n",
    "y = int(input(\"Sayı2: \"))\n",
    "print(x*y)"
   ]
  },
  {
   "cell_type": "code",
   "execution_count": 194,
   "id": "productive-knowing",
   "metadata": {},
   "outputs": [
    {
     "name": "stdin",
     "output_type": "stream",
     "text": [
      "1.sayı 1\n",
      "2.sayı 2\n",
      "3.sayı 3\n"
     ]
    },
    {
     "name": "stdout",
     "output_type": "stream",
     "text": [
      "27\n"
     ]
    }
   ],
   "source": [
    "a = int(input(\"1.sayı\"))\n",
    "b = int(input(\"2.sayı\"))\n",
    "c = int(input(\"3.sayı\"))\n",
    "\n",
    "x = ((3*a) + (4*b) * c)\n",
    "print(x)"
   ]
  },
  {
   "cell_type": "code",
   "execution_count": 195,
   "id": "little-feeling",
   "metadata": {},
   "outputs": [
    {
     "data": {
      "text/plain": [
       "27"
      ]
     },
     "execution_count": 195,
     "metadata": {},
     "output_type": "execute_result"
    }
   ],
   "source": [
    "x"
   ]
  },
  {
   "cell_type": "code",
   "execution_count": 196,
   "id": "reserved-chapel",
   "metadata": {},
   "outputs": [
    {
     "name": "stdout",
     "output_type": "stream",
     "text": [
      " ULİNKA ÜYE FORMU\n",
      " *****************\n",
      "\n"
     ]
    },
    {
     "name": "stdin",
     "output_type": "stream",
     "text": [
      "İsminizi giriniz:  A.Emirhan\n",
      "Soyisminizi giriniz:  GÜLEÇ\n",
      "Hangi üniversitede okuyorsunuz?:  Uludağ Üniversitesi\n",
      "Mail adresinizi giriniz:  iletisim@emirhangulec.com\n"
     ]
    },
    {
     "name": "stdout",
     "output_type": "stream",
     "text": [
      " *****************\n",
      "A.Emirhan GÜLEÇ Uludağ Üniversitesi iletisim@emirhangulec.com\n"
     ]
    }
   ],
   "source": [
    "#Basit bir şekilde, topluluk kayıt formu örneği\n",
    "print(\"\"\" ULİNKA ÜYE FORMU\n",
    " *****************\n",
    "\"\"\")\n",
    "ad = input(\"İsminizi giriniz: \")\n",
    "soyad = input(\"Soyisminizi giriniz: \")\n",
    "üniversite = input(\"Hangi üniversitede okuyorsunuz?: \")\n",
    "mail = input(\"Mail adresinizi giriniz: \")\n",
    "print(\" *****************\")\n",
    "print(ad,soyad,üniversite,mail)"
   ]
  },
  {
   "cell_type": "code",
   "execution_count": 197,
   "id": "functional-intensity",
   "metadata": {},
   "outputs": [],
   "source": [
    "#Boş listeler oluşturuyoruz\n",
    "üye_ad = []\n",
    "üye_soyad = []\n",
    "üye_üniversite = []\n",
    "üye_mail = []"
   ]
  },
  {
   "cell_type": "code",
   "execution_count": 198,
   "id": "joined-zimbabwe",
   "metadata": {},
   "outputs": [
    {
     "name": "stdout",
     "output_type": "stream",
     "text": [
      "[] [] [] []\n"
     ]
    }
   ],
   "source": [
    "print(üye_ad,üye_soyad,üye_üniversite,üye_mail) "
   ]
  },
  {
   "cell_type": "code",
   "execution_count": 199,
   "id": "proper-lucas",
   "metadata": {},
   "outputs": [
    {
     "name": "stdout",
     "output_type": "stream",
     "text": [
      " ULİNKA ÜYE FORMU\n",
      " *****************\n",
      "\n"
     ]
    },
    {
     "name": "stdin",
     "output_type": "stream",
     "text": [
      "İsminizi giriniz:  A.Emirhan\n",
      "Soyisminizi giriniz:  GÜLEÇ\n",
      "Hangi üniversitede okuyorsunuz?:  Uludağ Üniversitesi\n",
      "Mail adresinizi giriniz:  iletisim@emirhangulec.com\n"
     ]
    },
    {
     "name": "stdout",
     "output_type": "stream",
     "text": [
      " *****************\n"
     ]
    }
   ],
   "source": [
    "#Her yeni kaydı append yardımıyla listelerimize ekliyoruz\n",
    "print(\"\"\" ULİNKA ÜYE FORMU\n",
    " *****************\n",
    "\"\"\")\n",
    "ad = input(\"İsminizi giriniz: \")\n",
    "soyad = input(\"Soyisminizi giriniz: \")\n",
    "üniversite = input(\"Hangi üniversitede okuyorsunuz?: \")\n",
    "mail = input(\"Mail adresinizi giriniz: \")\n",
    "print(\" *****************\")\n",
    "\n",
    "üye_ad.append(ad)\n",
    "üye_soyad.append(soyad)\n",
    "üye_üniversite.append(üniversite)\n",
    "üye_mail.append(mail)"
   ]
  },
  {
   "cell_type": "code",
   "execution_count": 200,
   "id": "incident-membership",
   "metadata": {},
   "outputs": [
    {
     "name": "stdout",
     "output_type": "stream",
     "text": [
      "['A.Emirhan'] ['GÜLEÇ'] ['Uludağ Üniversitesi'] ['iletisim@emirhangulec.com']\n"
     ]
    }
   ],
   "source": [
    "print(üye_ad,üye_soyad,üye_üniversite,üye_mail)"
   ]
  },
  {
   "cell_type": "code",
   "execution_count": null,
   "id": "abandoned-yellow",
   "metadata": {},
   "outputs": [],
   "source": []
  }
 ],
 "metadata": {
  "kernelspec": {
   "display_name": "Python 3",
   "language": "python",
   "name": "python3"
  },
  "language_info": {
   "codemirror_mode": {
    "name": "ipython",
    "version": 3
   },
   "file_extension": ".py",
   "mimetype": "text/x-python",
   "name": "python",
   "nbconvert_exporter": "python",
   "pygments_lexer": "ipython3",
   "version": "3.9.1"
  }
 },
 "nbformat": 4,
 "nbformat_minor": 5
}
